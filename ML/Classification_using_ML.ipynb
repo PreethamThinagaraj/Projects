{
  "nbformat": 4,
  "nbformat_minor": 0,
  "metadata": {
    "kernelspec": {
      "display_name": "Python 3",
      "language": "python",
      "name": "python3"
    },
    "language_info": {
      "codemirror_mode": {
        "name": "ipython",
        "version": 3
      },
      "file_extension": ".py",
      "mimetype": "text/x-python",
      "name": "python",
      "nbconvert_exporter": "python",
      "pygments_lexer": "ipython3",
      "version": "3.8.5"
    },
    "colab": {
      "name": "Classification using ML.ipynb",
      "provenance": [],
      "include_colab_link": true
    }
  },
  "cells": [
    {
      "cell_type": "markdown",
      "metadata": {
        "id": "view-in-github",
        "colab_type": "text"
      },
      "source": [
        "<a href=\"https://colab.research.google.com/github/PreethamThinagaraj/Projects/blob/main/ML/Classification_using_ML.ipynb\" target=\"_parent\"><img src=\"https://colab.research.google.com/assets/colab-badge.svg\" alt=\"Open In Colab\"/></a>"
      ]
    },
    {
      "cell_type": "code",
      "metadata": {
        "id": "u2yIx9VNgPb0"
      },
      "source": [
        "import pandas as pd\n",
        "import numpy as np\n",
        "import seaborn as sns\n",
        "import matplotlib.pyplot as plt"
      ],
      "execution_count": null,
      "outputs": []
    },
    {
      "cell_type": "code",
      "metadata": {
        "id": "owyg8TxmgPb1"
      },
      "source": [
        "#reading the data\n",
        "p2_data=pd.read_csv(\"E:/ML Project/CE802_P2_Data/CE802_P2_Data.csv\")"
      ],
      "execution_count": null,
      "outputs": []
    },
    {
      "cell_type": "code",
      "metadata": {
        "id": "_Aumnv_vgPb2",
        "outputId": "05d0b149-e157-4ab8-cc37-1c35e24f2602"
      },
      "source": [
        "p2_data.head(5)"
      ],
      "execution_count": null,
      "outputs": [
        {
          "output_type": "execute_result",
          "data": {
            "text/html": [
              "<div>\n",
              "<style scoped>\n",
              "    .dataframe tbody tr th:only-of-type {\n",
              "        vertical-align: middle;\n",
              "    }\n",
              "\n",
              "    .dataframe tbody tr th {\n",
              "        vertical-align: top;\n",
              "    }\n",
              "\n",
              "    .dataframe thead th {\n",
              "        text-align: right;\n",
              "    }\n",
              "</style>\n",
              "<table border=\"1\" class=\"dataframe\">\n",
              "  <thead>\n",
              "    <tr style=\"text-align: right;\">\n",
              "      <th></th>\n",
              "      <th>F1</th>\n",
              "      <th>F2</th>\n",
              "      <th>F3</th>\n",
              "      <th>F4</th>\n",
              "      <th>F5</th>\n",
              "      <th>F6</th>\n",
              "      <th>F7</th>\n",
              "      <th>F8</th>\n",
              "      <th>F9</th>\n",
              "      <th>F10</th>\n",
              "      <th>F11</th>\n",
              "      <th>F12</th>\n",
              "      <th>F13</th>\n",
              "      <th>F14</th>\n",
              "      <th>F15</th>\n",
              "      <th>Class</th>\n",
              "    </tr>\n",
              "  </thead>\n",
              "  <tbody>\n",
              "    <tr>\n",
              "      <th>0</th>\n",
              "      <td>3.20</td>\n",
              "      <td>-4.91</td>\n",
              "      <td>-41.64</td>\n",
              "      <td>-21.63</td>\n",
              "      <td>8.41</td>\n",
              "      <td>2</td>\n",
              "      <td>5.42</td>\n",
              "      <td>-84.01</td>\n",
              "      <td>-9.40</td>\n",
              "      <td>76.72</td>\n",
              "      <td>-0.42</td>\n",
              "      <td>36</td>\n",
              "      <td>0.33</td>\n",
              "      <td>30.60</td>\n",
              "      <td>NaN</td>\n",
              "      <td>False</td>\n",
              "    </tr>\n",
              "    <tr>\n",
              "      <th>1</th>\n",
              "      <td>3.98</td>\n",
              "      <td>-5.25</td>\n",
              "      <td>-47.64</td>\n",
              "      <td>-23.43</td>\n",
              "      <td>8.66</td>\n",
              "      <td>2</td>\n",
              "      <td>4.32</td>\n",
              "      <td>-83.01</td>\n",
              "      <td>-11.16</td>\n",
              "      <td>2.72</td>\n",
              "      <td>0.50</td>\n",
              "      <td>111</td>\n",
              "      <td>0.84</td>\n",
              "      <td>39.42</td>\n",
              "      <td>9.26</td>\n",
              "      <td>True</td>\n",
              "    </tr>\n",
              "    <tr>\n",
              "      <th>2</th>\n",
              "      <td>12.60</td>\n",
              "      <td>0.41</td>\n",
              "      <td>-50.64</td>\n",
              "      <td>-15.51</td>\n",
              "      <td>16.34</td>\n",
              "      <td>20</td>\n",
              "      <td>-4.00</td>\n",
              "      <td>25.99</td>\n",
              "      <td>-15.08</td>\n",
              "      <td>450.72</td>\n",
              "      <td>-3.60</td>\n",
              "      <td>525</td>\n",
              "      <td>5.10</td>\n",
              "      <td>21.78</td>\n",
              "      <td>NaN</td>\n",
              "      <td>False</td>\n",
              "    </tr>\n",
              "    <tr>\n",
              "      <th>3</th>\n",
              "      <td>14.70</td>\n",
              "      <td>1.09</td>\n",
              "      <td>-50.64</td>\n",
              "      <td>-4.74</td>\n",
              "      <td>15.09</td>\n",
              "      <td>20</td>\n",
              "      <td>-8.16</td>\n",
              "      <td>10.99</td>\n",
              "      <td>-13.12</td>\n",
              "      <td>190.72</td>\n",
              "      <td>-5.71</td>\n",
              "      <td>660</td>\n",
              "      <td>7.25</td>\n",
              "      <td>15.78</td>\n",
              "      <td>6.57</td>\n",
              "      <td>False</td>\n",
              "    </tr>\n",
              "    <tr>\n",
              "      <th>4</th>\n",
              "      <td>2.74</td>\n",
              "      <td>-3.86</td>\n",
              "      <td>-35.64</td>\n",
              "      <td>-23.91</td>\n",
              "      <td>8.67</td>\n",
              "      <td>2</td>\n",
              "      <td>2.80</td>\n",
              "      <td>-53.01</td>\n",
              "      <td>-19.22</td>\n",
              "      <td>24.72</td>\n",
              "      <td>0.59</td>\n",
              "      <td>33</td>\n",
              "      <td>0.85</td>\n",
              "      <td>25.08</td>\n",
              "      <td>NaN</td>\n",
              "      <td>True</td>\n",
              "    </tr>\n",
              "  </tbody>\n",
              "</table>\n",
              "</div>"
            ],
            "text/plain": [
              "      F1    F2     F3     F4     F5  F6    F7     F8     F9     F10   F11  \\\n",
              "0   3.20 -4.91 -41.64 -21.63   8.41   2  5.42 -84.01  -9.40   76.72 -0.42   \n",
              "1   3.98 -5.25 -47.64 -23.43   8.66   2  4.32 -83.01 -11.16    2.72  0.50   \n",
              "2  12.60  0.41 -50.64 -15.51  16.34  20 -4.00  25.99 -15.08  450.72 -3.60   \n",
              "3  14.70  1.09 -50.64  -4.74  15.09  20 -8.16  10.99 -13.12  190.72 -5.71   \n",
              "4   2.74 -3.86 -35.64 -23.91   8.67   2  2.80 -53.01 -19.22   24.72  0.59   \n",
              "\n",
              "   F12   F13    F14   F15  Class  \n",
              "0   36  0.33  30.60   NaN  False  \n",
              "1  111  0.84  39.42  9.26   True  \n",
              "2  525  5.10  21.78   NaN  False  \n",
              "3  660  7.25  15.78  6.57  False  \n",
              "4   33  0.85  25.08   NaN   True  "
            ]
          },
          "metadata": {
            "tags": []
          },
          "execution_count": 3
        }
      ]
    },
    {
      "cell_type": "code",
      "metadata": {
        "id": "CYRdBM8SgPb3",
        "outputId": "8af2fe79-5121-418c-bc55-96bd3492b15a"
      },
      "source": [
        "p2_data.shape"
      ],
      "execution_count": null,
      "outputs": [
        {
          "output_type": "execute_result",
          "data": {
            "text/plain": [
              "(1500, 16)"
            ]
          },
          "metadata": {
            "tags": []
          },
          "execution_count": 4
        }
      ]
    },
    {
      "cell_type": "code",
      "metadata": {
        "id": "NMErF-ezgPb3",
        "outputId": "7b17dd05-05c5-42b5-9e82-246b5cc4946e"
      },
      "source": [
        "p2_data.dtypes"
      ],
      "execution_count": null,
      "outputs": [
        {
          "output_type": "execute_result",
          "data": {
            "text/plain": [
              "F1       float64\n",
              "F2       float64\n",
              "F3       float64\n",
              "F4       float64\n",
              "F5       float64\n",
              "F6         int64\n",
              "F7       float64\n",
              "F8       float64\n",
              "F9       float64\n",
              "F10      float64\n",
              "F11      float64\n",
              "F12        int64\n",
              "F13      float64\n",
              "F14      float64\n",
              "F15      float64\n",
              "Class       bool\n",
              "dtype: object"
            ]
          },
          "metadata": {
            "tags": []
          },
          "execution_count": 5
        }
      ]
    },
    {
      "cell_type": "code",
      "metadata": {
        "id": "YtaiyAUTgPb4",
        "outputId": "c37688a8-4f24-4280-d6fd-9a0e5a2bf472"
      },
      "source": [
        "#checking for null values\n",
        "p2_data.isnull().sum()"
      ],
      "execution_count": null,
      "outputs": [
        {
          "output_type": "execute_result",
          "data": {
            "text/plain": [
              "F1         0\n",
              "F2         0\n",
              "F3         0\n",
              "F4         0\n",
              "F5         0\n",
              "F6         0\n",
              "F7         0\n",
              "F8         0\n",
              "F9         0\n",
              "F10        0\n",
              "F11        0\n",
              "F12        0\n",
              "F13        0\n",
              "F14        0\n",
              "F15      750\n",
              "Class      0\n",
              "dtype: int64"
            ]
          },
          "metadata": {
            "tags": []
          },
          "execution_count": 6
        }
      ]
    },
    {
      "cell_type": "code",
      "metadata": {
        "id": "DH1uuA3egPb4"
      },
      "source": [
        "#mappling true and false to 1 and 0\n",
        "p2_data[\"Class\"] = p2_data[\"Class\"].map({False: 0, True: 1})"
      ],
      "execution_count": null,
      "outputs": []
    },
    {
      "cell_type": "code",
      "metadata": {
        "id": "Hj1TzYTOgPb5",
        "outputId": "31f5bb58-eba3-4616-ec7e-474684f03bc4"
      },
      "source": [
        "#correlation heat map\n",
        "fig, ax = plt.subplots(figsize=(16,5))\n",
        "sns.heatmap(p2_data.corr(), annot=True,ax=ax)\n",
        "plt.show()"
      ],
      "execution_count": null,
      "outputs": [
        {
          "output_type": "display_data",
          "data": {
            "image/png": "[encoded data removed]",
            "text/plain": [
              "<Figure size 1152x360 with 2 Axes>"
            ]
          },
          "metadata": {
            "tags": [],
            "needs_background": "light"
          }
        }
      ]
    },
    {
      "cell_type": "code",
      "metadata": {
        "id": "KUWjx9vogPb5"
      },
      "source": [
        "# fill missing values with mean column values\n",
        "p2_data.fillna(p2_data.mean(), inplace=True)"
      ],
      "execution_count": null,
      "outputs": []
    },
    {
      "cell_type": "code",
      "metadata": {
        "id": "W-KIFSaigPb5"
      },
      "source": [
        "#dropped columns as part of feature selection\n",
        "X = p2_data.drop([\"Class\",\"F11\",\"F14\"],axis=1)\n",
        "#storing the target variable in Y\n",
        "Y = p2_data.Class"
      ],
      "execution_count": null,
      "outputs": []
    },
    {
      "cell_type": "code",
      "metadata": {
        "id": "M3zahmfdgPb6",
        "outputId": "3a3d1f66-1d78-4cd0-b6a1-d83d0dbc335d"
      },
      "source": [
        "X"
      ],
      "execution_count": null,
      "outputs": [
        {
          "output_type": "execute_result",
          "data": {
            "text/html": [
              "<div>\n",
              "<style scoped>\n",
              "    .dataframe tbody tr th:only-of-type {\n",
              "        vertical-align: middle;\n",
              "    }\n",
              "\n",
              "    .dataframe tbody tr th {\n",
              "        vertical-align: top;\n",
              "    }\n",
              "\n",
              "    .dataframe thead th {\n",
              "        text-align: right;\n",
              "    }\n",
              "</style>\n",
              "<table border=\"1\" class=\"dataframe\">\n",
              "  <thead>\n",
              "    <tr style=\"text-align: right;\">\n",
              "      <th></th>\n",
              "      <th>F1</th>\n",
              "      <th>F2</th>\n",
              "      <th>F3</th>\n",
              "      <th>F4</th>\n",
              "      <th>F5</th>\n",
              "      <th>F6</th>\n",
              "      <th>F7</th>\n",
              "      <th>F8</th>\n",
              "      <th>F9</th>\n",
              "      <th>F10</th>\n",
              "      <th>F12</th>\n",
              "      <th>F13</th>\n",
              "      <th>F15</th>\n",
              "    </tr>\n",
              "  </thead>\n",
              "  <tbody>\n",
              "    <tr>\n",
              "      <th>0</th>\n",
              "      <td>3.20</td>\n",
              "      <td>-4.91</td>\n",
              "      <td>-41.64</td>\n",
              "      <td>-21.63</td>\n",
              "      <td>8.41</td>\n",
              "      <td>2</td>\n",
              "      <td>5.42</td>\n",
              "      <td>-84.01</td>\n",
              "      <td>-9.40</td>\n",
              "      <td>76.72</td>\n",
              "      <td>36</td>\n",
              "      <td>0.33</td>\n",
              "      <td>7.683013</td>\n",
              "    </tr>\n",
              "    <tr>\n",
              "      <th>1</th>\n",
              "      <td>3.98</td>\n",
              "      <td>-5.25</td>\n",
              "      <td>-47.64</td>\n",
              "      <td>-23.43</td>\n",
              "      <td>8.66</td>\n",
              "      <td>2</td>\n",
              "      <td>4.32</td>\n",
              "      <td>-83.01</td>\n",
              "      <td>-11.16</td>\n",
              "      <td>2.72</td>\n",
              "      <td>111</td>\n",
              "      <td>0.84</td>\n",
              "      <td>9.260000</td>\n",
              "    </tr>\n",
              "    <tr>\n",
              "      <th>2</th>\n",
              "      <td>12.60</td>\n",
              "      <td>0.41</td>\n",
              "      <td>-50.64</td>\n",
              "      <td>-15.51</td>\n",
              "      <td>16.34</td>\n",
              "      <td>20</td>\n",
              "      <td>-4.00</td>\n",
              "      <td>25.99</td>\n",
              "      <td>-15.08</td>\n",
              "      <td>450.72</td>\n",
              "      <td>525</td>\n",
              "      <td>5.10</td>\n",
              "      <td>7.683013</td>\n",
              "    </tr>\n",
              "    <tr>\n",
              "      <th>3</th>\n",
              "      <td>14.70</td>\n",
              "      <td>1.09</td>\n",
              "      <td>-50.64</td>\n",
              "      <td>-4.74</td>\n",
              "      <td>15.09</td>\n",
              "      <td>20</td>\n",
              "      <td>-8.16</td>\n",
              "      <td>10.99</td>\n",
              "      <td>-13.12</td>\n",
              "      <td>190.72</td>\n",
              "      <td>660</td>\n",
              "      <td>7.25</td>\n",
              "      <td>6.570000</td>\n",
              "    </tr>\n",
              "    <tr>\n",
              "      <th>4</th>\n",
              "      <td>2.74</td>\n",
              "      <td>-3.86</td>\n",
              "      <td>-35.64</td>\n",
              "      <td>-23.91</td>\n",
              "      <td>8.67</td>\n",
              "      <td>2</td>\n",
              "      <td>2.80</td>\n",
              "      <td>-53.01</td>\n",
              "      <td>-19.22</td>\n",
              "      <td>24.72</td>\n",
              "      <td>33</td>\n",
              "      <td>0.85</td>\n",
              "      <td>7.683013</td>\n",
              "    </tr>\n",
              "    <tr>\n",
              "      <th>...</th>\n",
              "      <td>...</td>\n",
              "      <td>...</td>\n",
              "      <td>...</td>\n",
              "      <td>...</td>\n",
              "      <td>...</td>\n",
              "      <td>...</td>\n",
              "      <td>...</td>\n",
              "      <td>...</td>\n",
              "      <td>...</td>\n",
              "      <td>...</td>\n",
              "      <td>...</td>\n",
              "      <td>...</td>\n",
              "      <td>...</td>\n",
              "    </tr>\n",
              "    <tr>\n",
              "      <th>1495</th>\n",
              "      <td>15.60</td>\n",
              "      <td>-2.92</td>\n",
              "      <td>-110.64</td>\n",
              "      <td>-5.94</td>\n",
              "      <td>15.84</td>\n",
              "      <td>20</td>\n",
              "      <td>-4.20</td>\n",
              "      <td>-104.01</td>\n",
              "      <td>-7.90</td>\n",
              "      <td>90.72</td>\n",
              "      <td>720</td>\n",
              "      <td>6.10</td>\n",
              "      <td>7.683013</td>\n",
              "    </tr>\n",
              "    <tr>\n",
              "      <th>1496</th>\n",
              "      <td>0.64</td>\n",
              "      <td>-6.48</td>\n",
              "      <td>-41.64</td>\n",
              "      <td>-21.69</td>\n",
              "      <td>8.74</td>\n",
              "      <td>2</td>\n",
              "      <td>2.74</td>\n",
              "      <td>-65.01</td>\n",
              "      <td>-10.58</td>\n",
              "      <td>70.72</td>\n",
              "      <td>18</td>\n",
              "      <td>0.57</td>\n",
              "      <td>7.700000</td>\n",
              "    </tr>\n",
              "    <tr>\n",
              "      <th>1497</th>\n",
              "      <td>12.00</td>\n",
              "      <td>-1.38</td>\n",
              "      <td>-80.64</td>\n",
              "      <td>-13.14</td>\n",
              "      <td>13.49</td>\n",
              "      <td>20</td>\n",
              "      <td>-1.48</td>\n",
              "      <td>-54.01</td>\n",
              "      <td>-9.00</td>\n",
              "      <td>240.72</td>\n",
              "      <td>270</td>\n",
              "      <td>6.50</td>\n",
              "      <td>7.683013</td>\n",
              "    </tr>\n",
              "    <tr>\n",
              "      <th>1498</th>\n",
              "      <td>18.20</td>\n",
              "      <td>-2.87</td>\n",
              "      <td>-50.64</td>\n",
              "      <td>-5.31</td>\n",
              "      <td>13.34</td>\n",
              "      <td>20</td>\n",
              "      <td>-4.18</td>\n",
              "      <td>-19.01</td>\n",
              "      <td>-8.30</td>\n",
              "      <td>380.72</td>\n",
              "      <td>150</td>\n",
              "      <td>10.15</td>\n",
              "      <td>6.450000</td>\n",
              "    </tr>\n",
              "    <tr>\n",
              "      <th>1499</th>\n",
              "      <td>15.90</td>\n",
              "      <td>-0.03</td>\n",
              "      <td>-50.64</td>\n",
              "      <td>-8.40</td>\n",
              "      <td>13.49</td>\n",
              "      <td>20</td>\n",
              "      <td>-7.34</td>\n",
              "      <td>-14.01</td>\n",
              "      <td>-10.62</td>\n",
              "      <td>230.72</td>\n",
              "      <td>360</td>\n",
              "      <td>7.90</td>\n",
              "      <td>7.683013</td>\n",
              "    </tr>\n",
              "  </tbody>\n",
              "</table>\n",
              "<p>1500 rows × 13 columns</p>\n",
              "</div>"
            ],
            "text/plain": [
              "         F1    F2      F3     F4     F5  F6    F7      F8     F9     F10  F12  \\\n",
              "0      3.20 -4.91  -41.64 -21.63   8.41   2  5.42  -84.01  -9.40   76.72   36   \n",
              "1      3.98 -5.25  -47.64 -23.43   8.66   2  4.32  -83.01 -11.16    2.72  111   \n",
              "2     12.60  0.41  -50.64 -15.51  16.34  20 -4.00   25.99 -15.08  450.72  525   \n",
              "3     14.70  1.09  -50.64  -4.74  15.09  20 -8.16   10.99 -13.12  190.72  660   \n",
              "4      2.74 -3.86  -35.64 -23.91   8.67   2  2.80  -53.01 -19.22   24.72   33   \n",
              "...     ...   ...     ...    ...    ...  ..   ...     ...    ...     ...  ...   \n",
              "1495  15.60 -2.92 -110.64  -5.94  15.84  20 -4.20 -104.01  -7.90   90.72  720   \n",
              "1496   0.64 -6.48  -41.64 -21.69   8.74   2  2.74  -65.01 -10.58   70.72   18   \n",
              "1497  12.00 -1.38  -80.64 -13.14  13.49  20 -1.48  -54.01  -9.00  240.72  270   \n",
              "1498  18.20 -2.87  -50.64  -5.31  13.34  20 -4.18  -19.01  -8.30  380.72  150   \n",
              "1499  15.90 -0.03  -50.64  -8.40  13.49  20 -7.34  -14.01 -10.62  230.72  360   \n",
              "\n",
              "        F13       F15  \n",
              "0      0.33  7.683013  \n",
              "1      0.84  9.260000  \n",
              "2      5.10  7.683013  \n",
              "3      7.25  6.570000  \n",
              "4      0.85  7.683013  \n",
              "...     ...       ...  \n",
              "1495   6.10  7.683013  \n",
              "1496   0.57  7.700000  \n",
              "1497   6.50  7.683013  \n",
              "1498  10.15  6.450000  \n",
              "1499   7.90  7.683013  \n",
              "\n",
              "[1500 rows x 13 columns]"
            ]
          },
          "metadata": {
            "tags": []
          },
          "execution_count": 11
        }
      ]
    },
    {
      "cell_type": "code",
      "metadata": {
        "id": "BEV7jz2-gPb6",
        "outputId": "b344747c-c12b-45e1-b1ba-5e768b216ba4"
      },
      "source": [
        "Y"
      ],
      "execution_count": null,
      "outputs": [
        {
          "output_type": "execute_result",
          "data": {
            "text/plain": [
              "0       0\n",
              "1       1\n",
              "2       0\n",
              "3       0\n",
              "4       1\n",
              "       ..\n",
              "1495    1\n",
              "1496    0\n",
              "1497    0\n",
              "1498    0\n",
              "1499    0\n",
              "Name: Class, Length: 1500, dtype: int64"
            ]
          },
          "metadata": {
            "tags": []
          },
          "execution_count": 12
        }
      ]
    },
    {
      "cell_type": "markdown",
      "metadata": {
        "id": "dGYaYVTfgPb6"
      },
      "source": [
        "# Data normilization for models which perform better with normilized data"
      ]
    },
    {
      "cell_type": "code",
      "metadata": {
        "id": "kPgYQoFkgPb7"
      },
      "source": [
        "#creating a list of headers\n",
        "col_names = list(X.columns)"
      ],
      "execution_count": null,
      "outputs": []
    },
    {
      "cell_type": "code",
      "metadata": {
        "id": "DrQ3Hq4ZgPb7",
        "outputId": "0e47445c-506b-4e9b-f08b-ac92954999ae"
      },
      "source": [
        "col_names"
      ],
      "execution_count": null,
      "outputs": [
        {
          "output_type": "execute_result",
          "data": {
            "text/plain": [
              "['F1',\n",
              " 'F2',\n",
              " 'F3',\n",
              " 'F4',\n",
              " 'F5',\n",
              " 'F6',\n",
              " 'F7',\n",
              " 'F8',\n",
              " 'F9',\n",
              " 'F10',\n",
              " 'F12',\n",
              " 'F13',\n",
              " 'F15']"
            ]
          },
          "metadata": {
            "tags": []
          },
          "execution_count": 14
        }
      ]
    },
    {
      "cell_type": "code",
      "metadata": {
        "id": "tKoNqwrrgPb7"
      },
      "source": [
        "from sklearn.preprocessing import MinMaxScaler\n",
        "# perform a robust scaler transform of the dataset\n",
        "trans = MinMaxScaler()\n",
        "data = trans.fit_transform(X)"
      ],
      "execution_count": null,
      "outputs": []
    },
    {
      "cell_type": "code",
      "metadata": {
        "id": "32LV4rfdgPb7",
        "outputId": "97821542-1dd0-40f4-de29-1db5f64dec58"
      },
      "source": [
        "data"
      ],
      "execution_count": null,
      "outputs": [
        {
          "output_type": "execute_result",
          "data": {
            "text/plain": [
              "array([[0.10191083, 0.49598247, 0.88461538, ..., 0.03076923, 0.03188406,\n",
              "        0.53602625],\n",
              "       [0.12675159, 0.47114682, 0.80769231, ..., 0.09487179, 0.08115942,\n",
              "        0.84645669],\n",
              "       [0.40127389, 0.88458729, 0.76923077, ..., 0.44871795, 0.49275362,\n",
              "        0.53602625],\n",
              "       ...,\n",
              "       [0.38216561, 0.75383492, 0.38461538, ..., 0.23076923, 0.62801932,\n",
              "        0.53602625],\n",
              "       [0.57961783, 0.64499635, 0.76923077, ..., 0.12820513, 0.98067633,\n",
              "        0.29330709],\n",
              "       [0.50636943, 0.85244704, 0.76923077, ..., 0.30769231, 0.76328502,\n",
              "        0.53602625]])"
            ]
          },
          "metadata": {
            "tags": []
          },
          "execution_count": 16
        }
      ]
    },
    {
      "cell_type": "code",
      "metadata": {
        "id": "55srwvLNgPb8"
      },
      "source": [
        "#converting the array into a dataframe\n",
        "dataset = pd.DataFrame(data,columns=col_names)"
      ],
      "execution_count": null,
      "outputs": []
    },
    {
      "cell_type": "code",
      "metadata": {
        "id": "-Xl69gGFgPb8",
        "outputId": "0bd30ac1-7c0e-401c-e8f4-7375aff2a1ed"
      },
      "source": [
        "dataset"
      ],
      "execution_count": null,
      "outputs": [
        {
          "output_type": "execute_result",
          "data": {
            "text/html": [
              "<div>\n",
              "<style scoped>\n",
              "    .dataframe tbody tr th:only-of-type {\n",
              "        vertical-align: middle;\n",
              "    }\n",
              "\n",
              "    .dataframe tbody tr th {\n",
              "        vertical-align: top;\n",
              "    }\n",
              "\n",
              "    .dataframe thead th {\n",
              "        text-align: right;\n",
              "    }\n",
              "</style>\n",
              "<table border=\"1\" class=\"dataframe\">\n",
              "  <thead>\n",
              "    <tr style=\"text-align: right;\">\n",
              "      <th></th>\n",
              "      <th>F1</th>\n",
              "      <th>F2</th>\n",
              "      <th>F3</th>\n",
              "      <th>F4</th>\n",
              "      <th>F5</th>\n",
              "      <th>F6</th>\n",
              "      <th>F7</th>\n",
              "      <th>F8</th>\n",
              "      <th>F9</th>\n",
              "      <th>F10</th>\n",
              "      <th>F12</th>\n",
              "      <th>F13</th>\n",
              "      <th>F15</th>\n",
              "    </tr>\n",
              "  </thead>\n",
              "  <tbody>\n",
              "    <tr>\n",
              "      <th>0</th>\n",
              "      <td>0.101911</td>\n",
              "      <td>0.495982</td>\n",
              "      <td>0.884615</td>\n",
              "      <td>0.442339</td>\n",
              "      <td>0.061084</td>\n",
              "      <td>0.1</td>\n",
              "      <td>0.611756</td>\n",
              "      <td>0.441860</td>\n",
              "      <td>0.774242</td>\n",
              "      <td>0.195918</td>\n",
              "      <td>0.030769</td>\n",
              "      <td>0.031884</td>\n",
              "      <td>0.536026</td>\n",
              "    </tr>\n",
              "    <tr>\n",
              "      <th>1</th>\n",
              "      <td>0.126752</td>\n",
              "      <td>0.471147</td>\n",
              "      <td>0.807692</td>\n",
              "      <td>0.392916</td>\n",
              "      <td>0.085714</td>\n",
              "      <td>0.1</td>\n",
              "      <td>0.569219</td>\n",
              "      <td>0.446512</td>\n",
              "      <td>0.640909</td>\n",
              "      <td>0.044898</td>\n",
              "      <td>0.094872</td>\n",
              "      <td>0.081159</td>\n",
              "      <td>0.846457</td>\n",
              "    </tr>\n",
              "    <tr>\n",
              "      <th>2</th>\n",
              "      <td>0.401274</td>\n",
              "      <td>0.884587</td>\n",
              "      <td>0.769231</td>\n",
              "      <td>0.610379</td>\n",
              "      <td>0.842365</td>\n",
              "      <td>1.0</td>\n",
              "      <td>0.247486</td>\n",
              "      <td>0.953488</td>\n",
              "      <td>0.343939</td>\n",
              "      <td>0.959184</td>\n",
              "      <td>0.448718</td>\n",
              "      <td>0.492754</td>\n",
              "      <td>0.536026</td>\n",
              "    </tr>\n",
              "    <tr>\n",
              "      <th>3</th>\n",
              "      <td>0.468153</td>\n",
              "      <td>0.934259</td>\n",
              "      <td>0.769231</td>\n",
              "      <td>0.906096</td>\n",
              "      <td>0.719212</td>\n",
              "      <td>1.0</td>\n",
              "      <td>0.086620</td>\n",
              "      <td>0.883721</td>\n",
              "      <td>0.492424</td>\n",
              "      <td>0.428571</td>\n",
              "      <td>0.564103</td>\n",
              "      <td>0.700483</td>\n",
              "      <td>0.316929</td>\n",
              "    </tr>\n",
              "    <tr>\n",
              "      <th>4</th>\n",
              "      <td>0.087261</td>\n",
              "      <td>0.572681</td>\n",
              "      <td>0.961538</td>\n",
              "      <td>0.379736</td>\n",
              "      <td>0.086700</td>\n",
              "      <td>0.1</td>\n",
              "      <td>0.510441</td>\n",
              "      <td>0.586047</td>\n",
              "      <td>0.030303</td>\n",
              "      <td>0.089796</td>\n",
              "      <td>0.028205</td>\n",
              "      <td>0.082126</td>\n",
              "      <td>0.536026</td>\n",
              "    </tr>\n",
              "    <tr>\n",
              "      <th>...</th>\n",
              "      <td>...</td>\n",
              "      <td>...</td>\n",
              "      <td>...</td>\n",
              "      <td>...</td>\n",
              "      <td>...</td>\n",
              "      <td>...</td>\n",
              "      <td>...</td>\n",
              "      <td>...</td>\n",
              "      <td>...</td>\n",
              "      <td>...</td>\n",
              "      <td>...</td>\n",
              "      <td>...</td>\n",
              "      <td>...</td>\n",
              "    </tr>\n",
              "    <tr>\n",
              "      <th>1495</th>\n",
              "      <td>0.496815</td>\n",
              "      <td>0.641344</td>\n",
              "      <td>0.000000</td>\n",
              "      <td>0.873147</td>\n",
              "      <td>0.793103</td>\n",
              "      <td>1.0</td>\n",
              "      <td>0.239753</td>\n",
              "      <td>0.348837</td>\n",
              "      <td>0.887879</td>\n",
              "      <td>0.224490</td>\n",
              "      <td>0.615385</td>\n",
              "      <td>0.589372</td>\n",
              "      <td>0.536026</td>\n",
              "    </tr>\n",
              "    <tr>\n",
              "      <th>1496</th>\n",
              "      <td>0.020382</td>\n",
              "      <td>0.381300</td>\n",
              "      <td>0.884615</td>\n",
              "      <td>0.440692</td>\n",
              "      <td>0.093596</td>\n",
              "      <td>0.1</td>\n",
              "      <td>0.508121</td>\n",
              "      <td>0.530233</td>\n",
              "      <td>0.684848</td>\n",
              "      <td>0.183673</td>\n",
              "      <td>0.015385</td>\n",
              "      <td>0.055072</td>\n",
              "      <td>0.539370</td>\n",
              "    </tr>\n",
              "    <tr>\n",
              "      <th>1497</th>\n",
              "      <td>0.382166</td>\n",
              "      <td>0.753835</td>\n",
              "      <td>0.384615</td>\n",
              "      <td>0.675453</td>\n",
              "      <td>0.561576</td>\n",
              "      <td>1.0</td>\n",
              "      <td>0.344934</td>\n",
              "      <td>0.581395</td>\n",
              "      <td>0.804545</td>\n",
              "      <td>0.530612</td>\n",
              "      <td>0.230769</td>\n",
              "      <td>0.628019</td>\n",
              "      <td>0.536026</td>\n",
              "    </tr>\n",
              "    <tr>\n",
              "      <th>1498</th>\n",
              "      <td>0.579618</td>\n",
              "      <td>0.644996</td>\n",
              "      <td>0.769231</td>\n",
              "      <td>0.890445</td>\n",
              "      <td>0.546798</td>\n",
              "      <td>1.0</td>\n",
              "      <td>0.240526</td>\n",
              "      <td>0.744186</td>\n",
              "      <td>0.857576</td>\n",
              "      <td>0.816327</td>\n",
              "      <td>0.128205</td>\n",
              "      <td>0.980676</td>\n",
              "      <td>0.293307</td>\n",
              "    </tr>\n",
              "    <tr>\n",
              "      <th>1499</th>\n",
              "      <td>0.506369</td>\n",
              "      <td>0.852447</td>\n",
              "      <td>0.769231</td>\n",
              "      <td>0.805601</td>\n",
              "      <td>0.561576</td>\n",
              "      <td>1.0</td>\n",
              "      <td>0.118329</td>\n",
              "      <td>0.767442</td>\n",
              "      <td>0.681818</td>\n",
              "      <td>0.510204</td>\n",
              "      <td>0.307692</td>\n",
              "      <td>0.763285</td>\n",
              "      <td>0.536026</td>\n",
              "    </tr>\n",
              "  </tbody>\n",
              "</table>\n",
              "<p>1500 rows × 13 columns</p>\n",
              "</div>"
            ],
            "text/plain": [
              "            F1        F2        F3        F4        F5   F6        F7  \\\n",
              "0     0.101911  0.495982  0.884615  0.442339  0.061084  0.1  0.611756   \n",
              "1     0.126752  0.471147  0.807692  0.392916  0.085714  0.1  0.569219   \n",
              "2     0.401274  0.884587  0.769231  0.610379  0.842365  1.0  0.247486   \n",
              "3     0.468153  0.934259  0.769231  0.906096  0.719212  1.0  0.086620   \n",
              "4     0.087261  0.572681  0.961538  0.379736  0.086700  0.1  0.510441   \n",
              "...        ...       ...       ...       ...       ...  ...       ...   \n",
              "1495  0.496815  0.641344  0.000000  0.873147  0.793103  1.0  0.239753   \n",
              "1496  0.020382  0.381300  0.884615  0.440692  0.093596  0.1  0.508121   \n",
              "1497  0.382166  0.753835  0.384615  0.675453  0.561576  1.0  0.344934   \n",
              "1498  0.579618  0.644996  0.769231  0.890445  0.546798  1.0  0.240526   \n",
              "1499  0.506369  0.852447  0.769231  0.805601  0.561576  1.0  0.118329   \n",
              "\n",
              "            F8        F9       F10       F12       F13       F15  \n",
              "0     0.441860  0.774242  0.195918  0.030769  0.031884  0.536026  \n",
              "1     0.446512  0.640909  0.044898  0.094872  0.081159  0.846457  \n",
              "2     0.953488  0.343939  0.959184  0.448718  0.492754  0.536026  \n",
              "3     0.883721  0.492424  0.428571  0.564103  0.700483  0.316929  \n",
              "4     0.586047  0.030303  0.089796  0.028205  0.082126  0.536026  \n",
              "...        ...       ...       ...       ...       ...       ...  \n",
              "1495  0.348837  0.887879  0.224490  0.615385  0.589372  0.536026  \n",
              "1496  0.530233  0.684848  0.183673  0.015385  0.055072  0.539370  \n",
              "1497  0.581395  0.804545  0.530612  0.230769  0.628019  0.536026  \n",
              "1498  0.744186  0.857576  0.816327  0.128205  0.980676  0.293307  \n",
              "1499  0.767442  0.681818  0.510204  0.307692  0.763285  0.536026  \n",
              "\n",
              "[1500 rows x 13 columns]"
            ]
          },
          "metadata": {
            "tags": []
          },
          "execution_count": 18
        }
      ]
    },
    {
      "cell_type": "code",
      "metadata": {
        "id": "Ravp6MvcgPb8"
      },
      "source": [
        "#data splitting for models which perform better with normalised data for training the model\n",
        "from sklearn.model_selection import train_test_split\n",
        "x1_train,x1_test,y1_train,y1_test=train_test_split(dataset,Y,test_size=0.3)"
      ],
      "execution_count": null,
      "outputs": []
    },
    {
      "cell_type": "code",
      "metadata": {
        "id": "VxdlbsGkgPb8"
      },
      "source": [
        "#creating a empty list to store the accuracy score\n",
        "score=[]\n",
        "#creating the list of model names for plotting\n",
        "Model_name=['Descision Tree','RandomForest','SVC','KNN Classifier','Logistic Regression','XGBoost Classifier']"
      ],
      "execution_count": null,
      "outputs": []
    },
    {
      "cell_type": "markdown",
      "metadata": {
        "id": "sT2anMsggPb9"
      },
      "source": [
        "# Descision tree classifier"
      ]
    },
    {
      "cell_type": "code",
      "metadata": {
        "id": "SWz5OT5BgPb9"
      },
      "source": [
        "from sklearn.model_selection import cross_val_score, cross_val_predict\n",
        "from sklearn import metrics"
      ],
      "execution_count": null,
      "outputs": []
    },
    {
      "cell_type": "code",
      "metadata": {
        "id": "ABvLg5FEgPb9"
      },
      "source": [
        "from sklearn.tree import DecisionTreeClassifier # Import Decision Tree Classifier\n",
        "from sklearn.model_selection import train_test_split # Import train_test_split function\n",
        "from sklearn import metrics #Import scikit-learn metrics module for accuracy calculation"
      ],
      "execution_count": null,
      "outputs": []
    },
    {
      "cell_type": "code",
      "metadata": {
        "id": "SU9jQQOTgPb9"
      },
      "source": [
        "#split the data into training and test\n",
        "from sklearn.model_selection import train_test_split\n",
        "x_train,x_test,y_train,y_test=train_test_split(X,Y,test_size=0.3)"
      ],
      "execution_count": null,
      "outputs": []
    },
    {
      "cell_type": "code",
      "metadata": {
        "id": "EzFXwTo6gPb9",
        "outputId": "e0f7b116-ace7-49dc-e1c9-1f8318fe53f8"
      },
      "source": [
        "# Create Decision Tree classifer object\n",
        "clf = DecisionTreeClassifier()\n",
        "scores = cross_val_score(clf, X , Y, cv=10)\n",
        "print ('Cross-validated scores:', scores)"
      ],
      "execution_count": null,
      "outputs": [
        {
          "output_type": "stream",
          "text": [
            "Cross-validated scores: [0.82666667 0.82666667 0.76       0.75333333 0.81333333 0.77333333\n",
            " 0.72666667 0.83333333 0.77333333 0.84666667]\n"
          ],
          "name": "stdout"
        }
      ]
    },
    {
      "cell_type": "code",
      "metadata": {
        "id": "pePaIZ4fgPb-",
        "outputId": "27c32388-63d9-4c7f-8b6f-586e56e0d5d4"
      },
      "source": [
        "#making predictions using cross validation to validate model\n",
        "predictions = cross_val_predict(clf, X, Y, cv=10)\n",
        "accuracy = metrics.accuracy_score(Y, predictions)\n",
        "print('Cross-Predicted Accuracy:', accuracy)"
      ],
      "execution_count": null,
      "outputs": [
        {
          "output_type": "stream",
          "text": [
            "Cross-Predicted Accuracy: 0.7953333333333333\n"
          ],
          "name": "stdout"
        }
      ]
    },
    {
      "cell_type": "code",
      "metadata": {
        "id": "TPW7SlBqgPb-",
        "outputId": "630b4c00-0fa0-4fd1-d29c-0c1454311752"
      },
      "source": [
        "scores = pd.Series(scores)\n",
        "scores.mean()"
      ],
      "execution_count": null,
      "outputs": [
        {
          "output_type": "execute_result",
          "data": {
            "text/plain": [
              "0.7933333333333332"
            ]
          },
          "metadata": {
            "tags": []
          },
          "execution_count": 26
        }
      ]
    },
    {
      "cell_type": "code",
      "metadata": {
        "id": "rE2MnoyggPb-",
        "outputId": "49aac019-0b83-4838-d8e9-f5a97a5d068e"
      },
      "source": [
        "#fitting the model\n",
        "clf.fit(x_train, y_train)"
      ],
      "execution_count": null,
      "outputs": [
        {
          "output_type": "execute_result",
          "data": {
            "text/plain": [
              "DecisionTreeClassifier()"
            ]
          },
          "metadata": {
            "tags": []
          },
          "execution_count": 27
        }
      ]
    },
    {
      "cell_type": "code",
      "metadata": {
        "id": "bFHgMpwQgPb-"
      },
      "source": [
        "#making predictions\n",
        "y_pred=clf.predict(x_test)"
      ],
      "execution_count": null,
      "outputs": []
    },
    {
      "cell_type": "code",
      "metadata": {
        "id": "SDCLzbvRgPb_",
        "outputId": "d4e97794-1b3d-40a1-8f5b-70951ce28361"
      },
      "source": [
        "#Generaing accuracy score to check the performance of the model\n",
        "metrics.accuracy_score(y_test, y_pred)"
      ],
      "execution_count": null,
      "outputs": [
        {
          "output_type": "execute_result",
          "data": {
            "text/plain": [
              "0.7822222222222223"
            ]
          },
          "metadata": {
            "tags": []
          },
          "execution_count": 29
        }
      ]
    },
    {
      "cell_type": "code",
      "metadata": {
        "id": "OEFSZb6RgPb_"
      },
      "source": [
        "# defining parameter range\n",
        "param_grid = {\n",
        "'criterion' : ['gini', 'entropy'],\n",
        "'max_depth': [2,4,6,8,10,12,14,16,18,20],\n",
        "'min_samples_split': [2,3, 4, 5],\n",
        "'min_impurity_decrease': [0.01 , 0.012,0.004 , 0.008],\n",
        "'min_samples_leaf':[2,5,6,8,10] \n",
        "}"
      ],
      "execution_count": null,
      "outputs": []
    },
    {
      "cell_type": "code",
      "metadata": {
        "id": "H33ZhdI4gPb_",
        "outputId": "fee3290f-0f81-4a22-8d3c-1d4c26e32858"
      },
      "source": [
        "#grid search for tuning the parameters\n",
        "from sklearn.model_selection import GridSearchCV\n",
        "CV_dt = GridSearchCV(estimator=clf, param_grid=param_grid,scoring='accuracy', cv= 5)\n",
        "CV_dt.fit(x_train, y_train)\n",
        "CV_dt.best_params_"
      ],
      "execution_count": null,
      "outputs": [
        {
          "output_type": "execute_result",
          "data": {
            "text/plain": [
              "{'criterion': 'entropy',\n",
              " 'max_depth': 20,\n",
              " 'min_impurity_decrease': 0.004,\n",
              " 'min_samples_leaf': 2,\n",
              " 'min_samples_split': 5}"
            ]
          },
          "metadata": {
            "tags": []
          },
          "execution_count": 31
        }
      ]
    },
    {
      "cell_type": "code",
      "metadata": {
        "id": "OLUVG6wPgPb_"
      },
      "source": [
        "#tuned decision tree classifier\n",
        "clf_t = DecisionTreeClassifier(criterion='entropy', max_depth=20,min_impurity_decrease= 0.004,min_samples_leaf= 2,min_samples_split= 5)"
      ],
      "execution_count": null,
      "outputs": []
    },
    {
      "cell_type": "code",
      "metadata": {
        "id": "GM4pHnvegPcA",
        "outputId": "90c3bdd5-4fe0-4c21-d307-6a6861ce8122"
      },
      "source": [
        "clf_t.fit(x_train, y_train)"
      ],
      "execution_count": null,
      "outputs": [
        {
          "output_type": "execute_result",
          "data": {
            "text/plain": [
              "DecisionTreeClassifier(criterion='entropy', max_depth=20,\n",
              "                       min_impurity_decrease=0.004, min_samples_leaf=2,\n",
              "                       min_samples_split=5)"
            ]
          },
          "metadata": {
            "tags": []
          },
          "execution_count": 102
        }
      ]
    },
    {
      "cell_type": "code",
      "metadata": {
        "id": "nUkEhvX1gPcA"
      },
      "source": [
        "y_pred=clf_t.predict(x_test)"
      ],
      "execution_count": null,
      "outputs": []
    },
    {
      "cell_type": "code",
      "metadata": {
        "id": "oSe_hgTfgPcA",
        "outputId": "e318d935-c662-4a87-8143-d8591209eb81"
      },
      "source": [
        "dt=metrics.accuracy_score(y_test, y_pred)\n",
        "print(\"accuracy_score:\\n\",dt)\n",
        "score.append(dt)"
      ],
      "execution_count": null,
      "outputs": [
        {
          "output_type": "stream",
          "text": [
            "accuracy_score:\n",
            " 0.8177777777777778\n"
          ],
          "name": "stdout"
        }
      ]
    },
    {
      "cell_type": "code",
      "metadata": {
        "id": "0jFaXao7gPcA",
        "outputId": "deeaf88b-58fa-444a-d877-b76f71e1b21a"
      },
      "source": [
        "print('Precision score=',metrics.precision_score(y_test, y_pred))\n",
        "print('Recall score=',metrics.recall_score(y_test, y_pred))"
      ],
      "execution_count": null,
      "outputs": [
        {
          "output_type": "stream",
          "text": [
            "Precision score= 0.8221153846153846\n",
            "Recall score= 0.7916666666666666\n"
          ],
          "name": "stdout"
        }
      ]
    },
    {
      "cell_type": "markdown",
      "metadata": {
        "id": "Nsh38QSMgPcB"
      },
      "source": [
        "# Random Forest"
      ]
    },
    {
      "cell_type": "code",
      "metadata": {
        "id": "rFQYz8q5gPcB"
      },
      "source": [
        "from sklearn.ensemble import RandomForestClassifier"
      ],
      "execution_count": null,
      "outputs": []
    },
    {
      "cell_type": "code",
      "metadata": {
        "id": "l0CshjafgPcB",
        "outputId": "9ca7efb5-1dee-4e87-a0d4-593a6ca1e19d"
      },
      "source": [
        "# Create Decision Tree classifer object\n",
        "rf = RandomForestClassifier()\n",
        "scores = cross_val_score(rf, X , Y, cv=10)\n",
        "print ('Cross-validated scores:', scores)"
      ],
      "execution_count": null,
      "outputs": [
        {
          "output_type": "stream",
          "text": [
            "Cross-validated scores: [0.87333333 0.9        0.86666667 0.86666667 0.85333333 0.88666667\n",
            " 0.86       0.86       0.87333333 0.88      ]\n"
          ],
          "name": "stdout"
        }
      ]
    },
    {
      "cell_type": "code",
      "metadata": {
        "id": "pnfdys1RgPcB",
        "outputId": "6afe5a4b-bbd6-4ff0-9ee0-15dcd2ea7192"
      },
      "source": [
        "#making predictions using cross validation to validate model\n",
        "predictions = cross_val_predict(rf, X, Y, cv=10)\n",
        "accuracy = metrics.accuracy_score(Y, predictions)\n",
        "print('Cross-Predicted Accuracy:', accuracy)"
      ],
      "execution_count": null,
      "outputs": [
        {
          "output_type": "stream",
          "text": [
            "Cross-Predicted Accuracy: 0.8753333333333333\n"
          ],
          "name": "stdout"
        }
      ]
    },
    {
      "cell_type": "code",
      "metadata": {
        "id": "kW-38p9BgPcB",
        "outputId": "d76bc540-b60c-4ede-91ef-74d236410f7a"
      },
      "source": [
        "scores = pd.Series(scores)\n",
        "scores.mean()"
      ],
      "execution_count": null,
      "outputs": [
        {
          "output_type": "execute_result",
          "data": {
            "text/plain": [
              "0.8720000000000001"
            ]
          },
          "metadata": {
            "tags": []
          },
          "execution_count": 40
        }
      ]
    },
    {
      "cell_type": "code",
      "metadata": {
        "id": "k5k1pl57gPcC",
        "outputId": "cb2a034c-08fd-4cc7-d9dd-731bf57860fb"
      },
      "source": [
        "#fitting the model\n",
        "rf.fit(x_train, y_train)"
      ],
      "execution_count": null,
      "outputs": [
        {
          "output_type": "execute_result",
          "data": {
            "text/plain": [
              "RandomForestClassifier(random_state=42)"
            ]
          },
          "metadata": {
            "tags": []
          },
          "execution_count": 84
        }
      ]
    },
    {
      "cell_type": "code",
      "metadata": {
        "id": "zodsBiOegPcC"
      },
      "source": [
        "#making predictions\n",
        "y_pred=rf.predict(x_test)"
      ],
      "execution_count": null,
      "outputs": []
    },
    {
      "cell_type": "code",
      "metadata": {
        "id": "dcTwwu3UgPcC",
        "outputId": "eb801228-1649-49a8-85e3-984733e98b7f"
      },
      "source": [
        "#Generaing accuracy score to check the performance of the model\n",
        "metrics.accuracy_score(y_test, y_pred)"
      ],
      "execution_count": null,
      "outputs": [
        {
          "output_type": "execute_result",
          "data": {
            "text/plain": [
              "0.8933333333333333"
            ]
          },
          "metadata": {
            "tags": []
          },
          "execution_count": 43
        }
      ]
    },
    {
      "cell_type": "code",
      "metadata": {
        "id": "7kYXhcp5gPcC"
      },
      "source": [
        "#from sklearn.model_selection import GridSearchCV\n",
        "from sklearn.ensemble import RandomForestClassifier\n",
        "n_estimators = [int(x) for x in np.linspace(start = 100, stop = 700, num = 50)] # randomly generating 50 numbers from 100 to 700\n",
        "max_features = ['auto']  # Number of features to consider at every split\n",
        "max_depth = [int(x) for x in np.linspace(10, 110, num = 11)]   # Maximum number of levels in tree\n",
        "max_depth.append(None)\n",
        "#rf = RandomForestClassifier(random_state=42)"
      ],
      "execution_count": null,
      "outputs": []
    },
    {
      "cell_type": "code",
      "metadata": {
        "id": "J6w-pV3PgPcD"
      },
      "source": [
        "# defining parameter range\n",
        "param_grid = { \n",
        "    'n_estimators': n_estimators,\n",
        "    'max_features': ['auto', 'sqrt', 'log2'],\n",
        "    'max_depth' : max_depth,\n",
        "    'criterion' :['gini', 'entropy']\n",
        "}"
      ],
      "execution_count": null,
      "outputs": []
    },
    {
      "cell_type": "code",
      "metadata": {
        "id": "wFs-MuMYgPcD",
        "outputId": "6996f10a-c6da-48ea-8d3c-2b02a72c1740"
      },
      "source": [
        "#grid search for tuning the parameters\n",
        "CV_rfc = GridSearchCV(estimator=rf, param_grid=param_grid,scoring='accuracy', cv= 5, n_jobs=10)\n",
        "CV_rfc.fit(x_train, y_train)"
      ],
      "execution_count": null,
      "outputs": [
        {
          "output_type": "execute_result",
          "data": {
            "text/plain": [
              "GridSearchCV(cv=5, estimator=RandomForestClassifier(random_state=42), n_jobs=5,\n",
              "             param_grid={'criterion': ['gini', 'entropy'],\n",
              "                         'max_depth': [10, 20, 30, 40, 50, 60, 70, 80, 90, 100,\n",
              "                                       110, None],\n",
              "                         'max_features': ['auto', 'sqrt', 'log2'],\n",
              "                         'n_estimators': [100, 112, 124, 136, 148, 161, 173,\n",
              "                                          185, 197, 210, 222, 234, 246, 259,\n",
              "                                          271, 283, 295, 308, 320, 332, 344,\n",
              "                                          357, 369, 381, 393, 406, 418, 430,\n",
              "                                          442, 455, ...]},\n",
              "             scoring='accuracy')"
            ]
          },
          "metadata": {
            "tags": []
          },
          "execution_count": 46
        }
      ]
    },
    {
      "cell_type": "code",
      "metadata": {
        "id": "9Gxr77A1gPcD",
        "outputId": "b1d39520-8a2e-4dd7-add1-c03b4687b317"
      },
      "source": [
        "CV_rfc.best_params_"
      ],
      "execution_count": null,
      "outputs": [
        {
          "output_type": "execute_result",
          "data": {
            "text/plain": [
              "{'criterion': 'gini',\n",
              " 'max_depth': 20,\n",
              " 'max_features': 'auto',\n",
              " 'n_estimators': 100}"
            ]
          },
          "metadata": {
            "tags": []
          },
          "execution_count": 47
        }
      ]
    },
    {
      "cell_type": "code",
      "metadata": {
        "id": "e7tQNOO0gPcE"
      },
      "source": [
        "#tuned random forest model with best parameters\n",
        "rf_t = RandomForestClassifier(n_estimators= 553,\n",
        "    max_features= 'auto',\n",
        "    max_depth = 20,\n",
        "    criterion='entropy')"
      ],
      "execution_count": null,
      "outputs": []
    },
    {
      "cell_type": "code",
      "metadata": {
        "id": "8nstQaG6gPcE",
        "outputId": "60a4162b-aeea-4bb9-e937-f13324b96752"
      },
      "source": [
        "rf_t.fit(x_train, y_train)"
      ],
      "execution_count": null,
      "outputs": [
        {
          "output_type": "execute_result",
          "data": {
            "text/plain": [
              "RandomForestClassifier(criterion='entropy', max_depth=20, n_estimators=553)"
            ]
          },
          "metadata": {
            "tags": []
          },
          "execution_count": 49
        }
      ]
    },
    {
      "cell_type": "code",
      "metadata": {
        "id": "XnfE06mMgPcE"
      },
      "source": [
        "y_pred=rf_t.predict(x_test)"
      ],
      "execution_count": null,
      "outputs": []
    },
    {
      "cell_type": "code",
      "metadata": {
        "id": "-g9gEzjwgPcE",
        "outputId": "5b5ff809-8dbb-48d1-8cd1-380712aaa0f9"
      },
      "source": [
        "randomforest=metrics.accuracy_score(y_test, y_pred)\n",
        "print(\"accuracy_score:\\n\",randomforest)\n",
        "score.append(randomforest)"
      ],
      "execution_count": null,
      "outputs": [
        {
          "output_type": "stream",
          "text": [
            "accuracy_score:\n",
            " 0.9044444444444445\n"
          ],
          "name": "stdout"
        }
      ]
    },
    {
      "cell_type": "code",
      "metadata": {
        "id": "S9KRxqYRgPcF",
        "outputId": "f2969423-708a-4707-c55b-ba43ca809063"
      },
      "source": [
        "print('Precision score=',metrics.precision_score(y_test, y_pred))\n",
        "print('Recall score=',metrics.recall_score(y_test, y_pred))"
      ],
      "execution_count": null,
      "outputs": [
        {
          "output_type": "stream",
          "text": [
            "Precision score= 0.9023255813953488\n",
            "Recall score= 0.8981481481481481\n"
          ],
          "name": "stdout"
        }
      ]
    },
    {
      "cell_type": "markdown",
      "metadata": {
        "id": "-XjzzM1tgPcF"
      },
      "source": [
        "# SVM"
      ]
    },
    {
      "cell_type": "code",
      "metadata": {
        "id": "T8rsJAJhgPcF",
        "outputId": "73e44ae9-a5b3-4fa1-a4fe-33e514fbb64f"
      },
      "source": [
        "# \"Support Vector Classifier\" \n",
        "from sklearn.svm import SVC   \n",
        "claf = SVC(kernel='linear')  \n",
        "  \n",
        "# fitting x samples and y classes  \n",
        "scores = cross_val_score(claf, X , Y, cv=10)\n",
        "print ('Cross-validated scores:', scores)"
      ],
      "execution_count": null,
      "outputs": [
        {
          "output_type": "stream",
          "text": [
            "Cross-validated scores: [0.90666667 0.88       0.88       0.89333333 0.87333333 0.88\n",
            " 0.80666667 0.88       0.86666667 0.86      ]\n"
          ],
          "name": "stdout"
        }
      ]
    },
    {
      "cell_type": "code",
      "metadata": {
        "id": "quX_xoRAgPcF",
        "outputId": "31df448f-2000-4e8d-f9b3-f3d664e15fe8"
      },
      "source": [
        "#making predictions using cross validation to validate model\n",
        "predictions = cross_val_predict(claf, X, Y, cv=10)\n",
        "accuracy = metrics.accuracy_score(Y, predictions)\n",
        "print('Cross-Predicted Accuracy:', accuracy)"
      ],
      "execution_count": null,
      "outputs": [
        {
          "output_type": "stream",
          "text": [
            "Cross-Predicted Accuracy: 0.8726666666666667\n"
          ],
          "name": "stdout"
        }
      ]
    },
    {
      "cell_type": "code",
      "metadata": {
        "id": "KysTLdypgPcG",
        "outputId": "713c70c2-c9de-4014-f973-7f5553fadc48"
      },
      "source": [
        "scores = pd.Series(scores)\n",
        "scores.mean()"
      ],
      "execution_count": null,
      "outputs": [
        {
          "output_type": "execute_result",
          "data": {
            "text/plain": [
              "0.8726666666666665"
            ]
          },
          "metadata": {
            "tags": []
          },
          "execution_count": 55
        }
      ]
    },
    {
      "cell_type": "code",
      "metadata": {
        "id": "96oLx_Y7gPcG",
        "outputId": "94bd58ca-d165-462f-8b5f-a411c49929e4"
      },
      "source": [
        "#fitting the model\n",
        "claf.fit(x_train, y_train)"
      ],
      "execution_count": null,
      "outputs": [
        {
          "output_type": "execute_result",
          "data": {
            "text/plain": [
              "SVC(kernel='linear')"
            ]
          },
          "metadata": {
            "tags": []
          },
          "execution_count": 56
        }
      ]
    },
    {
      "cell_type": "code",
      "metadata": {
        "id": "qqEpYrxCgPcG"
      },
      "source": [
        "#making predictions\n",
        "y_pred=claf.predict(x_test)"
      ],
      "execution_count": null,
      "outputs": []
    },
    {
      "cell_type": "code",
      "metadata": {
        "id": "yH2Di3ePgPcG",
        "outputId": "592539bd-c8ee-44e9-b886-f40e60bce468"
      },
      "source": [
        "#Generaing accuracy score to check the performance of the model\n",
        "metrics.accuracy_score(y_test, y_pred)"
      ],
      "execution_count": null,
      "outputs": [
        {
          "output_type": "execute_result",
          "data": {
            "text/plain": [
              "0.8866666666666667"
            ]
          },
          "metadata": {
            "tags": []
          },
          "execution_count": 58
        }
      ]
    },
    {
      "cell_type": "code",
      "metadata": {
        "id": "NSVwOrfLgPcG"
      },
      "source": [
        "# defining parameter range \n",
        "param_grid = {'C': [0.1, 1, 10, 100, 1000],  \n",
        "              'gamma': [1, 0.1, 0.01, 0.001, 0.0001], \n",
        "              'kernel': ['linear']} "
      ],
      "execution_count": null,
      "outputs": []
    },
    {
      "cell_type": "code",
      "metadata": {
        "id": "2ihFlbU7gPcH"
      },
      "source": [
        "#grid search for tuning the parameters\n",
        "grid = GridSearchCV(SVC(), param_grid,refit = True, verbose = 3)"
      ],
      "execution_count": null,
      "outputs": []
    },
    {
      "cell_type": "code",
      "metadata": {
        "id": "AcJDQkgIgPcJ",
        "outputId": "48002604-eef2-40bc-fd49-cf74129bd6df"
      },
      "source": [
        "# fitting the model for grid search \n",
        "grid.fit(x_train, y_train) "
      ],
      "execution_count": null,
      "outputs": [
        {
          "output_type": "stream",
          "text": [
            "Fitting 5 folds for each of 25 candidates, totalling 125 fits\n",
            "[CV] C=0.1, gamma=1, kernel=linear ...................................\n"
          ],
          "name": "stdout"
        },
        {
          "output_type": "stream",
          "text": [
            "[Parallel(n_jobs=1)]: Using backend SequentialBackend with 1 concurrent workers.\n"
          ],
          "name": "stderr"
        },
        {
          "output_type": "stream",
          "text": [
            "[CV] ....... C=0.1, gamma=1, kernel=linear, score=0.848, total=   1.7s\n",
            "[CV] C=0.1, gamma=1, kernel=linear ...................................\n"
          ],
          "name": "stdout"
        },
        {
          "output_type": "stream",
          "text": [
            "[Parallel(n_jobs=1)]: Done   1 out of   1 | elapsed:    1.6s remaining:    0.0s\n"
          ],
          "name": "stderr"
        },
        {
          "output_type": "stream",
          "text": [
            "[CV] ....... C=0.1, gamma=1, kernel=linear, score=0.857, total=   1.2s\n",
            "[CV] C=0.1, gamma=1, kernel=linear ...................................\n"
          ],
          "name": "stdout"
        },
        {
          "output_type": "stream",
          "text": [
            "[Parallel(n_jobs=1)]: Done   2 out of   2 | elapsed:    2.8s remaining:    0.0s\n"
          ],
          "name": "stderr"
        },
        {
          "output_type": "stream",
          "text": [
            "[CV] ....... C=0.1, gamma=1, kernel=linear, score=0.857, total=   0.9s\n",
            "[CV] C=0.1, gamma=1, kernel=linear ...................................\n",
            "[CV] ....... C=0.1, gamma=1, kernel=linear, score=0.905, total=   1.6s\n",
            "[CV] C=0.1, gamma=1, kernel=linear ...................................\n",
            "[CV] ....... C=0.1, gamma=1, kernel=linear, score=0.867, total=   1.9s\n",
            "[CV] C=0.1, gamma=0.1, kernel=linear .................................\n",
            "[CV] ..... C=0.1, gamma=0.1, kernel=linear, score=0.848, total=   1.2s\n",
            "[CV] C=0.1, gamma=0.1, kernel=linear .................................\n",
            "[CV] ..... C=0.1, gamma=0.1, kernel=linear, score=0.857, total=   1.8s\n",
            "[CV] C=0.1, gamma=0.1, kernel=linear .................................\n",
            "[CV] ..... C=0.1, gamma=0.1, kernel=linear, score=0.857, total=   1.5s\n",
            "[CV] C=0.1, gamma=0.1, kernel=linear .................................\n",
            "[CV] ..... C=0.1, gamma=0.1, kernel=linear, score=0.905, total=   1.2s\n",
            "[CV] C=0.1, gamma=0.1, kernel=linear .................................\n",
            "[CV] ..... C=0.1, gamma=0.1, kernel=linear, score=0.867, total=   1.1s\n",
            "[CV] C=0.1, gamma=0.01, kernel=linear ................................\n",
            "[CV] .... C=0.1, gamma=0.01, kernel=linear, score=0.848, total=   1.6s\n",
            "[CV] C=0.1, gamma=0.01, kernel=linear ................................\n",
            "[CV] .... C=0.1, gamma=0.01, kernel=linear, score=0.857, total=   2.0s\n",
            "[CV] C=0.1, gamma=0.01, kernel=linear ................................\n",
            "[CV] .... C=0.1, gamma=0.01, kernel=linear, score=0.857, total=   0.9s\n",
            "[CV] C=0.1, gamma=0.01, kernel=linear ................................\n",
            "[CV] .... C=0.1, gamma=0.01, kernel=linear, score=0.905, total=   1.4s\n",
            "[CV] C=0.1, gamma=0.01, kernel=linear ................................\n",
            "[CV] .... C=0.1, gamma=0.01, kernel=linear, score=0.867, total=   2.1s\n",
            "[CV] C=0.1, gamma=0.001, kernel=linear ...............................\n",
            "[CV] ... C=0.1, gamma=0.001, kernel=linear, score=0.848, total=   1.1s\n",
            "[CV] C=0.1, gamma=0.001, kernel=linear ...............................\n",
            "[CV] ... C=0.1, gamma=0.001, kernel=linear, score=0.857, total=   1.6s\n",
            "[CV] C=0.1, gamma=0.001, kernel=linear ...............................\n",
            "[CV] ... C=0.1, gamma=0.001, kernel=linear, score=0.857, total=   1.9s\n",
            "[CV] C=0.1, gamma=0.001, kernel=linear ...............................\n",
            "[CV] ... C=0.1, gamma=0.001, kernel=linear, score=0.905, total=   1.5s\n",
            "[CV] C=0.1, gamma=0.001, kernel=linear ...............................\n",
            "[CV] ... C=0.1, gamma=0.001, kernel=linear, score=0.867, total=   1.1s\n",
            "[CV] C=0.1, gamma=0.0001, kernel=linear ..............................\n",
            "[CV] .. C=0.1, gamma=0.0001, kernel=linear, score=0.848, total=   2.0s\n",
            "[CV] C=0.1, gamma=0.0001, kernel=linear ..............................\n",
            "[CV] .. C=0.1, gamma=0.0001, kernel=linear, score=0.857, total=   2.1s\n",
            "[CV] C=0.1, gamma=0.0001, kernel=linear ..............................\n",
            "[CV] .. C=0.1, gamma=0.0001, kernel=linear, score=0.857, total=   0.9s\n",
            "[CV] C=0.1, gamma=0.0001, kernel=linear ..............................\n",
            "[CV] .. C=0.1, gamma=0.0001, kernel=linear, score=0.905, total=   1.3s\n",
            "[CV] C=0.1, gamma=0.0001, kernel=linear ..............................\n",
            "[CV] .. C=0.1, gamma=0.0001, kernel=linear, score=0.867, total=   2.2s\n",
            "[CV] C=1, gamma=1, kernel=linear .....................................\n",
            "[CV] ......... C=1, gamma=1, kernel=linear, score=0.829, total=   8.1s\n",
            "[CV] C=1, gamma=1, kernel=linear .....................................\n",
            "[CV] ......... C=1, gamma=1, kernel=linear, score=0.867, total=   9.4s\n",
            "[CV] C=1, gamma=1, kernel=linear .....................................\n",
            "[CV] ......... C=1, gamma=1, kernel=linear, score=0.857, total=   7.4s\n",
            "[CV] C=1, gamma=1, kernel=linear .....................................\n",
            "[CV] ......... C=1, gamma=1, kernel=linear, score=0.900, total=   6.4s\n",
            "[CV] C=1, gamma=1, kernel=linear .....................................\n",
            "[CV] ......... C=1, gamma=1, kernel=linear, score=0.871, total=  19.0s\n",
            "[CV] C=1, gamma=0.1, kernel=linear ...................................\n",
            "[CV] ....... C=1, gamma=0.1, kernel=linear, score=0.829, total=   7.8s\n",
            "[CV] C=1, gamma=0.1, kernel=linear ...................................\n",
            "[CV] ....... C=1, gamma=0.1, kernel=linear, score=0.867, total=   8.1s\n",
            "[CV] C=1, gamma=0.1, kernel=linear ...................................\n",
            "[CV] ....... C=1, gamma=0.1, kernel=linear, score=0.857, total=   8.2s\n",
            "[CV] C=1, gamma=0.1, kernel=linear ...................................\n",
            "[CV] ....... C=1, gamma=0.1, kernel=linear, score=0.900, total=   6.4s\n",
            "[CV] C=1, gamma=0.1, kernel=linear ...................................\n",
            "[CV] ....... C=1, gamma=0.1, kernel=linear, score=0.871, total=  18.5s\n",
            "[CV] C=1, gamma=0.01, kernel=linear ..................................\n",
            "[CV] ...... C=1, gamma=0.01, kernel=linear, score=0.829, total=   8.5s\n",
            "[CV] C=1, gamma=0.01, kernel=linear ..................................\n",
            "[CV] ...... C=1, gamma=0.01, kernel=linear, score=0.867, total=   8.0s\n",
            "[CV] C=1, gamma=0.01, kernel=linear ..................................\n",
            "[CV] ...... C=1, gamma=0.01, kernel=linear, score=0.857, total=   8.1s\n",
            "[CV] C=1, gamma=0.01, kernel=linear ..................................\n",
            "[CV] ...... C=1, gamma=0.01, kernel=linear, score=0.900, total=   6.6s\n",
            "[CV] C=1, gamma=0.01, kernel=linear ..................................\n",
            "[CV] ...... C=1, gamma=0.01, kernel=linear, score=0.871, total=  18.4s\n",
            "[CV] C=1, gamma=0.001, kernel=linear .................................\n",
            "[CV] ..... C=1, gamma=0.001, kernel=linear, score=0.829, total=   7.4s\n",
            "[CV] C=1, gamma=0.001, kernel=linear .................................\n",
            "[CV] ..... C=1, gamma=0.001, kernel=linear, score=0.867, total=   9.3s\n",
            "[CV] C=1, gamma=0.001, kernel=linear .................................\n",
            "[CV] ..... C=1, gamma=0.001, kernel=linear, score=0.857, total=   7.0s\n",
            "[CV] C=1, gamma=0.001, kernel=linear .................................\n",
            "[CV] ..... C=1, gamma=0.001, kernel=linear, score=0.900, total=   6.4s\n",
            "[CV] C=1, gamma=0.001, kernel=linear .................................\n",
            "[CV] ..... C=1, gamma=0.001, kernel=linear, score=0.871, total=  19.7s\n",
            "[CV] C=1, gamma=0.0001, kernel=linear ................................\n",
            "[CV] .... C=1, gamma=0.0001, kernel=linear, score=0.829, total=   7.4s\n",
            "[CV] C=1, gamma=0.0001, kernel=linear ................................\n",
            "[CV] .... C=1, gamma=0.0001, kernel=linear, score=0.867, total=   9.3s\n",
            "[CV] C=1, gamma=0.0001, kernel=linear ................................\n",
            "[CV] .... C=1, gamma=0.0001, kernel=linear, score=0.857, total=   7.2s\n",
            "[CV] C=1, gamma=0.0001, kernel=linear ................................\n",
            "[CV] .... C=1, gamma=0.0001, kernel=linear, score=0.900, total=   6.4s\n",
            "[CV] C=1, gamma=0.0001, kernel=linear ................................\n",
            "[CV] .... C=1, gamma=0.0001, kernel=linear, score=0.871, total=  20.0s\n",
            "[CV] C=10, gamma=1, kernel=linear ....................................\n",
            "[CV] ........ C=10, gamma=1, kernel=linear, score=0.838, total= 2.1min\n",
            "[CV] C=10, gamma=1, kernel=linear ....................................\n",
            "[CV] ........ C=10, gamma=1, kernel=linear, score=0.857, total= 1.9min\n",
            "[CV] C=10, gamma=1, kernel=linear ....................................\n",
            "[CV] ........ C=10, gamma=1, kernel=linear, score=0.871, total=  50.9s\n",
            "[CV] C=10, gamma=1, kernel=linear ....................................\n",
            "[CV] ........ C=10, gamma=1, kernel=linear, score=0.905, total=  50.3s\n",
            "[CV] C=10, gamma=1, kernel=linear ....................................\n",
            "[CV] ........ C=10, gamma=1, kernel=linear, score=0.881, total= 3.3min\n",
            "[CV] C=10, gamma=0.1, kernel=linear ..................................\n",
            "[CV] ...... C=10, gamma=0.1, kernel=linear, score=0.838, total= 2.0min\n",
            "[CV] C=10, gamma=0.1, kernel=linear ..................................\n",
            "[CV] ...... C=10, gamma=0.1, kernel=linear, score=0.857, total= 1.9min\n",
            "[CV] C=10, gamma=0.1, kernel=linear ..................................\n",
            "[CV] ...... C=10, gamma=0.1, kernel=linear, score=0.871, total=  50.7s\n",
            "[CV] C=10, gamma=0.1, kernel=linear ..................................\n",
            "[CV] ...... C=10, gamma=0.1, kernel=linear, score=0.905, total=  49.7s\n",
            "[CV] C=10, gamma=0.1, kernel=linear ..................................\n",
            "[CV] ...... C=10, gamma=0.1, kernel=linear, score=0.881, total= 3.2min\n",
            "[CV] C=10, gamma=0.01, kernel=linear .................................\n"
          ],
          "name": "stdout"
        },
        {
          "output_type": "stream",
          "text": [
            "[CV] ..... C=10, gamma=0.01, kernel=linear, score=0.838, total= 2.0min\n",
            "[CV] C=10, gamma=0.01, kernel=linear .................................\n",
            "[CV] ..... C=10, gamma=0.01, kernel=linear, score=0.857, total= 1.9min\n",
            "[CV] C=10, gamma=0.01, kernel=linear .................................\n",
            "[CV] ..... C=10, gamma=0.01, kernel=linear, score=0.871, total=  57.4s\n",
            "[CV] C=10, gamma=0.01, kernel=linear .................................\n",
            "[CV] ..... C=10, gamma=0.01, kernel=linear, score=0.905, total= 1.0min\n",
            "[CV] C=10, gamma=0.01, kernel=linear .................................\n",
            "[CV] ..... C=10, gamma=0.01, kernel=linear, score=0.881, total= 7.0min\n",
            "[CV] C=10, gamma=0.001, kernel=linear ................................\n",
            "[CV] .... C=10, gamma=0.001, kernel=linear, score=0.838, total= 4.6min\n",
            "[CV] C=10, gamma=0.001, kernel=linear ................................\n",
            "[CV] .... C=10, gamma=0.001, kernel=linear, score=0.857, total= 4.0min\n",
            "[CV] C=10, gamma=0.001, kernel=linear ................................\n",
            "[CV] .... C=10, gamma=0.001, kernel=linear, score=0.871, total= 1.9min\n",
            "[CV] C=10, gamma=0.001, kernel=linear ................................\n",
            "[CV] .... C=10, gamma=0.001, kernel=linear, score=0.905, total= 1.8min\n",
            "[CV] C=10, gamma=0.001, kernel=linear ................................\n",
            "[CV] .... C=10, gamma=0.001, kernel=linear, score=0.881, total= 7.1min\n",
            "[CV] C=10, gamma=0.0001, kernel=linear ...............................\n",
            "[CV] ... C=10, gamma=0.0001, kernel=linear, score=0.838, total= 4.3min\n",
            "[CV] C=10, gamma=0.0001, kernel=linear ...............................\n",
            "[CV] ... C=10, gamma=0.0001, kernel=linear, score=0.857, total= 4.1min\n",
            "[CV] C=10, gamma=0.0001, kernel=linear ...............................\n",
            "[CV] ... C=10, gamma=0.0001, kernel=linear, score=0.871, total= 1.9min\n",
            "[CV] C=10, gamma=0.0001, kernel=linear ...............................\n",
            "[CV] ... C=10, gamma=0.0001, kernel=linear, score=0.905, total= 1.8min\n",
            "[CV] C=10, gamma=0.0001, kernel=linear ...............................\n",
            "[CV] ... C=10, gamma=0.0001, kernel=linear, score=0.881, total= 7.0min\n",
            "[CV] C=100, gamma=1, kernel=linear ...................................\n",
            "[CV] ....... C=100, gamma=1, kernel=linear, score=0.824, total= 8.2min\n",
            "[CV] C=100, gamma=1, kernel=linear ...................................\n",
            "[CV] ....... C=100, gamma=1, kernel=linear, score=0.881, total=12.6min\n",
            "[CV] C=100, gamma=1, kernel=linear ...................................\n",
            "[CV] ....... C=100, gamma=1, kernel=linear, score=0.881, total= 6.9min\n",
            "[CV] C=100, gamma=1, kernel=linear ...................................\n",
            "[CV] ....... C=100, gamma=1, kernel=linear, score=0.862, total= 4.0min\n",
            "[CV] C=100, gamma=1, kernel=linear ...................................\n",
            "[CV] ....... C=100, gamma=1, kernel=linear, score=0.833, total=20.8min\n",
            "[CV] C=100, gamma=0.1, kernel=linear .................................\n",
            "[CV] ..... C=100, gamma=0.1, kernel=linear, score=0.824, total= 8.2min\n",
            "[CV] C=100, gamma=0.1, kernel=linear .................................\n",
            "[CV] ..... C=100, gamma=0.1, kernel=linear, score=0.881, total=12.7min\n",
            "[CV] C=100, gamma=0.1, kernel=linear .................................\n",
            "[CV] ..... C=100, gamma=0.1, kernel=linear, score=0.881, total= 6.8min\n",
            "[CV] C=100, gamma=0.1, kernel=linear .................................\n",
            "[CV] ..... C=100, gamma=0.1, kernel=linear, score=0.862, total= 3.7min\n",
            "[CV] C=100, gamma=0.1, kernel=linear .................................\n",
            "[CV] ..... C=100, gamma=0.1, kernel=linear, score=0.833, total=13.6min\n",
            "[CV] C=100, gamma=0.01, kernel=linear ................................\n",
            "[CV] .... C=100, gamma=0.01, kernel=linear, score=0.824, total= 9.1min\n",
            "[CV] C=100, gamma=0.01, kernel=linear ................................\n",
            "[CV] .... C=100, gamma=0.01, kernel=linear, score=0.881, total=16.6min\n",
            "[CV] C=100, gamma=0.01, kernel=linear ................................\n",
            "[CV] .... C=100, gamma=0.01, kernel=linear, score=0.881, total= 9.1min\n",
            "[CV] C=100, gamma=0.01, kernel=linear ................................\n",
            "[CV] .... C=100, gamma=0.01, kernel=linear, score=0.862, total= 5.3min\n",
            "[CV] C=100, gamma=0.01, kernel=linear ................................\n",
            "[CV] .... C=100, gamma=0.01, kernel=linear, score=0.833, total=27.0min\n",
            "[CV] C=100, gamma=0.001, kernel=linear ...............................\n",
            "[CV] ... C=100, gamma=0.001, kernel=linear, score=0.824, total=10.6min\n",
            "[CV] C=100, gamma=0.001, kernel=linear ...............................\n",
            "[CV] ... C=100, gamma=0.001, kernel=linear, score=0.881, total= 9.7min\n",
            "[CV] C=100, gamma=0.001, kernel=linear ...............................\n",
            "[CV] ... C=100, gamma=0.001, kernel=linear, score=0.881, total= 3.7min\n",
            "[CV] C=100, gamma=0.001, kernel=linear ...............................\n",
            "[CV] ... C=100, gamma=0.001, kernel=linear, score=0.862, total= 1.8min\n",
            "[CV] C=100, gamma=0.001, kernel=linear ...............................\n",
            "[CV] ... C=100, gamma=0.001, kernel=linear, score=0.833, total= 9.4min\n",
            "[CV] C=100, gamma=0.0001, kernel=linear ..............................\n",
            "[CV] .. C=100, gamma=0.0001, kernel=linear, score=0.824, total= 3.7min\n",
            "[CV] C=100, gamma=0.0001, kernel=linear ..............................\n",
            "[CV] .. C=100, gamma=0.0001, kernel=linear, score=0.881, total= 5.9min\n",
            "[CV] C=100, gamma=0.0001, kernel=linear ..............................\n",
            "[CV] .. C=100, gamma=0.0001, kernel=linear, score=0.881, total= 3.3min\n",
            "[CV] C=100, gamma=0.0001, kernel=linear ..............................\n",
            "[CV] .. C=100, gamma=0.0001, kernel=linear, score=0.862, total= 1.8min\n",
            "[CV] C=100, gamma=0.0001, kernel=linear ..............................\n",
            "[CV] .. C=100, gamma=0.0001, kernel=linear, score=0.833, total= 9.3min\n",
            "[CV] C=1000, gamma=1, kernel=linear ..................................\n",
            "[CV] ...... C=1000, gamma=1, kernel=linear, score=0.848, total= 4.0min\n",
            "[CV] C=1000, gamma=1, kernel=linear ..................................\n",
            "[CV] ...... C=1000, gamma=1, kernel=linear, score=0.867, total= 6.1min\n",
            "[CV] C=1000, gamma=1, kernel=linear ..................................\n",
            "[CV] ...... C=1000, gamma=1, kernel=linear, score=0.867, total= 7.8min\n",
            "[CV] C=1000, gamma=1, kernel=linear ..................................\n",
            "[CV] ...... C=1000, gamma=1, kernel=linear, score=0.857, total= 4.4min\n",
            "[CV] C=1000, gamma=1, kernel=linear ..................................\n",
            "[CV] ...... C=1000, gamma=1, kernel=linear, score=0.838, total= 4.4min\n",
            "[CV] C=1000, gamma=0.1, kernel=linear ................................\n",
            "[CV] .... C=1000, gamma=0.1, kernel=linear, score=0.848, total= 4.2min\n",
            "[CV] C=1000, gamma=0.1, kernel=linear ................................\n",
            "[CV] .... C=1000, gamma=0.1, kernel=linear, score=0.867, total= 5.9min\n",
            "[CV] C=1000, gamma=0.1, kernel=linear ................................\n",
            "[CV] .... C=1000, gamma=0.1, kernel=linear, score=0.867, total= 7.4min\n",
            "[CV] C=1000, gamma=0.1, kernel=linear ................................\n",
            "[CV] .... C=1000, gamma=0.1, kernel=linear, score=0.857, total= 4.4min\n",
            "[CV] C=1000, gamma=0.1, kernel=linear ................................\n",
            "[CV] .... C=1000, gamma=0.1, kernel=linear, score=0.838, total= 4.1min\n",
            "[CV] C=1000, gamma=0.01, kernel=linear ...............................\n",
            "[CV] ... C=1000, gamma=0.01, kernel=linear, score=0.848, total= 4.1min\n",
            "[CV] C=1000, gamma=0.01, kernel=linear ...............................\n",
            "[CV] ... C=1000, gamma=0.01, kernel=linear, score=0.867, total= 6.8min\n",
            "[CV] C=1000, gamma=0.01, kernel=linear ...............................\n",
            "[CV] ... C=1000, gamma=0.01, kernel=linear, score=0.867, total= 8.5min\n",
            "[CV] C=1000, gamma=0.01, kernel=linear ...............................\n",
            "[CV] ... C=1000, gamma=0.01, kernel=linear, score=0.857, total= 4.5min\n",
            "[CV] C=1000, gamma=0.01, kernel=linear ...............................\n",
            "[CV] ... C=1000, gamma=0.01, kernel=linear, score=0.838, total= 4.8min\n",
            "[CV] C=1000, gamma=0.001, kernel=linear ..............................\n",
            "[CV] .. C=1000, gamma=0.001, kernel=linear, score=0.848, total= 4.1min\n",
            "[CV] C=1000, gamma=0.001, kernel=linear ..............................\n",
            "[CV] .. C=1000, gamma=0.001, kernel=linear, score=0.867, total= 6.0min\n",
            "[CV] C=1000, gamma=0.001, kernel=linear ..............................\n",
            "[CV] .. C=1000, gamma=0.001, kernel=linear, score=0.867, total= 7.6min\n",
            "[CV] C=1000, gamma=0.001, kernel=linear ..............................\n"
          ],
          "name": "stdout"
        },
        {
          "output_type": "stream",
          "text": [
            "[CV] .. C=1000, gamma=0.001, kernel=linear, score=0.857, total= 4.4min\n",
            "[CV] C=1000, gamma=0.001, kernel=linear ..............................\n",
            "[CV] .. C=1000, gamma=0.001, kernel=linear, score=0.838, total= 4.2min\n",
            "[CV] C=1000, gamma=0.0001, kernel=linear .............................\n",
            "[CV] . C=1000, gamma=0.0001, kernel=linear, score=0.848, total= 4.0min\n",
            "[CV] C=1000, gamma=0.0001, kernel=linear .............................\n",
            "[CV] . C=1000, gamma=0.0001, kernel=linear, score=0.867, total= 5.9min\n",
            "[CV] C=1000, gamma=0.0001, kernel=linear .............................\n",
            "[CV] . C=1000, gamma=0.0001, kernel=linear, score=0.867, total= 7.4min\n",
            "[CV] C=1000, gamma=0.0001, kernel=linear .............................\n",
            "[CV] . C=1000, gamma=0.0001, kernel=linear, score=0.857, total= 4.4min\n",
            "[CV] C=1000, gamma=0.0001, kernel=linear .............................\n",
            "[CV] . C=1000, gamma=0.0001, kernel=linear, score=0.838, total= 4.1min\n"
          ],
          "name": "stdout"
        },
        {
          "output_type": "stream",
          "text": [
            "[Parallel(n_jobs=1)]: Done 125 out of 125 | elapsed: 431.4min finished\n"
          ],
          "name": "stderr"
        },
        {
          "output_type": "execute_result",
          "data": {
            "text/plain": [
              "GridSearchCV(estimator=SVC(),\n",
              "             param_grid={'C': [0.1, 1, 10, 100, 1000],\n",
              "                         'gamma': [1, 0.1, 0.01, 0.001, 0.0001],\n",
              "                         'kernel': ['linear']},\n",
              "             verbose=3)"
            ]
          },
          "metadata": {
            "tags": []
          },
          "execution_count": 61
        }
      ]
    },
    {
      "cell_type": "code",
      "metadata": {
        "id": "hfAroLNAgPcJ",
        "outputId": "9ae0aa84-d2ef-4eb3-9cfa-55e921f0816d"
      },
      "source": [
        "# print best parameter after tuning \n",
        "print(grid.best_params_) \n",
        "  \n",
        "# print how our model looks after hyper-parameter tuning \n",
        "print(grid.best_estimator_) "
      ],
      "execution_count": null,
      "outputs": [
        {
          "output_type": "stream",
          "text": [
            "{'C': 10, 'gamma': 1, 'kernel': 'linear'}\n",
            "SVC(C=10, gamma=1, kernel='linear')\n"
          ],
          "name": "stdout"
        }
      ]
    },
    {
      "cell_type": "code",
      "metadata": {
        "id": "iVxa6XnggPcJ",
        "outputId": "218e030b-429c-4915-c1b6-a9b7183de375"
      },
      "source": [
        "#tuned SVC model with best parameters\n",
        "claf_t = SVC(kernel='linear',C=10, gamma=1) \n",
        "claf_t.fit(x_train, y_train)\n",
        "y_pred=claf_t.predict(x_test)\n",
        "svc=metrics.accuracy_score(y_test, y_pred)\n",
        "print(\"accuracy_score:\\n\",svc)\n",
        "score.append(svc)"
      ],
      "execution_count": null,
      "outputs": [
        {
          "output_type": "stream",
          "text": [
            "accuracy_score:\n",
            " 0.8777777777777778\n"
          ],
          "name": "stdout"
        }
      ]
    },
    {
      "cell_type": "code",
      "metadata": {
        "id": "L9JasVHZgPcK",
        "outputId": "132e2717-0160-4e70-eb58-17f4d3ae65f7"
      },
      "source": [
        "print('Precision score=',metrics.precision_score(y_test, y_pred))\n",
        "print('Recall score=',metrics.recall_score(y_test, y_pred))"
      ],
      "execution_count": null,
      "outputs": [
        {
          "output_type": "stream",
          "text": [
            "Precision score= 0.8888888888888888\n",
            "Recall score= 0.8518518518518519\n"
          ],
          "name": "stdout"
        }
      ]
    },
    {
      "cell_type": "markdown",
      "metadata": {
        "id": "zj7BpzC_gPcK"
      },
      "source": [
        "# KNN Classifier"
      ]
    },
    {
      "cell_type": "code",
      "metadata": {
        "id": "AVwcFadhgPcK"
      },
      "source": [
        "#KNN performs better when the data is normalised \n",
        "from sklearn.neighbors import KNeighborsClassifier\n",
        "classifier = KNeighborsClassifier(n_neighbors=5)"
      ],
      "execution_count": null,
      "outputs": []
    },
    {
      "cell_type": "code",
      "metadata": {
        "id": "BJZP6piQgPcK",
        "outputId": "201eff22-e48b-447e-bf70-c615b7ed3f71"
      },
      "source": [
        "# fitting x samples and y classes  \n",
        "scores = cross_val_score(classifier, dataset , Y, cv=10)\n",
        "print ('Cross-validated scores:', scores)"
      ],
      "execution_count": null,
      "outputs": [
        {
          "output_type": "stream",
          "text": [
            "Cross-validated scores: [0.78       0.76       0.75333333 0.78       0.78       0.81333333\n",
            " 0.79333333 0.75333333 0.81333333 0.78      ]\n"
          ],
          "name": "stdout"
        }
      ]
    },
    {
      "cell_type": "code",
      "metadata": {
        "id": "nfA5yfXKgPcK",
        "outputId": "bbc1fa24-c554-4607-89b1-700c1f45a345"
      },
      "source": [
        "#making predictions using cross validation to validate model\n",
        "predictions = cross_val_predict(classifier, dataset, Y, cv=10)\n",
        "accuracy = metrics.accuracy_score(Y, predictions)\n",
        "print('Cross-Predicted Accuracy:', accuracy)"
      ],
      "execution_count": null,
      "outputs": [
        {
          "output_type": "stream",
          "text": [
            "Cross-Predicted Accuracy: 0.7806666666666666\n"
          ],
          "name": "stdout"
        }
      ]
    },
    {
      "cell_type": "code",
      "metadata": {
        "id": "cFbGP-8rgPcL",
        "outputId": "209cd682-889b-487d-a4c7-d1efcdd12b19"
      },
      "source": [
        "scores = pd.Series(scores)\n",
        "scores.mean()"
      ],
      "execution_count": null,
      "outputs": [
        {
          "output_type": "execute_result",
          "data": {
            "text/plain": [
              "0.7806666666666666"
            ]
          },
          "metadata": {
            "tags": []
          },
          "execution_count": 68
        }
      ]
    },
    {
      "cell_type": "code",
      "metadata": {
        "id": "Uxe29CFRgPcL",
        "outputId": "a495f56e-18b3-4408-f3d5-260bf5d4acc0"
      },
      "source": [
        "#fitting the model and making prediction \n",
        "classifier.fit(x1_train, y1_train)\n",
        "y_pred=classifier.predict(x1_test)\n",
        "knn=metrics.accuracy_score(y1_test, y_pred)\n",
        "print(\"accuracy_score:\\n\",knn)\n",
        "score.append(knn)"
      ],
      "execution_count": null,
      "outputs": [
        {
          "output_type": "stream",
          "text": [
            "accuracy_score:\n",
            " 0.8044444444444444\n"
          ],
          "name": "stdout"
        }
      ]
    },
    {
      "cell_type": "code",
      "metadata": {
        "id": "jdNR9nV4gPcL",
        "outputId": "9e1ee9d8-2284-410c-807a-b7d5313d9f57"
      },
      "source": [
        "print('Precision score=',metrics.precision_score(y1_test, y_pred))\n",
        "print('Recall score=',metrics.recall_score(y1_test, y_pred))"
      ],
      "execution_count": null,
      "outputs": [
        {
          "output_type": "stream",
          "text": [
            "Precision score= 0.8685714285714285\n",
            "Recall score= 0.7004608294930875\n"
          ],
          "name": "stdout"
        }
      ]
    },
    {
      "cell_type": "markdown",
      "metadata": {
        "id": "AMEOPqiygPcL"
      },
      "source": [
        "# Logistic Regression"
      ]
    },
    {
      "cell_type": "code",
      "metadata": {
        "id": "F3hZiKjCgPcM",
        "outputId": "a2dde8a0-f2ec-4ee2-945b-f579eb5dc41a"
      },
      "source": [
        "from sklearn.linear_model import LogisticRegression\n",
        "model=LogisticRegression()\n",
        "scores = cross_val_score(model, dataset , Y, cv=10)\n",
        "print ('Cross-validated scores:', scores)"
      ],
      "execution_count": null,
      "outputs": [
        {
          "output_type": "stream",
          "text": [
            "Cross-validated scores: [0.84       0.81333333 0.81333333 0.83333333 0.83333333 0.79333333\n",
            " 0.72666667 0.83333333 0.78       0.8       ]\n"
          ],
          "name": "stdout"
        }
      ]
    },
    {
      "cell_type": "code",
      "metadata": {
        "id": "5idPlax9gPcM",
        "outputId": "8dcb16d2-d0f1-470c-962e-3fe99ceb00b0"
      },
      "source": [
        "predictions = cross_val_predict(model, dataset, Y, cv=10)\n",
        "accuracy = metrics.accuracy_score(Y, predictions)\n",
        "print('Cross-Predicted Accuracy:', accuracy)"
      ],
      "execution_count": null,
      "outputs": [
        {
          "output_type": "stream",
          "text": [
            "Cross-Predicted Accuracy: 0.8066666666666666\n"
          ],
          "name": "stdout"
        }
      ]
    },
    {
      "cell_type": "code",
      "metadata": {
        "id": "iqwfqOx9gPcM",
        "outputId": "e0ce553b-c8cf-4729-99be-93be87264871"
      },
      "source": [
        "scores = pd.Series(scores)\n",
        "scores.mean()"
      ],
      "execution_count": null,
      "outputs": [
        {
          "output_type": "execute_result",
          "data": {
            "text/plain": [
              "0.8066666666666666"
            ]
          },
          "metadata": {
            "tags": []
          },
          "execution_count": 96
        }
      ]
    },
    {
      "cell_type": "code",
      "metadata": {
        "id": "YLSgnUWWgPcM",
        "outputId": "c4684cfa-3401-4e9f-f51b-187d82688a72"
      },
      "source": [
        "#fitting the model and making prediction \n",
        "model.fit(x1_train, y1_train)\n",
        "y_pred=model.predict(x1_test)\n",
        "logreg=metrics.accuracy_score(y1_test, y_pred)\n",
        "print(\"accuracy_score:\\n\",logreg)\n",
        "score.append(logreg)"
      ],
      "execution_count": null,
      "outputs": [
        {
          "output_type": "stream",
          "text": [
            "accuracy_score:\n",
            " 0.7977777777777778\n"
          ],
          "name": "stdout"
        }
      ]
    },
    {
      "cell_type": "code",
      "metadata": {
        "id": "AqgPUifngPcN",
        "outputId": "ee983e31-71b0-47bb-8e42-0c13211216d2"
      },
      "source": [
        "print('Precision score=',metrics.precision_score(y1_test, y_pred))\n",
        "print('Recall score=',metrics.recall_score(y1_test, y_pred))"
      ],
      "execution_count": null,
      "outputs": [
        {
          "output_type": "stream",
          "text": [
            "Precision score= 0.8118811881188119\n",
            "Recall score= 0.7557603686635944\n"
          ],
          "name": "stdout"
        }
      ]
    },
    {
      "cell_type": "markdown",
      "metadata": {
        "id": "qSFCeNQDgPcN"
      },
      "source": [
        "# XGBOOST Classifier"
      ]
    },
    {
      "cell_type": "code",
      "metadata": {
        "id": "IFv2kwX7gPcN"
      },
      "source": [
        "import xgboost as xgb\n",
        "modelxgb=xgb.XGBClassifier(random_state=1,learning_rate=0.01,use_label_encoder=False)"
      ],
      "execution_count": null,
      "outputs": []
    },
    {
      "cell_type": "code",
      "metadata": {
        "id": "rmBrNtrQgPcN",
        "outputId": "3f1052fe-cddd-4ff6-9139-a2cc96137309"
      },
      "source": [
        "# fitting x samples and y classes  \n",
        "scores = cross_val_score(modelxgb, X , Y, cv=10)\n",
        "print ('Cross-validated scores:', scores)"
      ],
      "execution_count": null,
      "outputs": [
        {
          "output_type": "stream",
          "text": [
            "[20:35:28] WARNING: C:/Users/Administrator/workspace/xgboost-win64_release_1.3.0/src/learner.cc:1061: Starting in XGBoost 1.3.0, the default evaluation metric used with the objective 'binary:logistic' was changed from 'error' to 'logloss'. Explicitly set eval_metric if you'd like to restore the old behavior.\n",
            "[20:35:29] WARNING: C:/Users/Administrator/workspace/xgboost-win64_release_1.3.0/src/learner.cc:1061: Starting in XGBoost 1.3.0, the default evaluation metric used with the objective 'binary:logistic' was changed from 'error' to 'logloss'. Explicitly set eval_metric if you'd like to restore the old behavior.\n",
            "[20:35:29] WARNING: C:/Users/Administrator/workspace/xgboost-win64_release_1.3.0/src/learner.cc:1061: Starting in XGBoost 1.3.0, the default evaluation metric used with the objective 'binary:logistic' was changed from 'error' to 'logloss'. Explicitly set eval_metric if you'd like to restore the old behavior.\n",
            "[20:35:29] WARNING: C:/Users/Administrator/workspace/xgboost-win64_release_1.3.0/src/learner.cc:1061: Starting in XGBoost 1.3.0, the default evaluation metric used with the objective 'binary:logistic' was changed from 'error' to 'logloss'. Explicitly set eval_metric if you'd like to restore the old behavior.\n",
            "[20:35:29] WARNING: C:/Users/Administrator/workspace/xgboost-win64_release_1.3.0/src/learner.cc:1061: Starting in XGBoost 1.3.0, the default evaluation metric used with the objective 'binary:logistic' was changed from 'error' to 'logloss'. Explicitly set eval_metric if you'd like to restore the old behavior.\n",
            "[20:35:29] WARNING: C:/Users/Administrator/workspace/xgboost-win64_release_1.3.0/src/learner.cc:1061: Starting in XGBoost 1.3.0, the default evaluation metric used with the objective 'binary:logistic' was changed from 'error' to 'logloss'. Explicitly set eval_metric if you'd like to restore the old behavior.\n",
            "[20:35:30] WARNING: C:/Users/Administrator/workspace/xgboost-win64_release_1.3.0/src/learner.cc:1061: Starting in XGBoost 1.3.0, the default evaluation metric used with the objective 'binary:logistic' was changed from 'error' to 'logloss'. Explicitly set eval_metric if you'd like to restore the old behavior.\n",
            "[20:35:30] WARNING: C:/Users/Administrator/workspace/xgboost-win64_release_1.3.0/src/learner.cc:1061: Starting in XGBoost 1.3.0, the default evaluation metric used with the objective 'binary:logistic' was changed from 'error' to 'logloss'. Explicitly set eval_metric if you'd like to restore the old behavior.\n",
            "[20:35:30] WARNING: C:/Users/Administrator/workspace/xgboost-win64_release_1.3.0/src/learner.cc:1061: Starting in XGBoost 1.3.0, the default evaluation metric used with the objective 'binary:logistic' was changed from 'error' to 'logloss'. Explicitly set eval_metric if you'd like to restore the old behavior.\n",
            "[20:35:30] WARNING: C:/Users/Administrator/workspace/xgboost-win64_release_1.3.0/src/learner.cc:1061: Starting in XGBoost 1.3.0, the default evaluation metric used with the objective 'binary:logistic' was changed from 'error' to 'logloss'. Explicitly set eval_metric if you'd like to restore the old behavior.\n",
            "Cross-validated scores: [0.86       0.82666667 0.84       0.82       0.8        0.78666667\n",
            " 0.72       0.83333333 0.82666667 0.84      ]\n"
          ],
          "name": "stdout"
        }
      ]
    },
    {
      "cell_type": "code",
      "metadata": {
        "id": "f6Kbt86QgPcO",
        "outputId": "a2f8af80-0b18-4421-97c5-cb739a8ed56e"
      },
      "source": [
        "predictions = cross_val_predict(modelxgb, X, Y, cv=10)\n",
        "accuracy = metrics.accuracy_score(Y, predictions)\n",
        "print('Cross-Predicted Accuracy:', accuracy)"
      ],
      "execution_count": null,
      "outputs": [
        {
          "output_type": "stream",
          "text": [
            "[20:35:30] WARNING: C:/Users/Administrator/workspace/xgboost-win64_release_1.3.0/src/learner.cc:1061: Starting in XGBoost 1.3.0, the default evaluation metric used with the objective 'binary:logistic' was changed from 'error' to 'logloss'. Explicitly set eval_metric if you'd like to restore the old behavior.\n",
            "[20:35:31] WARNING: C:/Users/Administrator/workspace/xgboost-win64_release_1.3.0/src/learner.cc:1061: Starting in XGBoost 1.3.0, the default evaluation metric used with the objective 'binary:logistic' was changed from 'error' to 'logloss'. Explicitly set eval_metric if you'd like to restore the old behavior.\n",
            "[20:35:31] WARNING: C:/Users/Administrator/workspace/xgboost-win64_release_1.3.0/src/learner.cc:1061: Starting in XGBoost 1.3.0, the default evaluation metric used with the objective 'binary:logistic' was changed from 'error' to 'logloss'. Explicitly set eval_metric if you'd like to restore the old behavior.\n",
            "[20:35:31] WARNING: C:/Users/Administrator/workspace/xgboost-win64_release_1.3.0/src/learner.cc:1061: Starting in XGBoost 1.3.0, the default evaluation metric used with the objective 'binary:logistic' was changed from 'error' to 'logloss'. Explicitly set eval_metric if you'd like to restore the old behavior.\n",
            "[20:35:32] WARNING: C:/Users/Administrator/workspace/xgboost-win64_release_1.3.0/src/learner.cc:1061: Starting in XGBoost 1.3.0, the default evaluation metric used with the objective 'binary:logistic' was changed from 'error' to 'logloss'. Explicitly set eval_metric if you'd like to restore the old behavior.\n",
            "[20:35:32] WARNING: C:/Users/Administrator/workspace/xgboost-win64_release_1.3.0/src/learner.cc:1061: Starting in XGBoost 1.3.0, the default evaluation metric used with the objective 'binary:logistic' was changed from 'error' to 'logloss'. Explicitly set eval_metric if you'd like to restore the old behavior.\n",
            "[20:35:33] WARNING: C:/Users/Administrator/workspace/xgboost-win64_release_1.3.0/src/learner.cc:1061: Starting in XGBoost 1.3.0, the default evaluation metric used with the objective 'binary:logistic' was changed from 'error' to 'logloss'. Explicitly set eval_metric if you'd like to restore the old behavior.\n",
            "[20:35:33] WARNING: C:/Users/Administrator/workspace/xgboost-win64_release_1.3.0/src/learner.cc:1061: Starting in XGBoost 1.3.0, the default evaluation metric used with the objective 'binary:logistic' was changed from 'error' to 'logloss'. Explicitly set eval_metric if you'd like to restore the old behavior.\n",
            "[20:35:33] WARNING: C:/Users/Administrator/workspace/xgboost-win64_release_1.3.0/src/learner.cc:1061: Starting in XGBoost 1.3.0, the default evaluation metric used with the objective 'binary:logistic' was changed from 'error' to 'logloss'. Explicitly set eval_metric if you'd like to restore the old behavior.\n",
            "[20:35:34] WARNING: C:/Users/Administrator/workspace/xgboost-win64_release_1.3.0/src/learner.cc:1061: Starting in XGBoost 1.3.0, the default evaluation metric used with the objective 'binary:logistic' was changed from 'error' to 'logloss'. Explicitly set eval_metric if you'd like to restore the old behavior.\n",
            "Cross-Predicted Accuracy: 0.8153333333333334\n"
          ],
          "name": "stdout"
        }
      ]
    },
    {
      "cell_type": "code",
      "metadata": {
        "id": "Ykh_z4T1gPcO",
        "outputId": "1a35213b-630a-4087-e552-c4e51056c884"
      },
      "source": [
        "scores = pd.Series(scores)\n",
        "scores.mean()"
      ],
      "execution_count": null,
      "outputs": [
        {
          "output_type": "execute_result",
          "data": {
            "text/plain": [
              "0.8153333333333332"
            ]
          },
          "metadata": {
            "tags": []
          },
          "execution_count": 78
        }
      ]
    },
    {
      "cell_type": "code",
      "metadata": {
        "id": "FgP8FRZvgPcO",
        "outputId": "629f78bb-0c39-4690-f08d-205e92694f5b"
      },
      "source": [
        "#fitting the model and making prediction \n",
        "modelxgb.fit(x_train, y_train)\n",
        "y_pred=modelxgb.predict(x_test)\n",
        "xg=metrics.accuracy_score(y_test, y_pred)\n",
        "print(\"accuracy_score:\\n\",xg)\n",
        "score.append(xg)"
      ],
      "execution_count": null,
      "outputs": [
        {
          "output_type": "stream",
          "text": [
            "[20:35:34] WARNING: C:/Users/Administrator/workspace/xgboost-win64_release_1.3.0/src/learner.cc:1061: Starting in XGBoost 1.3.0, the default evaluation metric used with the objective 'binary:logistic' was changed from 'error' to 'logloss'. Explicitly set eval_metric if you'd like to restore the old behavior.\n",
            "accuracy_score:\n",
            " 0.8644444444444445\n"
          ],
          "name": "stdout"
        }
      ]
    },
    {
      "cell_type": "code",
      "metadata": {
        "id": "WM8sPydBgPcO",
        "outputId": "e4f718b3-d961-4057-b7ac-cdb216cfb25b"
      },
      "source": [
        "print('Precision score=',metrics.precision_score(y_test, y_pred))\n",
        "print('Recall score=',metrics.recall_score(y_test, y_pred))"
      ],
      "execution_count": null,
      "outputs": [
        {
          "output_type": "stream",
          "text": [
            "Precision score= 0.863849765258216\n",
            "Recall score= 0.8518518518518519\n"
          ],
          "name": "stdout"
        }
      ]
    },
    {
      "cell_type": "markdown",
      "metadata": {
        "id": "LBH8wwg5gPcP"
      },
      "source": [
        "# confusion matrix plot for each model"
      ]
    },
    {
      "cell_type": "code",
      "metadata": {
        "id": "UrKKQ6lwgPcP",
        "outputId": "5ea1284a-48bd-4a7e-bf9b-946874e49b31"
      },
      "source": [
        "from sklearn.metrics import plot_confusion_matrix\n",
        "plot_confusion_matrix(clf, x_test, y_test)  \n",
        "plt.title('Decision Tree')\n",
        "plt.show()  \n"
      ],
      "execution_count": null,
      "outputs": [
        {
          "output_type": "display_data",
          "data": {
            "image/png": "[encoded data removed]",
            "text/plain": [
              "<Figure size 432x288 with 2 Axes>"
            ]
          },
          "metadata": {
            "tags": [],
            "needs_background": "light"
          }
        }
      ]
    },
    {
      "cell_type": "code",
      "metadata": {
        "id": "tXQ8R8PegPcP",
        "outputId": "469bc1a3-c1ce-499f-a971-7d1f0882a641"
      },
      "source": [
        "plot_confusion_matrix(clf_t, x_test, y_test)\n",
        "plt.title('Tuned Decision Tree')\n",
        "plt.show()  "
      ],
      "execution_count": null,
      "outputs": [
        {
          "output_type": "display_data",
          "data": {
            "image/png": "[encoded data removed]",
            "text/plain": [
              "<Figure size 432x288 with 2 Axes>"
            ]
          },
          "metadata": {
            "tags": [],
            "needs_background": "light"
          }
        }
      ]
    },
    {
      "cell_type": "code",
      "metadata": {
        "id": "g_5o1eCfgPcP",
        "outputId": "40a947fb-3e18-4837-9591-b15cc606d809"
      },
      "source": [
        "plot_confusion_matrix(rf, x_test, y_test)  \n",
        "plt.title('Random forest')\n",
        "plt.show()  "
      ],
      "execution_count": null,
      "outputs": [
        {
          "output_type": "display_data",
          "data": {
            "image/png": "[encoded data removed]",
            "text/plain": [
              "<Figure size 432x288 with 2 Axes>"
            ]
          },
          "metadata": {
            "tags": [],
            "needs_background": "light"
          }
        }
      ]
    },
    {
      "cell_type": "code",
      "metadata": {
        "id": "OIb5F-clgPcQ",
        "outputId": "ca3e46e4-c532-46c1-c68d-a4e8b0bd2b88"
      },
      "source": [
        "plot_confusion_matrix(rf_t, x_test, y_test) \n",
        "plt.title('Tuned Random forest')\n",
        "plt.show()  "
      ],
      "execution_count": null,
      "outputs": [
        {
          "output_type": "display_data",
          "data": {
            "image/png": "[encoded data removed]",
            "text/plain": [
              "<Figure size 432x288 with 2 Axes>"
            ]
          },
          "metadata": {
            "tags": [],
            "needs_background": "light"
          }
        }
      ]
    },
    {
      "cell_type": "code",
      "metadata": {
        "id": "U6l2oB8pgPcQ",
        "outputId": "e66064ec-0570-4b2b-f2a8-a3dbbfdb3384"
      },
      "source": [
        "plot_confusion_matrix(claf, x_test, y_test)\n",
        "plt.title('Tuned Decision Tree')\n",
        "plt.show()"
      ],
      "execution_count": null,
      "outputs": [
        {
          "output_type": "display_data",
          "data": {
            "image/png": "[encoded data removed]",
            "text/plain": [
              "<Figure size 432x288 with 2 Axes>"
            ]
          },
          "metadata": {
            "tags": [],
            "needs_background": "light"
          }
        }
      ]
    },
    {
      "cell_type": "code",
      "metadata": {
        "id": "ATZ9uFbGgPcQ",
        "outputId": "77946987-12c9-41ed-cc88-18403227d491"
      },
      "source": [
        "plot_confusion_matrix(claf_t, x_test, y_test)  \n",
        "plt.show()"
      ],
      "execution_count": null,
      "outputs": [
        {
          "output_type": "display_data",
          "data": {
            "image/png": "[encoded data removed]",
            "text/plain": [
              "<Figure size 432x288 with 2 Axes>"
            ]
          },
          "metadata": {
            "tags": [],
            "needs_background": "light"
          }
        }
      ]
    },
    {
      "cell_type": "code",
      "metadata": {
        "id": "q5-tnZZpgPcQ",
        "outputId": "ea0aedc8-b05a-41ce-ba41-74783b0c7cfc"
      },
      "source": [
        "plot_confusion_matrix(classifier, x1_test, y1_test)\n",
        "plt.title('KNN Classifier')\n",
        "plt.show()"
      ],
      "execution_count": null,
      "outputs": [
        {
          "output_type": "display_data",
          "data": {
            "image/png": "[encoded data removed]",
            "text/plain": [
              "<Figure size 432x288 with 2 Axes>"
            ]
          },
          "metadata": {
            "tags": [],
            "needs_background": "light"
          }
        }
      ]
    },
    {
      "cell_type": "code",
      "metadata": {
        "id": "bHwY8klIgPcR",
        "outputId": "f568fde4-8fc6-4ee3-bc24-a7c7ba85873a"
      },
      "source": [
        "plot_confusion_matrix(model, x1_test, y1_test) \n",
        "plt.title('Logistic regression')\n",
        "plt.show()"
      ],
      "execution_count": null,
      "outputs": [
        {
          "output_type": "display_data",
          "data": {
            "image/png": "[encoded data removed]",
            "text/plain": [
              "<Figure size 432x288 with 2 Axes>"
            ]
          },
          "metadata": {
            "tags": [],
            "needs_background": "light"
          }
        }
      ]
    },
    {
      "cell_type": "code",
      "metadata": {
        "id": "fwjh-WNKgPcR",
        "outputId": "8f587d8d-6db5-416f-e17c-f3d6302ef5cf"
      },
      "source": [
        "plot_confusion_matrix(modelxgb, x_test, y_test) \n",
        "plt.title('XGBoost Classifier')\n",
        "plt.show()"
      ],
      "execution_count": null,
      "outputs": [
        {
          "output_type": "display_data",
          "data": {
            "image/png": "[encoded data removed]",
            "text/plain": [
              "<Figure size 432x288 with 2 Axes>"
            ]
          },
          "metadata": {
            "tags": [],
            "needs_background": "light"
          }
        }
      ]
    },
    {
      "cell_type": "code",
      "metadata": {
        "id": "Znsb5E-2gPcR",
        "outputId": "344a61e6-dbfe-420c-d2fc-544600414f79"
      },
      "source": [
        "#bar chart for all the model accuracy\n",
        "fig, ax = plt.subplots(figsize=(10,5))\n",
        "#fig = plt.figure()\n",
        "ax = fig.add_axes([0,0,1,1])\n",
        "ax.set_ylabel('Accuracy Scores')\n",
        "ax.bar(Model_name,score)\n",
        "plt.show()"
      ],
      "execution_count": null,
      "outputs": [
        {
          "output_type": "display_data",
          "data": {
            "image/png": "[encoded data removed]",
            "text/plain": [
              "<Figure size 720x360 with 2 Axes>"
            ]
          },
          "metadata": {
            "tags": [],
            "needs_background": "light"
          }
        }
      ]
    },
    {
      "cell_type": "markdown",
      "metadata": {
        "id": "2IlBc7f7gPcR"
      },
      "source": [
        "# making predictions with the test data file"
      ]
    },
    {
      "cell_type": "code",
      "metadata": {
        "id": "zrtN1sLfgPcR"
      },
      "source": [
        "p2_test_data=pd.read_csv('E:/ML Project/CE802_P2_Data/CE802_P2_Test.csv')"
      ],
      "execution_count": null,
      "outputs": []
    },
    {
      "cell_type": "code",
      "metadata": {
        "id": "m-BJnlVOgPcS",
        "outputId": "64b95871-5a18-4793-894f-94667fc8742a"
      },
      "source": [
        "p2_test_data.head()"
      ],
      "execution_count": null,
      "outputs": [
        {
          "output_type": "execute_result",
          "data": {
            "text/html": [
              "<div>\n",
              "<style scoped>\n",
              "    .dataframe tbody tr th:only-of-type {\n",
              "        vertical-align: middle;\n",
              "    }\n",
              "\n",
              "    .dataframe tbody tr th {\n",
              "        vertical-align: top;\n",
              "    }\n",
              "\n",
              "    .dataframe thead th {\n",
              "        text-align: right;\n",
              "    }\n",
              "</style>\n",
              "<table border=\"1\" class=\"dataframe\">\n",
              "  <thead>\n",
              "    <tr style=\"text-align: right;\">\n",
              "      <th></th>\n",
              "      <th>F1</th>\n",
              "      <th>F2</th>\n",
              "      <th>F3</th>\n",
              "      <th>F4</th>\n",
              "      <th>F5</th>\n",
              "      <th>F6</th>\n",
              "      <th>F7</th>\n",
              "      <th>F8</th>\n",
              "      <th>F9</th>\n",
              "      <th>F10</th>\n",
              "      <th>F11</th>\n",
              "      <th>F12</th>\n",
              "      <th>F13</th>\n",
              "      <th>F14</th>\n",
              "      <th>F15</th>\n",
              "      <th>Class</th>\n",
              "    </tr>\n",
              "  </thead>\n",
              "  <tbody>\n",
              "    <tr>\n",
              "      <th>0</th>\n",
              "      <td>19.10</td>\n",
              "      <td>0.05</td>\n",
              "      <td>-50.64</td>\n",
              "      <td>-9.21</td>\n",
              "      <td>17.09</td>\n",
              "      <td>20</td>\n",
              "      <td>-7.08</td>\n",
              "      <td>-34.01</td>\n",
              "      <td>-11.32</td>\n",
              "      <td>310.72</td>\n",
              "      <td>-5.48</td>\n",
              "      <td>900</td>\n",
              "      <td>5.45</td>\n",
              "      <td>10.38</td>\n",
              "      <td>NaN</td>\n",
              "      <td>NaN</td>\n",
              "    </tr>\n",
              "    <tr>\n",
              "      <th>1</th>\n",
              "      <td>14.60</td>\n",
              "      <td>1.32</td>\n",
              "      <td>-50.64</td>\n",
              "      <td>-2.64</td>\n",
              "      <td>17.04</td>\n",
              "      <td>20</td>\n",
              "      <td>4.74</td>\n",
              "      <td>-64.01</td>\n",
              "      <td>-9.72</td>\n",
              "      <td>170.72</td>\n",
              "      <td>-6.28</td>\n",
              "      <td>585</td>\n",
              "      <td>7.20</td>\n",
              "      <td>13.14</td>\n",
              "      <td>NaN</td>\n",
              "      <td>NaN</td>\n",
              "    </tr>\n",
              "    <tr>\n",
              "      <th>2</th>\n",
              "      <td>12.00</td>\n",
              "      <td>0.29</td>\n",
              "      <td>-80.64</td>\n",
              "      <td>-3.90</td>\n",
              "      <td>15.64</td>\n",
              "      <td>20</td>\n",
              "      <td>-7.62</td>\n",
              "      <td>-39.01</td>\n",
              "      <td>-7.52</td>\n",
              "      <td>60.72</td>\n",
              "      <td>-4.79</td>\n",
              "      <td>45</td>\n",
              "      <td>5.05</td>\n",
              "      <td>13.38</td>\n",
              "      <td>7.33</td>\n",
              "      <td>NaN</td>\n",
              "    </tr>\n",
              "    <tr>\n",
              "      <th>3</th>\n",
              "      <td>2.00</td>\n",
              "      <td>-5.10</td>\n",
              "      <td>-47.64</td>\n",
              "      <td>-25.92</td>\n",
              "      <td>8.10</td>\n",
              "      <td>2</td>\n",
              "      <td>4.42</td>\n",
              "      <td>-82.01</td>\n",
              "      <td>-17.14</td>\n",
              "      <td>14.72</td>\n",
              "      <td>-0.33</td>\n",
              "      <td>174</td>\n",
              "      <td>0.95</td>\n",
              "      <td>37.08</td>\n",
              "      <td>6.93</td>\n",
              "      <td>NaN</td>\n",
              "    </tr>\n",
              "    <tr>\n",
              "      <th>4</th>\n",
              "      <td>1.26</td>\n",
              "      <td>-3.43</td>\n",
              "      <td>-35.64</td>\n",
              "      <td>-18.60</td>\n",
              "      <td>8.87</td>\n",
              "      <td>2</td>\n",
              "      <td>1.88</td>\n",
              "      <td>-60.01</td>\n",
              "      <td>-14.36</td>\n",
              "      <td>14.72</td>\n",
              "      <td>-1.12</td>\n",
              "      <td>117</td>\n",
              "      <td>0.67</td>\n",
              "      <td>38.58</td>\n",
              "      <td>8.18</td>\n",
              "      <td>NaN</td>\n",
              "    </tr>\n",
              "  </tbody>\n",
              "</table>\n",
              "</div>"
            ],
            "text/plain": [
              "      F1    F2     F3     F4     F5  F6    F7     F8     F9     F10   F11  \\\n",
              "0  19.10  0.05 -50.64  -9.21  17.09  20 -7.08 -34.01 -11.32  310.72 -5.48   \n",
              "1  14.60  1.32 -50.64  -2.64  17.04  20  4.74 -64.01  -9.72  170.72 -6.28   \n",
              "2  12.00  0.29 -80.64  -3.90  15.64  20 -7.62 -39.01  -7.52   60.72 -4.79   \n",
              "3   2.00 -5.10 -47.64 -25.92   8.10   2  4.42 -82.01 -17.14   14.72 -0.33   \n",
              "4   1.26 -3.43 -35.64 -18.60   8.87   2  1.88 -60.01 -14.36   14.72 -1.12   \n",
              "\n",
              "   F12   F13    F14   F15  Class  \n",
              "0  900  5.45  10.38   NaN    NaN  \n",
              "1  585  7.20  13.14   NaN    NaN  \n",
              "2   45  5.05  13.38  7.33    NaN  \n",
              "3  174  0.95  37.08  6.93    NaN  \n",
              "4  117  0.67  38.58  8.18    NaN  "
            ]
          },
          "metadata": {
            "tags": []
          },
          "execution_count": 126
        }
      ]
    },
    {
      "cell_type": "code",
      "metadata": {
        "id": "ZujAhd4xgPcS"
      },
      "source": [
        "p2_test_data_orig=p2_test_data.copy()"
      ],
      "execution_count": null,
      "outputs": []
    },
    {
      "cell_type": "code",
      "metadata": {
        "id": "JhMgYZtfgPcS",
        "outputId": "4be532f1-7b21-4154-d079-eb4255f4cfa4"
      },
      "source": [
        "p2_test_data_orig.head()"
      ],
      "execution_count": null,
      "outputs": [
        {
          "output_type": "execute_result",
          "data": {
            "text/html": [
              "<div>\n",
              "<style scoped>\n",
              "    .dataframe tbody tr th:only-of-type {\n",
              "        vertical-align: middle;\n",
              "    }\n",
              "\n",
              "    .dataframe tbody tr th {\n",
              "        vertical-align: top;\n",
              "    }\n",
              "\n",
              "    .dataframe thead th {\n",
              "        text-align: right;\n",
              "    }\n",
              "</style>\n",
              "<table border=\"1\" class=\"dataframe\">\n",
              "  <thead>\n",
              "    <tr style=\"text-align: right;\">\n",
              "      <th></th>\n",
              "      <th>F1</th>\n",
              "      <th>F2</th>\n",
              "      <th>F3</th>\n",
              "      <th>F4</th>\n",
              "      <th>F5</th>\n",
              "      <th>F6</th>\n",
              "      <th>F7</th>\n",
              "      <th>F8</th>\n",
              "      <th>F9</th>\n",
              "      <th>F10</th>\n",
              "      <th>F11</th>\n",
              "      <th>F12</th>\n",
              "      <th>F13</th>\n",
              "      <th>F14</th>\n",
              "      <th>F15</th>\n",
              "      <th>Class</th>\n",
              "    </tr>\n",
              "  </thead>\n",
              "  <tbody>\n",
              "    <tr>\n",
              "      <th>0</th>\n",
              "      <td>19.10</td>\n",
              "      <td>0.05</td>\n",
              "      <td>-50.64</td>\n",
              "      <td>-9.21</td>\n",
              "      <td>17.09</td>\n",
              "      <td>20</td>\n",
              "      <td>-7.08</td>\n",
              "      <td>-34.01</td>\n",
              "      <td>-11.32</td>\n",
              "      <td>310.72</td>\n",
              "      <td>-5.48</td>\n",
              "      <td>900</td>\n",
              "      <td>5.45</td>\n",
              "      <td>10.38</td>\n",
              "      <td>NaN</td>\n",
              "      <td>NaN</td>\n",
              "    </tr>\n",
              "    <tr>\n",
              "      <th>1</th>\n",
              "      <td>14.60</td>\n",
              "      <td>1.32</td>\n",
              "      <td>-50.64</td>\n",
              "      <td>-2.64</td>\n",
              "      <td>17.04</td>\n",
              "      <td>20</td>\n",
              "      <td>4.74</td>\n",
              "      <td>-64.01</td>\n",
              "      <td>-9.72</td>\n",
              "      <td>170.72</td>\n",
              "      <td>-6.28</td>\n",
              "      <td>585</td>\n",
              "      <td>7.20</td>\n",
              "      <td>13.14</td>\n",
              "      <td>NaN</td>\n",
              "      <td>NaN</td>\n",
              "    </tr>\n",
              "    <tr>\n",
              "      <th>2</th>\n",
              "      <td>12.00</td>\n",
              "      <td>0.29</td>\n",
              "      <td>-80.64</td>\n",
              "      <td>-3.90</td>\n",
              "      <td>15.64</td>\n",
              "      <td>20</td>\n",
              "      <td>-7.62</td>\n",
              "      <td>-39.01</td>\n",
              "      <td>-7.52</td>\n",
              "      <td>60.72</td>\n",
              "      <td>-4.79</td>\n",
              "      <td>45</td>\n",
              "      <td>5.05</td>\n",
              "      <td>13.38</td>\n",
              "      <td>7.33</td>\n",
              "      <td>NaN</td>\n",
              "    </tr>\n",
              "    <tr>\n",
              "      <th>3</th>\n",
              "      <td>2.00</td>\n",
              "      <td>-5.10</td>\n",
              "      <td>-47.64</td>\n",
              "      <td>-25.92</td>\n",
              "      <td>8.10</td>\n",
              "      <td>2</td>\n",
              "      <td>4.42</td>\n",
              "      <td>-82.01</td>\n",
              "      <td>-17.14</td>\n",
              "      <td>14.72</td>\n",
              "      <td>-0.33</td>\n",
              "      <td>174</td>\n",
              "      <td>0.95</td>\n",
              "      <td>37.08</td>\n",
              "      <td>6.93</td>\n",
              "      <td>NaN</td>\n",
              "    </tr>\n",
              "    <tr>\n",
              "      <th>4</th>\n",
              "      <td>1.26</td>\n",
              "      <td>-3.43</td>\n",
              "      <td>-35.64</td>\n",
              "      <td>-18.60</td>\n",
              "      <td>8.87</td>\n",
              "      <td>2</td>\n",
              "      <td>1.88</td>\n",
              "      <td>-60.01</td>\n",
              "      <td>-14.36</td>\n",
              "      <td>14.72</td>\n",
              "      <td>-1.12</td>\n",
              "      <td>117</td>\n",
              "      <td>0.67</td>\n",
              "      <td>38.58</td>\n",
              "      <td>8.18</td>\n",
              "      <td>NaN</td>\n",
              "    </tr>\n",
              "  </tbody>\n",
              "</table>\n",
              "</div>"
            ],
            "text/plain": [
              "      F1    F2     F3     F4     F5  F6    F7     F8     F9     F10   F11  \\\n",
              "0  19.10  0.05 -50.64  -9.21  17.09  20 -7.08 -34.01 -11.32  310.72 -5.48   \n",
              "1  14.60  1.32 -50.64  -2.64  17.04  20  4.74 -64.01  -9.72  170.72 -6.28   \n",
              "2  12.00  0.29 -80.64  -3.90  15.64  20 -7.62 -39.01  -7.52   60.72 -4.79   \n",
              "3   2.00 -5.10 -47.64 -25.92   8.10   2  4.42 -82.01 -17.14   14.72 -0.33   \n",
              "4   1.26 -3.43 -35.64 -18.60   8.87   2  1.88 -60.01 -14.36   14.72 -1.12   \n",
              "\n",
              "   F12   F13    F14   F15  Class  \n",
              "0  900  5.45  10.38   NaN    NaN  \n",
              "1  585  7.20  13.14   NaN    NaN  \n",
              "2   45  5.05  13.38  7.33    NaN  \n",
              "3  174  0.95  37.08  6.93    NaN  \n",
              "4  117  0.67  38.58  8.18    NaN  "
            ]
          },
          "metadata": {
            "tags": []
          },
          "execution_count": 133
        }
      ]
    },
    {
      "cell_type": "code",
      "metadata": {
        "id": "ZaZHvYEQgPcS",
        "outputId": "6ea3e07f-016a-424f-f06a-395ed3f083dd"
      },
      "source": [
        "p2_test_data.isnull().sum()"
      ],
      "execution_count": null,
      "outputs": [
        {
          "output_type": "execute_result",
          "data": {
            "text/plain": [
              "F1          0\n",
              "F2          0\n",
              "F3          0\n",
              "F4          0\n",
              "F5          0\n",
              "F6          0\n",
              "F7          0\n",
              "F8          0\n",
              "F9          0\n",
              "F10         0\n",
              "F11         0\n",
              "F12         0\n",
              "F13         0\n",
              "F14         0\n",
              "F15       750\n",
              "Class    1500\n",
              "dtype: int64"
            ]
          },
          "metadata": {
            "tags": []
          },
          "execution_count": 129
        }
      ]
    },
    {
      "cell_type": "code",
      "metadata": {
        "id": "w6qrb-iIgPcS"
      },
      "source": [
        "# fill missing values with mean column values\n",
        "p2_test_data.fillna(p2_test_data.mean(), inplace=True)"
      ],
      "execution_count": null,
      "outputs": []
    },
    {
      "cell_type": "code",
      "metadata": {
        "id": "NOCdq23_gPcT",
        "outputId": "a29b8f95-4fa4-429a-b586-f04b1e5b9a09"
      },
      "source": [
        "p2_test_data.isnull().sum()"
      ],
      "execution_count": null,
      "outputs": [
        {
          "output_type": "execute_result",
          "data": {
            "text/plain": [
              "F1          0\n",
              "F2          0\n",
              "F3          0\n",
              "F4          0\n",
              "F5          0\n",
              "F6          0\n",
              "F7          0\n",
              "F8          0\n",
              "F9          0\n",
              "F10         0\n",
              "F11         0\n",
              "F12         0\n",
              "F13         0\n",
              "F14         0\n",
              "F15         0\n",
              "Class    1500\n",
              "dtype: int64"
            ]
          },
          "metadata": {
            "tags": []
          },
          "execution_count": 131
        }
      ]
    },
    {
      "cell_type": "code",
      "metadata": {
        "id": "XKDVPKDsgPcT",
        "outputId": "2ba9d183-5ea9-4ead-98be-5d65ba9051f6"
      },
      "source": [
        "p2_test_data.head()"
      ],
      "execution_count": null,
      "outputs": [
        {
          "output_type": "execute_result",
          "data": {
            "text/html": [
              "<div>\n",
              "<style scoped>\n",
              "    .dataframe tbody tr th:only-of-type {\n",
              "        vertical-align: middle;\n",
              "    }\n",
              "\n",
              "    .dataframe tbody tr th {\n",
              "        vertical-align: top;\n",
              "    }\n",
              "\n",
              "    .dataframe thead th {\n",
              "        text-align: right;\n",
              "    }\n",
              "</style>\n",
              "<table border=\"1\" class=\"dataframe\">\n",
              "  <thead>\n",
              "    <tr style=\"text-align: right;\">\n",
              "      <th></th>\n",
              "      <th>F1</th>\n",
              "      <th>F2</th>\n",
              "      <th>F3</th>\n",
              "      <th>F4</th>\n",
              "      <th>F5</th>\n",
              "      <th>F6</th>\n",
              "      <th>F7</th>\n",
              "      <th>F8</th>\n",
              "      <th>F9</th>\n",
              "      <th>F10</th>\n",
              "      <th>F11</th>\n",
              "      <th>F12</th>\n",
              "      <th>F13</th>\n",
              "      <th>F14</th>\n",
              "      <th>F15</th>\n",
              "      <th>Class</th>\n",
              "    </tr>\n",
              "  </thead>\n",
              "  <tbody>\n",
              "    <tr>\n",
              "      <th>0</th>\n",
              "      <td>19.10</td>\n",
              "      <td>0.05</td>\n",
              "      <td>-50.64</td>\n",
              "      <td>-9.21</td>\n",
              "      <td>17.09</td>\n",
              "      <td>20</td>\n",
              "      <td>-7.08</td>\n",
              "      <td>-34.01</td>\n",
              "      <td>-11.32</td>\n",
              "      <td>310.72</td>\n",
              "      <td>-5.48</td>\n",
              "      <td>900</td>\n",
              "      <td>5.45</td>\n",
              "      <td>10.38</td>\n",
              "      <td>7.716347</td>\n",
              "      <td>NaN</td>\n",
              "    </tr>\n",
              "    <tr>\n",
              "      <th>1</th>\n",
              "      <td>14.60</td>\n",
              "      <td>1.32</td>\n",
              "      <td>-50.64</td>\n",
              "      <td>-2.64</td>\n",
              "      <td>17.04</td>\n",
              "      <td>20</td>\n",
              "      <td>4.74</td>\n",
              "      <td>-64.01</td>\n",
              "      <td>-9.72</td>\n",
              "      <td>170.72</td>\n",
              "      <td>-6.28</td>\n",
              "      <td>585</td>\n",
              "      <td>7.20</td>\n",
              "      <td>13.14</td>\n",
              "      <td>7.716347</td>\n",
              "      <td>NaN</td>\n",
              "    </tr>\n",
              "    <tr>\n",
              "      <th>2</th>\n",
              "      <td>12.00</td>\n",
              "      <td>0.29</td>\n",
              "      <td>-80.64</td>\n",
              "      <td>-3.90</td>\n",
              "      <td>15.64</td>\n",
              "      <td>20</td>\n",
              "      <td>-7.62</td>\n",
              "      <td>-39.01</td>\n",
              "      <td>-7.52</td>\n",
              "      <td>60.72</td>\n",
              "      <td>-4.79</td>\n",
              "      <td>45</td>\n",
              "      <td>5.05</td>\n",
              "      <td>13.38</td>\n",
              "      <td>7.330000</td>\n",
              "      <td>NaN</td>\n",
              "    </tr>\n",
              "    <tr>\n",
              "      <th>3</th>\n",
              "      <td>2.00</td>\n",
              "      <td>-5.10</td>\n",
              "      <td>-47.64</td>\n",
              "      <td>-25.92</td>\n",
              "      <td>8.10</td>\n",
              "      <td>2</td>\n",
              "      <td>4.42</td>\n",
              "      <td>-82.01</td>\n",
              "      <td>-17.14</td>\n",
              "      <td>14.72</td>\n",
              "      <td>-0.33</td>\n",
              "      <td>174</td>\n",
              "      <td>0.95</td>\n",
              "      <td>37.08</td>\n",
              "      <td>6.930000</td>\n",
              "      <td>NaN</td>\n",
              "    </tr>\n",
              "    <tr>\n",
              "      <th>4</th>\n",
              "      <td>1.26</td>\n",
              "      <td>-3.43</td>\n",
              "      <td>-35.64</td>\n",
              "      <td>-18.60</td>\n",
              "      <td>8.87</td>\n",
              "      <td>2</td>\n",
              "      <td>1.88</td>\n",
              "      <td>-60.01</td>\n",
              "      <td>-14.36</td>\n",
              "      <td>14.72</td>\n",
              "      <td>-1.12</td>\n",
              "      <td>117</td>\n",
              "      <td>0.67</td>\n",
              "      <td>38.58</td>\n",
              "      <td>8.180000</td>\n",
              "      <td>NaN</td>\n",
              "    </tr>\n",
              "  </tbody>\n",
              "</table>\n",
              "</div>"
            ],
            "text/plain": [
              "      F1    F2     F3     F4     F5  F6    F7     F8     F9     F10   F11  \\\n",
              "0  19.10  0.05 -50.64  -9.21  17.09  20 -7.08 -34.01 -11.32  310.72 -5.48   \n",
              "1  14.60  1.32 -50.64  -2.64  17.04  20  4.74 -64.01  -9.72  170.72 -6.28   \n",
              "2  12.00  0.29 -80.64  -3.90  15.64  20 -7.62 -39.01  -7.52   60.72 -4.79   \n",
              "3   2.00 -5.10 -47.64 -25.92   8.10   2  4.42 -82.01 -17.14   14.72 -0.33   \n",
              "4   1.26 -3.43 -35.64 -18.60   8.87   2  1.88 -60.01 -14.36   14.72 -1.12   \n",
              "\n",
              "   F12   F13    F14       F15  Class  \n",
              "0  900  5.45  10.38  7.716347    NaN  \n",
              "1  585  7.20  13.14  7.716347    NaN  \n",
              "2   45  5.05  13.38  7.330000    NaN  \n",
              "3  174  0.95  37.08  6.930000    NaN  \n",
              "4  117  0.67  38.58  8.180000    NaN  "
            ]
          },
          "metadata": {
            "tags": []
          },
          "execution_count": 134
        }
      ]
    },
    {
      "cell_type": "code",
      "metadata": {
        "id": "kRaJg-tdgPcT"
      },
      "source": [
        "#dropped columns as part of feature selection\n",
        "X_test = p2_test_data.drop([\"Class\",\"F11\",\"F14\"],axis=1)\n",
        "#Y_test = p2_test_data.Class # storing the target in Y but since we are doing prediction this line is not required"
      ],
      "execution_count": null,
      "outputs": []
    },
    {
      "cell_type": "code",
      "metadata": {
        "id": "ruYD6h2fgPcT",
        "outputId": "e4fe483d-2059-440d-c407-03f8a8f8d3bb"
      },
      "source": [
        "X_test.head()"
      ],
      "execution_count": null,
      "outputs": [
        {
          "output_type": "execute_result",
          "data": {
            "text/html": [
              "<div>\n",
              "<style scoped>\n",
              "    .dataframe tbody tr th:only-of-type {\n",
              "        vertical-align: middle;\n",
              "    }\n",
              "\n",
              "    .dataframe tbody tr th {\n",
              "        vertical-align: top;\n",
              "    }\n",
              "\n",
              "    .dataframe thead th {\n",
              "        text-align: right;\n",
              "    }\n",
              "</style>\n",
              "<table border=\"1\" class=\"dataframe\">\n",
              "  <thead>\n",
              "    <tr style=\"text-align: right;\">\n",
              "      <th></th>\n",
              "      <th>F1</th>\n",
              "      <th>F2</th>\n",
              "      <th>F3</th>\n",
              "      <th>F4</th>\n",
              "      <th>F5</th>\n",
              "      <th>F6</th>\n",
              "      <th>F7</th>\n",
              "      <th>F8</th>\n",
              "      <th>F9</th>\n",
              "      <th>F10</th>\n",
              "      <th>F12</th>\n",
              "      <th>F13</th>\n",
              "      <th>F15</th>\n",
              "    </tr>\n",
              "  </thead>\n",
              "  <tbody>\n",
              "    <tr>\n",
              "      <th>0</th>\n",
              "      <td>19.10</td>\n",
              "      <td>0.05</td>\n",
              "      <td>-50.64</td>\n",
              "      <td>-9.21</td>\n",
              "      <td>17.09</td>\n",
              "      <td>20</td>\n",
              "      <td>-7.08</td>\n",
              "      <td>-34.01</td>\n",
              "      <td>-11.32</td>\n",
              "      <td>310.72</td>\n",
              "      <td>900</td>\n",
              "      <td>5.45</td>\n",
              "      <td>7.716347</td>\n",
              "    </tr>\n",
              "    <tr>\n",
              "      <th>1</th>\n",
              "      <td>14.60</td>\n",
              "      <td>1.32</td>\n",
              "      <td>-50.64</td>\n",
              "      <td>-2.64</td>\n",
              "      <td>17.04</td>\n",
              "      <td>20</td>\n",
              "      <td>4.74</td>\n",
              "      <td>-64.01</td>\n",
              "      <td>-9.72</td>\n",
              "      <td>170.72</td>\n",
              "      <td>585</td>\n",
              "      <td>7.20</td>\n",
              "      <td>7.716347</td>\n",
              "    </tr>\n",
              "    <tr>\n",
              "      <th>2</th>\n",
              "      <td>12.00</td>\n",
              "      <td>0.29</td>\n",
              "      <td>-80.64</td>\n",
              "      <td>-3.90</td>\n",
              "      <td>15.64</td>\n",
              "      <td>20</td>\n",
              "      <td>-7.62</td>\n",
              "      <td>-39.01</td>\n",
              "      <td>-7.52</td>\n",
              "      <td>60.72</td>\n",
              "      <td>45</td>\n",
              "      <td>5.05</td>\n",
              "      <td>7.330000</td>\n",
              "    </tr>\n",
              "    <tr>\n",
              "      <th>3</th>\n",
              "      <td>2.00</td>\n",
              "      <td>-5.10</td>\n",
              "      <td>-47.64</td>\n",
              "      <td>-25.92</td>\n",
              "      <td>8.10</td>\n",
              "      <td>2</td>\n",
              "      <td>4.42</td>\n",
              "      <td>-82.01</td>\n",
              "      <td>-17.14</td>\n",
              "      <td>14.72</td>\n",
              "      <td>174</td>\n",
              "      <td>0.95</td>\n",
              "      <td>6.930000</td>\n",
              "    </tr>\n",
              "    <tr>\n",
              "      <th>4</th>\n",
              "      <td>1.26</td>\n",
              "      <td>-3.43</td>\n",
              "      <td>-35.64</td>\n",
              "      <td>-18.60</td>\n",
              "      <td>8.87</td>\n",
              "      <td>2</td>\n",
              "      <td>1.88</td>\n",
              "      <td>-60.01</td>\n",
              "      <td>-14.36</td>\n",
              "      <td>14.72</td>\n",
              "      <td>117</td>\n",
              "      <td>0.67</td>\n",
              "      <td>8.180000</td>\n",
              "    </tr>\n",
              "  </tbody>\n",
              "</table>\n",
              "</div>"
            ],
            "text/plain": [
              "      F1    F2     F3     F4     F5  F6    F7     F8     F9     F10  F12  \\\n",
              "0  19.10  0.05 -50.64  -9.21  17.09  20 -7.08 -34.01 -11.32  310.72  900   \n",
              "1  14.60  1.32 -50.64  -2.64  17.04  20  4.74 -64.01  -9.72  170.72  585   \n",
              "2  12.00  0.29 -80.64  -3.90  15.64  20 -7.62 -39.01  -7.52   60.72   45   \n",
              "3   2.00 -5.10 -47.64 -25.92   8.10   2  4.42 -82.01 -17.14   14.72  174   \n",
              "4   1.26 -3.43 -35.64 -18.60   8.87   2  1.88 -60.01 -14.36   14.72  117   \n",
              "\n",
              "    F13       F15  \n",
              "0  5.45  7.716347  \n",
              "1  7.20  7.716347  \n",
              "2  5.05  7.330000  \n",
              "3  0.95  6.930000  \n",
              "4  0.67  8.180000  "
            ]
          },
          "metadata": {
            "tags": []
          },
          "execution_count": 136
        }
      ]
    },
    {
      "cell_type": "code",
      "metadata": {
        "id": "cj_O2fNHgPcT",
        "outputId": "96d2b683-c341-4e3c-b231-045447d5e48e"
      },
      "source": [
        "#checking to make sure that the tuned model is used for prediction\n",
        "rf_t "
      ],
      "execution_count": null,
      "outputs": [
        {
          "output_type": "execute_result",
          "data": {
            "text/plain": [
              "RandomForestClassifier(criterion='entropy', max_depth=20, n_estimators=553)"
            ]
          },
          "metadata": {
            "tags": []
          },
          "execution_count": 137
        }
      ]
    },
    {
      "cell_type": "code",
      "metadata": {
        "id": "t4tuVcE0gPcU"
      },
      "source": [
        "#making the predictions\n",
        "Y_pred=rf_t.predict(X_test)"
      ],
      "execution_count": null,
      "outputs": []
    },
    {
      "cell_type": "code",
      "metadata": {
        "id": "jmtjR6zegPcU",
        "outputId": "f79d3683-72ae-433c-878d-0b2b3a1e3456"
      },
      "source": [
        "Y_pred"
      ],
      "execution_count": null,
      "outputs": [
        {
          "output_type": "execute_result",
          "data": {
            "text/plain": [
              "array([0, 1, 0, ..., 0, 0, 0], dtype=int64)"
            ]
          },
          "metadata": {
            "tags": []
          },
          "execution_count": 139
        }
      ]
    },
    {
      "cell_type": "code",
      "metadata": {
        "id": "3tmpo1WcgPcU"
      },
      "source": [
        "#storing the predictions made in the original test file\n",
        "p2_test_data_orig.loc[:,'Class']=Y_pred"
      ],
      "execution_count": null,
      "outputs": []
    },
    {
      "cell_type": "code",
      "metadata": {
        "id": "gLw-UavNgPcU",
        "outputId": "bfa2880a-3733-435d-fcd7-0c3cb7bb1cb8"
      },
      "source": [
        "p2_test_data_orig.head()"
      ],
      "execution_count": null,
      "outputs": [
        {
          "output_type": "execute_result",
          "data": {
            "text/html": [
              "<div>\n",
              "<style scoped>\n",
              "    .dataframe tbody tr th:only-of-type {\n",
              "        vertical-align: middle;\n",
              "    }\n",
              "\n",
              "    .dataframe tbody tr th {\n",
              "        vertical-align: top;\n",
              "    }\n",
              "\n",
              "    .dataframe thead th {\n",
              "        text-align: right;\n",
              "    }\n",
              "</style>\n",
              "<table border=\"1\" class=\"dataframe\">\n",
              "  <thead>\n",
              "    <tr style=\"text-align: right;\">\n",
              "      <th></th>\n",
              "      <th>F1</th>\n",
              "      <th>F2</th>\n",
              "      <th>F3</th>\n",
              "      <th>F4</th>\n",
              "      <th>F5</th>\n",
              "      <th>F6</th>\n",
              "      <th>F7</th>\n",
              "      <th>F8</th>\n",
              "      <th>F9</th>\n",
              "      <th>F10</th>\n",
              "      <th>F11</th>\n",
              "      <th>F12</th>\n",
              "      <th>F13</th>\n",
              "      <th>F14</th>\n",
              "      <th>F15</th>\n",
              "      <th>Class</th>\n",
              "    </tr>\n",
              "  </thead>\n",
              "  <tbody>\n",
              "    <tr>\n",
              "      <th>0</th>\n",
              "      <td>19.10</td>\n",
              "      <td>0.05</td>\n",
              "      <td>-50.64</td>\n",
              "      <td>-9.21</td>\n",
              "      <td>17.09</td>\n",
              "      <td>20</td>\n",
              "      <td>-7.08</td>\n",
              "      <td>-34.01</td>\n",
              "      <td>-11.32</td>\n",
              "      <td>310.72</td>\n",
              "      <td>-5.48</td>\n",
              "      <td>900</td>\n",
              "      <td>5.45</td>\n",
              "      <td>10.38</td>\n",
              "      <td>NaN</td>\n",
              "      <td>0</td>\n",
              "    </tr>\n",
              "    <tr>\n",
              "      <th>1</th>\n",
              "      <td>14.60</td>\n",
              "      <td>1.32</td>\n",
              "      <td>-50.64</td>\n",
              "      <td>-2.64</td>\n",
              "      <td>17.04</td>\n",
              "      <td>20</td>\n",
              "      <td>4.74</td>\n",
              "      <td>-64.01</td>\n",
              "      <td>-9.72</td>\n",
              "      <td>170.72</td>\n",
              "      <td>-6.28</td>\n",
              "      <td>585</td>\n",
              "      <td>7.20</td>\n",
              "      <td>13.14</td>\n",
              "      <td>NaN</td>\n",
              "      <td>1</td>\n",
              "    </tr>\n",
              "    <tr>\n",
              "      <th>2</th>\n",
              "      <td>12.00</td>\n",
              "      <td>0.29</td>\n",
              "      <td>-80.64</td>\n",
              "      <td>-3.90</td>\n",
              "      <td>15.64</td>\n",
              "      <td>20</td>\n",
              "      <td>-7.62</td>\n",
              "      <td>-39.01</td>\n",
              "      <td>-7.52</td>\n",
              "      <td>60.72</td>\n",
              "      <td>-4.79</td>\n",
              "      <td>45</td>\n",
              "      <td>5.05</td>\n",
              "      <td>13.38</td>\n",
              "      <td>7.33</td>\n",
              "      <td>0</td>\n",
              "    </tr>\n",
              "    <tr>\n",
              "      <th>3</th>\n",
              "      <td>2.00</td>\n",
              "      <td>-5.10</td>\n",
              "      <td>-47.64</td>\n",
              "      <td>-25.92</td>\n",
              "      <td>8.10</td>\n",
              "      <td>2</td>\n",
              "      <td>4.42</td>\n",
              "      <td>-82.01</td>\n",
              "      <td>-17.14</td>\n",
              "      <td>14.72</td>\n",
              "      <td>-0.33</td>\n",
              "      <td>174</td>\n",
              "      <td>0.95</td>\n",
              "      <td>37.08</td>\n",
              "      <td>6.93</td>\n",
              "      <td>0</td>\n",
              "    </tr>\n",
              "    <tr>\n",
              "      <th>4</th>\n",
              "      <td>1.26</td>\n",
              "      <td>-3.43</td>\n",
              "      <td>-35.64</td>\n",
              "      <td>-18.60</td>\n",
              "      <td>8.87</td>\n",
              "      <td>2</td>\n",
              "      <td>1.88</td>\n",
              "      <td>-60.01</td>\n",
              "      <td>-14.36</td>\n",
              "      <td>14.72</td>\n",
              "      <td>-1.12</td>\n",
              "      <td>117</td>\n",
              "      <td>0.67</td>\n",
              "      <td>38.58</td>\n",
              "      <td>8.18</td>\n",
              "      <td>1</td>\n",
              "    </tr>\n",
              "  </tbody>\n",
              "</table>\n",
              "</div>"
            ],
            "text/plain": [
              "      F1    F2     F3     F4     F5  F6    F7     F8     F9     F10   F11  \\\n",
              "0  19.10  0.05 -50.64  -9.21  17.09  20 -7.08 -34.01 -11.32  310.72 -5.48   \n",
              "1  14.60  1.32 -50.64  -2.64  17.04  20  4.74 -64.01  -9.72  170.72 -6.28   \n",
              "2  12.00  0.29 -80.64  -3.90  15.64  20 -7.62 -39.01  -7.52   60.72 -4.79   \n",
              "3   2.00 -5.10 -47.64 -25.92   8.10   2  4.42 -82.01 -17.14   14.72 -0.33   \n",
              "4   1.26 -3.43 -35.64 -18.60   8.87   2  1.88 -60.01 -14.36   14.72 -1.12   \n",
              "\n",
              "   F12   F13    F14   F15  Class  \n",
              "0  900  5.45  10.38   NaN      0  \n",
              "1  585  7.20  13.14   NaN      1  \n",
              "2   45  5.05  13.38  7.33      0  \n",
              "3  174  0.95  37.08  6.93      0  \n",
              "4  117  0.67  38.58  8.18      1  "
            ]
          },
          "metadata": {
            "tags": []
          },
          "execution_count": 141
        }
      ]
    },
    {
      "cell_type": "code",
      "metadata": {
        "id": "BjiWiS07gPcU"
      },
      "source": [
        "#mappling true and false to 1 and 0\n",
        "p2_test_data_orig[\"Class\"] = p2_data[\"Class\"].map({0: False, 1: True})"
      ],
      "execution_count": null,
      "outputs": []
    },
    {
      "cell_type": "code",
      "metadata": {
        "id": "-pvdtvjtgPcV",
        "outputId": "cfd2c003-c01a-42f1-8606-1161332347b7"
      },
      "source": [
        "p2_test_data_orig.head()"
      ],
      "execution_count": null,
      "outputs": [
        {
          "output_type": "execute_result",
          "data": {
            "text/html": [
              "<div>\n",
              "<style scoped>\n",
              "    .dataframe tbody tr th:only-of-type {\n",
              "        vertical-align: middle;\n",
              "    }\n",
              "\n",
              "    .dataframe tbody tr th {\n",
              "        vertical-align: top;\n",
              "    }\n",
              "\n",
              "    .dataframe thead th {\n",
              "        text-align: right;\n",
              "    }\n",
              "</style>\n",
              "<table border=\"1\" class=\"dataframe\">\n",
              "  <thead>\n",
              "    <tr style=\"text-align: right;\">\n",
              "      <th></th>\n",
              "      <th>F1</th>\n",
              "      <th>F2</th>\n",
              "      <th>F3</th>\n",
              "      <th>F4</th>\n",
              "      <th>F5</th>\n",
              "      <th>F6</th>\n",
              "      <th>F7</th>\n",
              "      <th>F8</th>\n",
              "      <th>F9</th>\n",
              "      <th>F10</th>\n",
              "      <th>F11</th>\n",
              "      <th>F12</th>\n",
              "      <th>F13</th>\n",
              "      <th>F14</th>\n",
              "      <th>F15</th>\n",
              "      <th>Class</th>\n",
              "    </tr>\n",
              "  </thead>\n",
              "  <tbody>\n",
              "    <tr>\n",
              "      <th>0</th>\n",
              "      <td>19.10</td>\n",
              "      <td>0.05</td>\n",
              "      <td>-50.64</td>\n",
              "      <td>-9.21</td>\n",
              "      <td>17.09</td>\n",
              "      <td>20</td>\n",
              "      <td>-7.08</td>\n",
              "      <td>-34.01</td>\n",
              "      <td>-11.32</td>\n",
              "      <td>310.72</td>\n",
              "      <td>-5.48</td>\n",
              "      <td>900</td>\n",
              "      <td>5.45</td>\n",
              "      <td>10.38</td>\n",
              "      <td>NaN</td>\n",
              "      <td>False</td>\n",
              "    </tr>\n",
              "    <tr>\n",
              "      <th>1</th>\n",
              "      <td>14.60</td>\n",
              "      <td>1.32</td>\n",
              "      <td>-50.64</td>\n",
              "      <td>-2.64</td>\n",
              "      <td>17.04</td>\n",
              "      <td>20</td>\n",
              "      <td>4.74</td>\n",
              "      <td>-64.01</td>\n",
              "      <td>-9.72</td>\n",
              "      <td>170.72</td>\n",
              "      <td>-6.28</td>\n",
              "      <td>585</td>\n",
              "      <td>7.20</td>\n",
              "      <td>13.14</td>\n",
              "      <td>NaN</td>\n",
              "      <td>True</td>\n",
              "    </tr>\n",
              "    <tr>\n",
              "      <th>2</th>\n",
              "      <td>12.00</td>\n",
              "      <td>0.29</td>\n",
              "      <td>-80.64</td>\n",
              "      <td>-3.90</td>\n",
              "      <td>15.64</td>\n",
              "      <td>20</td>\n",
              "      <td>-7.62</td>\n",
              "      <td>-39.01</td>\n",
              "      <td>-7.52</td>\n",
              "      <td>60.72</td>\n",
              "      <td>-4.79</td>\n",
              "      <td>45</td>\n",
              "      <td>5.05</td>\n",
              "      <td>13.38</td>\n",
              "      <td>7.33</td>\n",
              "      <td>False</td>\n",
              "    </tr>\n",
              "    <tr>\n",
              "      <th>3</th>\n",
              "      <td>2.00</td>\n",
              "      <td>-5.10</td>\n",
              "      <td>-47.64</td>\n",
              "      <td>-25.92</td>\n",
              "      <td>8.10</td>\n",
              "      <td>2</td>\n",
              "      <td>4.42</td>\n",
              "      <td>-82.01</td>\n",
              "      <td>-17.14</td>\n",
              "      <td>14.72</td>\n",
              "      <td>-0.33</td>\n",
              "      <td>174</td>\n",
              "      <td>0.95</td>\n",
              "      <td>37.08</td>\n",
              "      <td>6.93</td>\n",
              "      <td>False</td>\n",
              "    </tr>\n",
              "    <tr>\n",
              "      <th>4</th>\n",
              "      <td>1.26</td>\n",
              "      <td>-3.43</td>\n",
              "      <td>-35.64</td>\n",
              "      <td>-18.60</td>\n",
              "      <td>8.87</td>\n",
              "      <td>2</td>\n",
              "      <td>1.88</td>\n",
              "      <td>-60.01</td>\n",
              "      <td>-14.36</td>\n",
              "      <td>14.72</td>\n",
              "      <td>-1.12</td>\n",
              "      <td>117</td>\n",
              "      <td>0.67</td>\n",
              "      <td>38.58</td>\n",
              "      <td>8.18</td>\n",
              "      <td>True</td>\n",
              "    </tr>\n",
              "  </tbody>\n",
              "</table>\n",
              "</div>"
            ],
            "text/plain": [
              "      F1    F2     F3     F4     F5  F6    F7     F8     F9     F10   F11  \\\n",
              "0  19.10  0.05 -50.64  -9.21  17.09  20 -7.08 -34.01 -11.32  310.72 -5.48   \n",
              "1  14.60  1.32 -50.64  -2.64  17.04  20  4.74 -64.01  -9.72  170.72 -6.28   \n",
              "2  12.00  0.29 -80.64  -3.90  15.64  20 -7.62 -39.01  -7.52   60.72 -4.79   \n",
              "3   2.00 -5.10 -47.64 -25.92   8.10   2  4.42 -82.01 -17.14   14.72 -0.33   \n",
              "4   1.26 -3.43 -35.64 -18.60   8.87   2  1.88 -60.01 -14.36   14.72 -1.12   \n",
              "\n",
              "   F12   F13    F14   F15  Class  \n",
              "0  900  5.45  10.38   NaN  False  \n",
              "1  585  7.20  13.14   NaN   True  \n",
              "2   45  5.05  13.38  7.33  False  \n",
              "3  174  0.95  37.08  6.93  False  \n",
              "4  117  0.67  38.58  8.18   True  "
            ]
          },
          "metadata": {
            "tags": []
          },
          "execution_count": 146
        }
      ]
    },
    {
      "cell_type": "code",
      "metadata": {
        "id": "iaXhHeaJgPcV"
      },
      "source": [
        "#exporting the test file with predictions \n",
        "p2_test_data_orig.to_csv('E:/ML Project/CE802_P2_Test.csv',index=False)"
      ],
      "execution_count": null,
      "outputs": []
    },
    {
      "cell_type": "code",
      "metadata": {
        "id": "Q3o0He9ugPcV"
      },
      "source": [
        ""
      ],
      "execution_count": null,
      "outputs": []
    }
  ]
}