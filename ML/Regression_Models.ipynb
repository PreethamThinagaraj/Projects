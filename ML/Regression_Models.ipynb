{
  "nbformat": 4,
  "nbformat_minor": 0,
  "metadata": {
    "kernelspec": {
      "display_name": "Python 3",
      "language": "python",
      "name": "python3"
    },
    "language_info": {
      "codemirror_mode": {
        "name": "ipython",
        "version": 3
      },
      "file_extension": ".py",
      "mimetype": "text/x-python",
      "name": "python",
      "nbconvert_exporter": "python",
      "pygments_lexer": "ipython3",
      "version": "3.8.5"
    },
    "colab": {
      "name": "Regression Models.ipynb",
      "provenance": [],
      "include_colab_link": true
    }
  },
  "cells": [
    {
      "cell_type": "markdown",
      "metadata": {
        "id": "view-in-github",
        "colab_type": "text"
      },
      "source": [
        "<a href=\"https://colab.research.google.com/github/PreethamThinagaraj/Projects/blob/main/ML/Regression_Models.ipynb\" target=\"_parent\"><img src=\"https://colab.research.google.com/assets/colab-badge.svg\" alt=\"Open In Colab\"/></a>"
      ]
    },
    {
      "cell_type": "code",
      "metadata": {
        "id": "cthqLHI8hJiw"
      },
      "source": [
        "import pandas as pd\n",
        "import numpy as np\n",
        "import seaborn as sns\n",
        "import matplotlib.pyplot as plt"
      ],
      "execution_count": null,
      "outputs": []
    },
    {
      "cell_type": "code",
      "metadata": {
        "id": "O6XVTAyXhJix"
      },
      "source": [
        "#reading the data\n",
        "p3_data=pd.read_csv(\"E:/ML Project/CE802_P3_Data/CE802_P3_Data.csv\")"
      ],
      "execution_count": null,
      "outputs": []
    },
    {
      "cell_type": "code",
      "metadata": {
        "id": "c4L6obR9hJix",
        "outputId": "f43b9691-13fb-45ff-ed8f-c70cde0183a1"
      },
      "source": [
        "p3_data.head(5)"
      ],
      "execution_count": null,
      "outputs": [
        {
          "output_type": "execute_result",
          "data": {
            "text/html": [
              "<div>\n",
              "<style scoped>\n",
              "    .dataframe tbody tr th:only-of-type {\n",
              "        vertical-align: middle;\n",
              "    }\n",
              "\n",
              "    .dataframe tbody tr th {\n",
              "        vertical-align: top;\n",
              "    }\n",
              "\n",
              "    .dataframe thead th {\n",
              "        text-align: right;\n",
              "    }\n",
              "</style>\n",
              "<table border=\"1\" class=\"dataframe\">\n",
              "  <thead>\n",
              "    <tr style=\"text-align: right;\">\n",
              "      <th></th>\n",
              "      <th>F1</th>\n",
              "      <th>F2</th>\n",
              "      <th>F3</th>\n",
              "      <th>F4</th>\n",
              "      <th>F5</th>\n",
              "      <th>F6</th>\n",
              "      <th>F7</th>\n",
              "      <th>F8</th>\n",
              "      <th>F9</th>\n",
              "      <th>F10</th>\n",
              "      <th>F11</th>\n",
              "      <th>F12</th>\n",
              "      <th>F13</th>\n",
              "      <th>F14</th>\n",
              "      <th>F15</th>\n",
              "      <th>F16</th>\n",
              "      <th>Target</th>\n",
              "    </tr>\n",
              "  </thead>\n",
              "  <tbody>\n",
              "    <tr>\n",
              "      <th>0</th>\n",
              "      <td>-39.32</td>\n",
              "      <td>5.72</td>\n",
              "      <td>-13.83</td>\n",
              "      <td>High</td>\n",
              "      <td>UK</td>\n",
              "      <td>0.03</td>\n",
              "      <td>-200.46</td>\n",
              "      <td>122.09</td>\n",
              "      <td>-2.96</td>\n",
              "      <td>6</td>\n",
              "      <td>2.67</td>\n",
              "      <td>8</td>\n",
              "      <td>607.14</td>\n",
              "      <td>19.19</td>\n",
              "      <td>10523.40</td>\n",
              "      <td>-635.80</td>\n",
              "      <td>1051.99</td>\n",
              "    </tr>\n",
              "    <tr>\n",
              "      <th>1</th>\n",
              "      <td>-29.38</td>\n",
              "      <td>8.20</td>\n",
              "      <td>-11.07</td>\n",
              "      <td>Medium</td>\n",
              "      <td>UK</td>\n",
              "      <td>56.97</td>\n",
              "      <td>-427.78</td>\n",
              "      <td>74.25</td>\n",
              "      <td>-22.94</td>\n",
              "      <td>4</td>\n",
              "      <td>3.84</td>\n",
              "      <td>10</td>\n",
              "      <td>867.03</td>\n",
              "      <td>12.65</td>\n",
              "      <td>10037.04</td>\n",
              "      <td>-469.73</td>\n",
              "      <td>816.64</td>\n",
              "    </tr>\n",
              "    <tr>\n",
              "      <th>2</th>\n",
              "      <td>2.46</td>\n",
              "      <td>20.32</td>\n",
              "      <td>-7.59</td>\n",
              "      <td>Low</td>\n",
              "      <td>Rest</td>\n",
              "      <td>45.00</td>\n",
              "      <td>-329.02</td>\n",
              "      <td>96.98</td>\n",
              "      <td>-10.90</td>\n",
              "      <td>4</td>\n",
              "      <td>13.14</td>\n",
              "      <td>8</td>\n",
              "      <td>-153.66</td>\n",
              "      <td>13.01</td>\n",
              "      <td>15100.28</td>\n",
              "      <td>-662.31</td>\n",
              "      <td>3241.77</td>\n",
              "    </tr>\n",
              "    <tr>\n",
              "      <th>3</th>\n",
              "      <td>16.33</td>\n",
              "      <td>2.76</td>\n",
              "      <td>-8.40</td>\n",
              "      <td>High</td>\n",
              "      <td>Rest</td>\n",
              "      <td>0.12</td>\n",
              "      <td>-196.88</td>\n",
              "      <td>42.45</td>\n",
              "      <td>-12.16</td>\n",
              "      <td>12</td>\n",
              "      <td>1.29</td>\n",
              "      <td>6</td>\n",
              "      <td>1461.87</td>\n",
              "      <td>9.19</td>\n",
              "      <td>22518.15</td>\n",
              "      <td>-1100.35</td>\n",
              "      <td>0.00</td>\n",
              "    </tr>\n",
              "    <tr>\n",
              "      <th>4</th>\n",
              "      <td>-14.93</td>\n",
              "      <td>9.98</td>\n",
              "      <td>-5.28</td>\n",
              "      <td>Medium</td>\n",
              "      <td>USA</td>\n",
              "      <td>557.61</td>\n",
              "      <td>-249.50</td>\n",
              "      <td>76.25</td>\n",
              "      <td>-20.54</td>\n",
              "      <td>8</td>\n",
              "      <td>2.58</td>\n",
              "      <td>2</td>\n",
              "      <td>-433.89</td>\n",
              "      <td>18.44</td>\n",
              "      <td>20111.46</td>\n",
              "      <td>-752.48</td>\n",
              "      <td>0.00</td>\n",
              "    </tr>\n",
              "  </tbody>\n",
              "</table>\n",
              "</div>"
            ],
            "text/plain": [
              "      F1     F2     F3      F4    F5      F6      F7      F8     F9  F10  \\\n",
              "0 -39.32   5.72 -13.83    High    UK    0.03 -200.46  122.09  -2.96    6   \n",
              "1 -29.38   8.20 -11.07  Medium    UK   56.97 -427.78   74.25 -22.94    4   \n",
              "2   2.46  20.32  -7.59     Low  Rest   45.00 -329.02   96.98 -10.90    4   \n",
              "3  16.33   2.76  -8.40    High  Rest    0.12 -196.88   42.45 -12.16   12   \n",
              "4 -14.93   9.98  -5.28  Medium   USA  557.61 -249.50   76.25 -20.54    8   \n",
              "\n",
              "     F11  F12      F13    F14       F15      F16   Target  \n",
              "0   2.67    8   607.14  19.19  10523.40  -635.80  1051.99  \n",
              "1   3.84   10   867.03  12.65  10037.04  -469.73   816.64  \n",
              "2  13.14    8  -153.66  13.01  15100.28  -662.31  3241.77  \n",
              "3   1.29    6  1461.87   9.19  22518.15 -1100.35     0.00  \n",
              "4   2.58    2  -433.89  18.44  20111.46  -752.48     0.00  "
            ]
          },
          "metadata": {
            "tags": []
          },
          "execution_count": 3
        }
      ]
    },
    {
      "cell_type": "code",
      "metadata": {
        "id": "FFxO2BaAhJiy",
        "outputId": "b6ea60f9-a557-4420-909f-827317a76096"
      },
      "source": [
        "p3_data.shape"
      ],
      "execution_count": null,
      "outputs": [
        {
          "output_type": "execute_result",
          "data": {
            "text/plain": [
              "(1500, 17)"
            ]
          },
          "metadata": {
            "tags": []
          },
          "execution_count": 4
        }
      ]
    },
    {
      "cell_type": "code",
      "metadata": {
        "id": "4dVPR9O_hJiz",
        "outputId": "a94a199a-b837-49b9-8c4a-ea4c014c3eea"
      },
      "source": [
        "p3_data.dtypes"
      ],
      "execution_count": null,
      "outputs": [
        {
          "output_type": "execute_result",
          "data": {
            "text/plain": [
              "F1        float64\n",
              "F2        float64\n",
              "F3        float64\n",
              "F4         object\n",
              "F5         object\n",
              "F6        float64\n",
              "F7        float64\n",
              "F8        float64\n",
              "F9        float64\n",
              "F10         int64\n",
              "F11       float64\n",
              "F12         int64\n",
              "F13       float64\n",
              "F14       float64\n",
              "F15       float64\n",
              "F16       float64\n",
              "Target    float64\n",
              "dtype: object"
            ]
          },
          "metadata": {
            "tags": []
          },
          "execution_count": 5
        }
      ]
    },
    {
      "cell_type": "code",
      "metadata": {
        "id": "0N4WQCwPhJiz",
        "outputId": "9ca9e66a-a84e-483f-b58c-a624933799ee"
      },
      "source": [
        "#checking for null values\n",
        "p3_data.isnull().sum()"
      ],
      "execution_count": null,
      "outputs": [
        {
          "output_type": "execute_result",
          "data": {
            "text/plain": [
              "F1        0\n",
              "F2        0\n",
              "F3        0\n",
              "F4        0\n",
              "F5        0\n",
              "F6        0\n",
              "F7        0\n",
              "F8        0\n",
              "F9        0\n",
              "F10       0\n",
              "F11       0\n",
              "F12       0\n",
              "F13       0\n",
              "F14       0\n",
              "F15       0\n",
              "F16       0\n",
              "Target    0\n",
              "dtype: int64"
            ]
          },
          "metadata": {
            "tags": []
          },
          "execution_count": 6
        }
      ]
    },
    {
      "cell_type": "code",
      "metadata": {
        "id": "QNcZBQtdhJi0",
        "outputId": "6653ec3b-cfb6-44b9-9675-066b0ef76f9c"
      },
      "source": [
        "#correlation heat map\n",
        "fig, ax = plt.subplots(figsize=(17,6))\n",
        "sns.heatmap(p3_data.corr(), annot=True,ax=ax)\n",
        "plt.show()"
      ],
      "execution_count": null,
      "outputs": [
        {
          "output_type": "display_data",
          "data": {
            "image/png": "[encoded data removed]",
            "text/plain": [
              "<Figure size 1224x432 with 2 Axes>"
            ]
          },
          "metadata": {
            "tags": [],
            "needs_background": "light"
          }
        }
      ]
    },
    {
      "cell_type": "code",
      "metadata": {
        "id": "j5nhOxtkhJi0",
        "outputId": "1b65a725-ce15-4eb4-e24f-5a335c3829d3"
      },
      "source": [
        "#checking the impact of the categorical variables on the target variable using a barplot\n",
        "sns.barplot(x='F4', y='Target', data=p3_data)"
      ],
      "execution_count": null,
      "outputs": [
        {
          "output_type": "execute_result",
          "data": {
            "text/plain": [
              "<AxesSubplot:xlabel='F4', ylabel='Target'>"
            ]
          },
          "metadata": {
            "tags": []
          },
          "execution_count": 8
        },
        {
          "output_type": "display_data",
          "data": {
            "image/png": "[encoded data removed]",
            "text/plain": [
              "<Figure size 432x288 with 1 Axes>"
            ]
          },
          "metadata": {
            "tags": [],
            "needs_background": "light"
          }
        }
      ]
    },
    {
      "cell_type": "code",
      "metadata": {
        "id": "YIy7mMHWhJi0",
        "outputId": "c99955a9-5cb2-454f-c34c-f5a3086b82c8"
      },
      "source": [
        "#checking the impact of the categorical variables on the target variable using a barplot\n",
        "sns.barplot(x='F5', y='Target', data=p3_data)"
      ],
      "execution_count": null,
      "outputs": [
        {
          "output_type": "execute_result",
          "data": {
            "text/plain": [
              "<AxesSubplot:xlabel='F5', ylabel='Target'>"
            ]
          },
          "metadata": {
            "tags": []
          },
          "execution_count": 9
        },
        {
          "output_type": "display_data",
          "data": {
            "image/png": "[encoded data removed]",
            "text/plain": [
              "<Figure size 432x288 with 1 Axes>"
            ]
          },
          "metadata": {
            "tags": [],
            "needs_background": "light"
          }
        }
      ]
    },
    {
      "cell_type": "code",
      "metadata": {
        "id": "4jkcnE0nhJi1"
      },
      "source": [
        "#creating dummies to convert categorical columns to integer\n",
        "dummies1  = pd.get_dummies(p3_data['F4'])"
      ],
      "execution_count": null,
      "outputs": []
    },
    {
      "cell_type": "code",
      "metadata": {
        "id": "Be1Zf1vghJi1"
      },
      "source": [
        "dummies1.drop(['Very low'], axis=1, inplace=True)"
      ],
      "execution_count": null,
      "outputs": []
    },
    {
      "cell_type": "code",
      "metadata": {
        "id": "ipuNt_0ghJi2",
        "outputId": "3d3dc045-ab1b-4f58-f7c4-dc5d4e59b0ec"
      },
      "source": [
        "dummies1"
      ],
      "execution_count": null,
      "outputs": [
        {
          "output_type": "execute_result",
          "data": {
            "text/html": [
              "<div>\n",
              "<style scoped>\n",
              "    .dataframe tbody tr th:only-of-type {\n",
              "        vertical-align: middle;\n",
              "    }\n",
              "\n",
              "    .dataframe tbody tr th {\n",
              "        vertical-align: top;\n",
              "    }\n",
              "\n",
              "    .dataframe thead th {\n",
              "        text-align: right;\n",
              "    }\n",
              "</style>\n",
              "<table border=\"1\" class=\"dataframe\">\n",
              "  <thead>\n",
              "    <tr style=\"text-align: right;\">\n",
              "      <th></th>\n",
              "      <th>High</th>\n",
              "      <th>Low</th>\n",
              "      <th>Medium</th>\n",
              "      <th>Very high</th>\n",
              "    </tr>\n",
              "  </thead>\n",
              "  <tbody>\n",
              "    <tr>\n",
              "      <th>0</th>\n",
              "      <td>1</td>\n",
              "      <td>0</td>\n",
              "      <td>0</td>\n",
              "      <td>0</td>\n",
              "    </tr>\n",
              "    <tr>\n",
              "      <th>1</th>\n",
              "      <td>0</td>\n",
              "      <td>0</td>\n",
              "      <td>1</td>\n",
              "      <td>0</td>\n",
              "    </tr>\n",
              "    <tr>\n",
              "      <th>2</th>\n",
              "      <td>0</td>\n",
              "      <td>1</td>\n",
              "      <td>0</td>\n",
              "      <td>0</td>\n",
              "    </tr>\n",
              "    <tr>\n",
              "      <th>3</th>\n",
              "      <td>1</td>\n",
              "      <td>0</td>\n",
              "      <td>0</td>\n",
              "      <td>0</td>\n",
              "    </tr>\n",
              "    <tr>\n",
              "      <th>4</th>\n",
              "      <td>0</td>\n",
              "      <td>0</td>\n",
              "      <td>1</td>\n",
              "      <td>0</td>\n",
              "    </tr>\n",
              "    <tr>\n",
              "      <th>...</th>\n",
              "      <td>...</td>\n",
              "      <td>...</td>\n",
              "      <td>...</td>\n",
              "      <td>...</td>\n",
              "    </tr>\n",
              "    <tr>\n",
              "      <th>1495</th>\n",
              "      <td>1</td>\n",
              "      <td>0</td>\n",
              "      <td>0</td>\n",
              "      <td>0</td>\n",
              "    </tr>\n",
              "    <tr>\n",
              "      <th>1496</th>\n",
              "      <td>1</td>\n",
              "      <td>0</td>\n",
              "      <td>0</td>\n",
              "      <td>0</td>\n",
              "    </tr>\n",
              "    <tr>\n",
              "      <th>1497</th>\n",
              "      <td>0</td>\n",
              "      <td>0</td>\n",
              "      <td>0</td>\n",
              "      <td>0</td>\n",
              "    </tr>\n",
              "    <tr>\n",
              "      <th>1498</th>\n",
              "      <td>0</td>\n",
              "      <td>0</td>\n",
              "      <td>0</td>\n",
              "      <td>1</td>\n",
              "    </tr>\n",
              "    <tr>\n",
              "      <th>1499</th>\n",
              "      <td>1</td>\n",
              "      <td>0</td>\n",
              "      <td>0</td>\n",
              "      <td>0</td>\n",
              "    </tr>\n",
              "  </tbody>\n",
              "</table>\n",
              "<p>1500 rows × 4 columns</p>\n",
              "</div>"
            ],
            "text/plain": [
              "      High  Low  Medium  Very high\n",
              "0        1    0       0          0\n",
              "1        0    0       1          0\n",
              "2        0    1       0          0\n",
              "3        1    0       0          0\n",
              "4        0    0       1          0\n",
              "...    ...  ...     ...        ...\n",
              "1495     1    0       0          0\n",
              "1496     1    0       0          0\n",
              "1497     0    0       0          0\n",
              "1498     0    0       0          1\n",
              "1499     1    0       0          0\n",
              "\n",
              "[1500 rows x 4 columns]"
            ]
          },
          "metadata": {
            "tags": []
          },
          "execution_count": 12
        }
      ]
    },
    {
      "cell_type": "code",
      "metadata": {
        "id": "L8VDTkMFhJi2"
      },
      "source": [
        "dummies2  = pd.get_dummies(p3_data['F5'])"
      ],
      "execution_count": null,
      "outputs": []
    },
    {
      "cell_type": "code",
      "metadata": {
        "id": "dG4uYcq2hJi2"
      },
      "source": [
        "dummies2.drop(['Europe'], axis=1, inplace=True)"
      ],
      "execution_count": null,
      "outputs": []
    },
    {
      "cell_type": "code",
      "metadata": {
        "id": "SE-yScUphJi2",
        "outputId": "3617ef44-a83d-44c6-e861-c7c9f47255ed"
      },
      "source": [
        "dummies2"
      ],
      "execution_count": null,
      "outputs": [
        {
          "output_type": "execute_result",
          "data": {
            "text/html": [
              "<div>\n",
              "<style scoped>\n",
              "    .dataframe tbody tr th:only-of-type {\n",
              "        vertical-align: middle;\n",
              "    }\n",
              "\n",
              "    .dataframe tbody tr th {\n",
              "        vertical-align: top;\n",
              "    }\n",
              "\n",
              "    .dataframe thead th {\n",
              "        text-align: right;\n",
              "    }\n",
              "</style>\n",
              "<table border=\"1\" class=\"dataframe\">\n",
              "  <thead>\n",
              "    <tr style=\"text-align: right;\">\n",
              "      <th></th>\n",
              "      <th>Rest</th>\n",
              "      <th>UK</th>\n",
              "      <th>USA</th>\n",
              "    </tr>\n",
              "  </thead>\n",
              "  <tbody>\n",
              "    <tr>\n",
              "      <th>0</th>\n",
              "      <td>0</td>\n",
              "      <td>1</td>\n",
              "      <td>0</td>\n",
              "    </tr>\n",
              "    <tr>\n",
              "      <th>1</th>\n",
              "      <td>0</td>\n",
              "      <td>1</td>\n",
              "      <td>0</td>\n",
              "    </tr>\n",
              "    <tr>\n",
              "      <th>2</th>\n",
              "      <td>1</td>\n",
              "      <td>0</td>\n",
              "      <td>0</td>\n",
              "    </tr>\n",
              "    <tr>\n",
              "      <th>3</th>\n",
              "      <td>1</td>\n",
              "      <td>0</td>\n",
              "      <td>0</td>\n",
              "    </tr>\n",
              "    <tr>\n",
              "      <th>4</th>\n",
              "      <td>0</td>\n",
              "      <td>0</td>\n",
              "      <td>1</td>\n",
              "    </tr>\n",
              "    <tr>\n",
              "      <th>...</th>\n",
              "      <td>...</td>\n",
              "      <td>...</td>\n",
              "      <td>...</td>\n",
              "    </tr>\n",
              "    <tr>\n",
              "      <th>1495</th>\n",
              "      <td>0</td>\n",
              "      <td>0</td>\n",
              "      <td>0</td>\n",
              "    </tr>\n",
              "    <tr>\n",
              "      <th>1496</th>\n",
              "      <td>0</td>\n",
              "      <td>0</td>\n",
              "      <td>1</td>\n",
              "    </tr>\n",
              "    <tr>\n",
              "      <th>1497</th>\n",
              "      <td>1</td>\n",
              "      <td>0</td>\n",
              "      <td>0</td>\n",
              "    </tr>\n",
              "    <tr>\n",
              "      <th>1498</th>\n",
              "      <td>0</td>\n",
              "      <td>0</td>\n",
              "      <td>1</td>\n",
              "    </tr>\n",
              "    <tr>\n",
              "      <th>1499</th>\n",
              "      <td>0</td>\n",
              "      <td>1</td>\n",
              "      <td>0</td>\n",
              "    </tr>\n",
              "  </tbody>\n",
              "</table>\n",
              "<p>1500 rows × 3 columns</p>\n",
              "</div>"
            ],
            "text/plain": [
              "      Rest  UK  USA\n",
              "0        0   1    0\n",
              "1        0   1    0\n",
              "2        1   0    0\n",
              "3        1   0    0\n",
              "4        0   0    1\n",
              "...    ...  ..  ...\n",
              "1495     0   0    0\n",
              "1496     0   0    1\n",
              "1497     1   0    0\n",
              "1498     0   0    1\n",
              "1499     0   1    0\n",
              "\n",
              "[1500 rows x 3 columns]"
            ]
          },
          "metadata": {
            "tags": []
          },
          "execution_count": 15
        }
      ]
    },
    {
      "cell_type": "code",
      "metadata": {
        "id": "eUngNVXYhJi3"
      },
      "source": [
        "#combining the dummies along with the original data\n",
        "master_df=pd.concat([p3_data,dummies1,dummies2],axis=1)"
      ],
      "execution_count": null,
      "outputs": []
    },
    {
      "cell_type": "code",
      "metadata": {
        "id": "clre2WAchJi3",
        "outputId": "56bd57e7-4bb6-464f-b633-9a216349e79b"
      },
      "source": [
        "master_df.head(5)"
      ],
      "execution_count": null,
      "outputs": [
        {
          "output_type": "execute_result",
          "data": {
            "text/html": [
              "<div>\n",
              "<style scoped>\n",
              "    .dataframe tbody tr th:only-of-type {\n",
              "        vertical-align: middle;\n",
              "    }\n",
              "\n",
              "    .dataframe tbody tr th {\n",
              "        vertical-align: top;\n",
              "    }\n",
              "\n",
              "    .dataframe thead th {\n",
              "        text-align: right;\n",
              "    }\n",
              "</style>\n",
              "<table border=\"1\" class=\"dataframe\">\n",
              "  <thead>\n",
              "    <tr style=\"text-align: right;\">\n",
              "      <th></th>\n",
              "      <th>F1</th>\n",
              "      <th>F2</th>\n",
              "      <th>F3</th>\n",
              "      <th>F4</th>\n",
              "      <th>F5</th>\n",
              "      <th>F6</th>\n",
              "      <th>F7</th>\n",
              "      <th>F8</th>\n",
              "      <th>F9</th>\n",
              "      <th>F10</th>\n",
              "      <th>...</th>\n",
              "      <th>F15</th>\n",
              "      <th>F16</th>\n",
              "      <th>Target</th>\n",
              "      <th>High</th>\n",
              "      <th>Low</th>\n",
              "      <th>Medium</th>\n",
              "      <th>Very high</th>\n",
              "      <th>Rest</th>\n",
              "      <th>UK</th>\n",
              "      <th>USA</th>\n",
              "    </tr>\n",
              "  </thead>\n",
              "  <tbody>\n",
              "    <tr>\n",
              "      <th>0</th>\n",
              "      <td>-39.32</td>\n",
              "      <td>5.72</td>\n",
              "      <td>-13.83</td>\n",
              "      <td>High</td>\n",
              "      <td>UK</td>\n",
              "      <td>0.03</td>\n",
              "      <td>-200.46</td>\n",
              "      <td>122.09</td>\n",
              "      <td>-2.96</td>\n",
              "      <td>6</td>\n",
              "      <td>...</td>\n",
              "      <td>10523.40</td>\n",
              "      <td>-635.80</td>\n",
              "      <td>1051.99</td>\n",
              "      <td>1</td>\n",
              "      <td>0</td>\n",
              "      <td>0</td>\n",
              "      <td>0</td>\n",
              "      <td>0</td>\n",
              "      <td>1</td>\n",
              "      <td>0</td>\n",
              "    </tr>\n",
              "    <tr>\n",
              "      <th>1</th>\n",
              "      <td>-29.38</td>\n",
              "      <td>8.20</td>\n",
              "      <td>-11.07</td>\n",
              "      <td>Medium</td>\n",
              "      <td>UK</td>\n",
              "      <td>56.97</td>\n",
              "      <td>-427.78</td>\n",
              "      <td>74.25</td>\n",
              "      <td>-22.94</td>\n",
              "      <td>4</td>\n",
              "      <td>...</td>\n",
              "      <td>10037.04</td>\n",
              "      <td>-469.73</td>\n",
              "      <td>816.64</td>\n",
              "      <td>0</td>\n",
              "      <td>0</td>\n",
              "      <td>1</td>\n",
              "      <td>0</td>\n",
              "      <td>0</td>\n",
              "      <td>1</td>\n",
              "      <td>0</td>\n",
              "    </tr>\n",
              "    <tr>\n",
              "      <th>2</th>\n",
              "      <td>2.46</td>\n",
              "      <td>20.32</td>\n",
              "      <td>-7.59</td>\n",
              "      <td>Low</td>\n",
              "      <td>Rest</td>\n",
              "      <td>45.00</td>\n",
              "      <td>-329.02</td>\n",
              "      <td>96.98</td>\n",
              "      <td>-10.90</td>\n",
              "      <td>4</td>\n",
              "      <td>...</td>\n",
              "      <td>15100.28</td>\n",
              "      <td>-662.31</td>\n",
              "      <td>3241.77</td>\n",
              "      <td>0</td>\n",
              "      <td>1</td>\n",
              "      <td>0</td>\n",
              "      <td>0</td>\n",
              "      <td>1</td>\n",
              "      <td>0</td>\n",
              "      <td>0</td>\n",
              "    </tr>\n",
              "    <tr>\n",
              "      <th>3</th>\n",
              "      <td>16.33</td>\n",
              "      <td>2.76</td>\n",
              "      <td>-8.40</td>\n",
              "      <td>High</td>\n",
              "      <td>Rest</td>\n",
              "      <td>0.12</td>\n",
              "      <td>-196.88</td>\n",
              "      <td>42.45</td>\n",
              "      <td>-12.16</td>\n",
              "      <td>12</td>\n",
              "      <td>...</td>\n",
              "      <td>22518.15</td>\n",
              "      <td>-1100.35</td>\n",
              "      <td>0.00</td>\n",
              "      <td>1</td>\n",
              "      <td>0</td>\n",
              "      <td>0</td>\n",
              "      <td>0</td>\n",
              "      <td>1</td>\n",
              "      <td>0</td>\n",
              "      <td>0</td>\n",
              "    </tr>\n",
              "    <tr>\n",
              "      <th>4</th>\n",
              "      <td>-14.93</td>\n",
              "      <td>9.98</td>\n",
              "      <td>-5.28</td>\n",
              "      <td>Medium</td>\n",
              "      <td>USA</td>\n",
              "      <td>557.61</td>\n",
              "      <td>-249.50</td>\n",
              "      <td>76.25</td>\n",
              "      <td>-20.54</td>\n",
              "      <td>8</td>\n",
              "      <td>...</td>\n",
              "      <td>20111.46</td>\n",
              "      <td>-752.48</td>\n",
              "      <td>0.00</td>\n",
              "      <td>0</td>\n",
              "      <td>0</td>\n",
              "      <td>1</td>\n",
              "      <td>0</td>\n",
              "      <td>0</td>\n",
              "      <td>0</td>\n",
              "      <td>1</td>\n",
              "    </tr>\n",
              "  </tbody>\n",
              "</table>\n",
              "<p>5 rows × 24 columns</p>\n",
              "</div>"
            ],
            "text/plain": [
              "      F1     F2     F3      F4    F5      F6      F7      F8     F9  F10  ...  \\\n",
              "0 -39.32   5.72 -13.83    High    UK    0.03 -200.46  122.09  -2.96    6  ...   \n",
              "1 -29.38   8.20 -11.07  Medium    UK   56.97 -427.78   74.25 -22.94    4  ...   \n",
              "2   2.46  20.32  -7.59     Low  Rest   45.00 -329.02   96.98 -10.90    4  ...   \n",
              "3  16.33   2.76  -8.40    High  Rest    0.12 -196.88   42.45 -12.16   12  ...   \n",
              "4 -14.93   9.98  -5.28  Medium   USA  557.61 -249.50   76.25 -20.54    8  ...   \n",
              "\n",
              "        F15      F16   Target  High  Low  Medium  Very high  Rest  UK  USA  \n",
              "0  10523.40  -635.80  1051.99     1    0       0          0     0   1    0  \n",
              "1  10037.04  -469.73   816.64     0    0       1          0     0   1    0  \n",
              "2  15100.28  -662.31  3241.77     0    1       0          0     1   0    0  \n",
              "3  22518.15 -1100.35     0.00     1    0       0          0     1   0    0  \n",
              "4  20111.46  -752.48     0.00     0    0       1          0     0   0    1  \n",
              "\n",
              "[5 rows x 24 columns]"
            ]
          },
          "metadata": {
            "tags": []
          },
          "execution_count": 17
        }
      ]
    },
    {
      "cell_type": "code",
      "metadata": {
        "id": "ZPKoeQnkhJi3"
      },
      "source": [
        "#dropping the categorical columns\n",
        "master_df=master_df.drop(['F4','F5'],axis=1)"
      ],
      "execution_count": null,
      "outputs": []
    },
    {
      "cell_type": "code",
      "metadata": {
        "id": "1yKC6f_shJi3",
        "outputId": "2ae01e19-2d87-4884-8850-ea73983137fc"
      },
      "source": [
        "#correlation heat map of the final data that is going to be used for training the model\n",
        "fig, ax = plt.subplots(figsize=(17,17))\n",
        "sns.heatmap(master_df.corr(), annot=True,ax=ax)\n",
        "plt.show()"
      ],
      "execution_count": null,
      "outputs": [
        {
          "output_type": "display_data",
          "data": {
            "image/png": "[encoded data removed]",
            "text/plain": [
              "<Figure size 1224x1224 with 2 Axes>"
            ]
          },
          "metadata": {
            "tags": [],
            "needs_background": "light"
          }
        }
      ]
    },
    {
      "cell_type": "code",
      "metadata": {
        "id": "WddDgs2ShJi4",
        "outputId": "c9e4c4e4-34b0-4c20-fb50-3ea03c31b35d"
      },
      "source": [
        "master_df.head(5)"
      ],
      "execution_count": null,
      "outputs": [
        {
          "output_type": "execute_result",
          "data": {
            "text/html": [
              "<div>\n",
              "<style scoped>\n",
              "    .dataframe tbody tr th:only-of-type {\n",
              "        vertical-align: middle;\n",
              "    }\n",
              "\n",
              "    .dataframe tbody tr th {\n",
              "        vertical-align: top;\n",
              "    }\n",
              "\n",
              "    .dataframe thead th {\n",
              "        text-align: right;\n",
              "    }\n",
              "</style>\n",
              "<table border=\"1\" class=\"dataframe\">\n",
              "  <thead>\n",
              "    <tr style=\"text-align: right;\">\n",
              "      <th></th>\n",
              "      <th>F1</th>\n",
              "      <th>F2</th>\n",
              "      <th>F3</th>\n",
              "      <th>F6</th>\n",
              "      <th>F7</th>\n",
              "      <th>F8</th>\n",
              "      <th>F9</th>\n",
              "      <th>F10</th>\n",
              "      <th>F11</th>\n",
              "      <th>F12</th>\n",
              "      <th>...</th>\n",
              "      <th>F15</th>\n",
              "      <th>F16</th>\n",
              "      <th>Target</th>\n",
              "      <th>High</th>\n",
              "      <th>Low</th>\n",
              "      <th>Medium</th>\n",
              "      <th>Very high</th>\n",
              "      <th>Rest</th>\n",
              "      <th>UK</th>\n",
              "      <th>USA</th>\n",
              "    </tr>\n",
              "  </thead>\n",
              "  <tbody>\n",
              "    <tr>\n",
              "      <th>0</th>\n",
              "      <td>-39.32</td>\n",
              "      <td>5.72</td>\n",
              "      <td>-13.83</td>\n",
              "      <td>0.03</td>\n",
              "      <td>-200.46</td>\n",
              "      <td>122.09</td>\n",
              "      <td>-2.96</td>\n",
              "      <td>6</td>\n",
              "      <td>2.67</td>\n",
              "      <td>8</td>\n",
              "      <td>...</td>\n",
              "      <td>10523.40</td>\n",
              "      <td>-635.80</td>\n",
              "      <td>1051.99</td>\n",
              "      <td>1</td>\n",
              "      <td>0</td>\n",
              "      <td>0</td>\n",
              "      <td>0</td>\n",
              "      <td>0</td>\n",
              "      <td>1</td>\n",
              "      <td>0</td>\n",
              "    </tr>\n",
              "    <tr>\n",
              "      <th>1</th>\n",
              "      <td>-29.38</td>\n",
              "      <td>8.20</td>\n",
              "      <td>-11.07</td>\n",
              "      <td>56.97</td>\n",
              "      <td>-427.78</td>\n",
              "      <td>74.25</td>\n",
              "      <td>-22.94</td>\n",
              "      <td>4</td>\n",
              "      <td>3.84</td>\n",
              "      <td>10</td>\n",
              "      <td>...</td>\n",
              "      <td>10037.04</td>\n",
              "      <td>-469.73</td>\n",
              "      <td>816.64</td>\n",
              "      <td>0</td>\n",
              "      <td>0</td>\n",
              "      <td>1</td>\n",
              "      <td>0</td>\n",
              "      <td>0</td>\n",
              "      <td>1</td>\n",
              "      <td>0</td>\n",
              "    </tr>\n",
              "    <tr>\n",
              "      <th>2</th>\n",
              "      <td>2.46</td>\n",
              "      <td>20.32</td>\n",
              "      <td>-7.59</td>\n",
              "      <td>45.00</td>\n",
              "      <td>-329.02</td>\n",
              "      <td>96.98</td>\n",
              "      <td>-10.90</td>\n",
              "      <td>4</td>\n",
              "      <td>13.14</td>\n",
              "      <td>8</td>\n",
              "      <td>...</td>\n",
              "      <td>15100.28</td>\n",
              "      <td>-662.31</td>\n",
              "      <td>3241.77</td>\n",
              "      <td>0</td>\n",
              "      <td>1</td>\n",
              "      <td>0</td>\n",
              "      <td>0</td>\n",
              "      <td>1</td>\n",
              "      <td>0</td>\n",
              "      <td>0</td>\n",
              "    </tr>\n",
              "    <tr>\n",
              "      <th>3</th>\n",
              "      <td>16.33</td>\n",
              "      <td>2.76</td>\n",
              "      <td>-8.40</td>\n",
              "      <td>0.12</td>\n",
              "      <td>-196.88</td>\n",
              "      <td>42.45</td>\n",
              "      <td>-12.16</td>\n",
              "      <td>12</td>\n",
              "      <td>1.29</td>\n",
              "      <td>6</td>\n",
              "      <td>...</td>\n",
              "      <td>22518.15</td>\n",
              "      <td>-1100.35</td>\n",
              "      <td>0.00</td>\n",
              "      <td>1</td>\n",
              "      <td>0</td>\n",
              "      <td>0</td>\n",
              "      <td>0</td>\n",
              "      <td>1</td>\n",
              "      <td>0</td>\n",
              "      <td>0</td>\n",
              "    </tr>\n",
              "    <tr>\n",
              "      <th>4</th>\n",
              "      <td>-14.93</td>\n",
              "      <td>9.98</td>\n",
              "      <td>-5.28</td>\n",
              "      <td>557.61</td>\n",
              "      <td>-249.50</td>\n",
              "      <td>76.25</td>\n",
              "      <td>-20.54</td>\n",
              "      <td>8</td>\n",
              "      <td>2.58</td>\n",
              "      <td>2</td>\n",
              "      <td>...</td>\n",
              "      <td>20111.46</td>\n",
              "      <td>-752.48</td>\n",
              "      <td>0.00</td>\n",
              "      <td>0</td>\n",
              "      <td>0</td>\n",
              "      <td>1</td>\n",
              "      <td>0</td>\n",
              "      <td>0</td>\n",
              "      <td>0</td>\n",
              "      <td>1</td>\n",
              "    </tr>\n",
              "  </tbody>\n",
              "</table>\n",
              "<p>5 rows × 22 columns</p>\n",
              "</div>"
            ],
            "text/plain": [
              "      F1     F2     F3      F6      F7      F8     F9  F10    F11  F12  ...  \\\n",
              "0 -39.32   5.72 -13.83    0.03 -200.46  122.09  -2.96    6   2.67    8  ...   \n",
              "1 -29.38   8.20 -11.07   56.97 -427.78   74.25 -22.94    4   3.84   10  ...   \n",
              "2   2.46  20.32  -7.59   45.00 -329.02   96.98 -10.90    4  13.14    8  ...   \n",
              "3  16.33   2.76  -8.40    0.12 -196.88   42.45 -12.16   12   1.29    6  ...   \n",
              "4 -14.93   9.98  -5.28  557.61 -249.50   76.25 -20.54    8   2.58    2  ...   \n",
              "\n",
              "        F15      F16   Target  High  Low  Medium  Very high  Rest  UK  USA  \n",
              "0  10523.40  -635.80  1051.99     1    0       0          0     0   1    0  \n",
              "1  10037.04  -469.73   816.64     0    0       1          0     0   1    0  \n",
              "2  15100.28  -662.31  3241.77     0    1       0          0     1   0    0  \n",
              "3  22518.15 -1100.35     0.00     1    0       0          0     1   0    0  \n",
              "4  20111.46  -752.48     0.00     0    0       1          0     0   0    1  \n",
              "\n",
              "[5 rows x 22 columns]"
            ]
          },
          "metadata": {
            "tags": []
          },
          "execution_count": 20
        }
      ]
    },
    {
      "cell_type": "code",
      "metadata": {
        "id": "wla_cFE0hJi4",
        "outputId": "77985204-71e1-4fe3-88af-1d7d54f7ca61"
      },
      "source": [
        "master_df.dtypes"
      ],
      "execution_count": null,
      "outputs": [
        {
          "output_type": "execute_result",
          "data": {
            "text/plain": [
              "F1           float64\n",
              "F2           float64\n",
              "F3           float64\n",
              "F6           float64\n",
              "F7           float64\n",
              "F8           float64\n",
              "F9           float64\n",
              "F10            int64\n",
              "F11          float64\n",
              "F12            int64\n",
              "F13          float64\n",
              "F14          float64\n",
              "F15          float64\n",
              "F16          float64\n",
              "Target       float64\n",
              "High           uint8\n",
              "Low            uint8\n",
              "Medium         uint8\n",
              "Very high      uint8\n",
              "Rest           uint8\n",
              "UK             uint8\n",
              "USA            uint8\n",
              "dtype: object"
            ]
          },
          "metadata": {
            "tags": []
          },
          "execution_count": 21
        }
      ]
    },
    {
      "cell_type": "code",
      "metadata": {
        "id": "yJPgHkUVhJi4"
      },
      "source": [
        "#storing the target variable and the feature columns seperately to train the models\n",
        "X= master_df.drop([\"Target\",\"F3\"],axis=1)#F3 is dropped as part of feature selection\n",
        "Y = master_df.Target"
      ],
      "execution_count": null,
      "outputs": []
    },
    {
      "cell_type": "code",
      "metadata": {
        "id": "i9V8IFmwhJi4",
        "outputId": "2fe41761-c98e-4be9-84e9-56a33e21e545"
      },
      "source": [
        "X.head(5)"
      ],
      "execution_count": null,
      "outputs": [
        {
          "output_type": "execute_result",
          "data": {
            "text/html": [
              "<div>\n",
              "<style scoped>\n",
              "    .dataframe tbody tr th:only-of-type {\n",
              "        vertical-align: middle;\n",
              "    }\n",
              "\n",
              "    .dataframe tbody tr th {\n",
              "        vertical-align: top;\n",
              "    }\n",
              "\n",
              "    .dataframe thead th {\n",
              "        text-align: right;\n",
              "    }\n",
              "</style>\n",
              "<table border=\"1\" class=\"dataframe\">\n",
              "  <thead>\n",
              "    <tr style=\"text-align: right;\">\n",
              "      <th></th>\n",
              "      <th>F1</th>\n",
              "      <th>F2</th>\n",
              "      <th>F6</th>\n",
              "      <th>F7</th>\n",
              "      <th>F8</th>\n",
              "      <th>F9</th>\n",
              "      <th>F10</th>\n",
              "      <th>F11</th>\n",
              "      <th>F12</th>\n",
              "      <th>F13</th>\n",
              "      <th>F14</th>\n",
              "      <th>F15</th>\n",
              "      <th>F16</th>\n",
              "      <th>High</th>\n",
              "      <th>Low</th>\n",
              "      <th>Medium</th>\n",
              "      <th>Very high</th>\n",
              "      <th>Rest</th>\n",
              "      <th>UK</th>\n",
              "      <th>USA</th>\n",
              "    </tr>\n",
              "  </thead>\n",
              "  <tbody>\n",
              "    <tr>\n",
              "      <th>0</th>\n",
              "      <td>-39.32</td>\n",
              "      <td>5.72</td>\n",
              "      <td>0.03</td>\n",
              "      <td>-200.46</td>\n",
              "      <td>122.09</td>\n",
              "      <td>-2.96</td>\n",
              "      <td>6</td>\n",
              "      <td>2.67</td>\n",
              "      <td>8</td>\n",
              "      <td>607.14</td>\n",
              "      <td>19.19</td>\n",
              "      <td>10523.40</td>\n",
              "      <td>-635.80</td>\n",
              "      <td>1</td>\n",
              "      <td>0</td>\n",
              "      <td>0</td>\n",
              "      <td>0</td>\n",
              "      <td>0</td>\n",
              "      <td>1</td>\n",
              "      <td>0</td>\n",
              "    </tr>\n",
              "    <tr>\n",
              "      <th>1</th>\n",
              "      <td>-29.38</td>\n",
              "      <td>8.20</td>\n",
              "      <td>56.97</td>\n",
              "      <td>-427.78</td>\n",
              "      <td>74.25</td>\n",
              "      <td>-22.94</td>\n",
              "      <td>4</td>\n",
              "      <td>3.84</td>\n",
              "      <td>10</td>\n",
              "      <td>867.03</td>\n",
              "      <td>12.65</td>\n",
              "      <td>10037.04</td>\n",
              "      <td>-469.73</td>\n",
              "      <td>0</td>\n",
              "      <td>0</td>\n",
              "      <td>1</td>\n",
              "      <td>0</td>\n",
              "      <td>0</td>\n",
              "      <td>1</td>\n",
              "      <td>0</td>\n",
              "    </tr>\n",
              "    <tr>\n",
              "      <th>2</th>\n",
              "      <td>2.46</td>\n",
              "      <td>20.32</td>\n",
              "      <td>45.00</td>\n",
              "      <td>-329.02</td>\n",
              "      <td>96.98</td>\n",
              "      <td>-10.90</td>\n",
              "      <td>4</td>\n",
              "      <td>13.14</td>\n",
              "      <td>8</td>\n",
              "      <td>-153.66</td>\n",
              "      <td>13.01</td>\n",
              "      <td>15100.28</td>\n",
              "      <td>-662.31</td>\n",
              "      <td>0</td>\n",
              "      <td>1</td>\n",
              "      <td>0</td>\n",
              "      <td>0</td>\n",
              "      <td>1</td>\n",
              "      <td>0</td>\n",
              "      <td>0</td>\n",
              "    </tr>\n",
              "    <tr>\n",
              "      <th>3</th>\n",
              "      <td>16.33</td>\n",
              "      <td>2.76</td>\n",
              "      <td>0.12</td>\n",
              "      <td>-196.88</td>\n",
              "      <td>42.45</td>\n",
              "      <td>-12.16</td>\n",
              "      <td>12</td>\n",
              "      <td>1.29</td>\n",
              "      <td>6</td>\n",
              "      <td>1461.87</td>\n",
              "      <td>9.19</td>\n",
              "      <td>22518.15</td>\n",
              "      <td>-1100.35</td>\n",
              "      <td>1</td>\n",
              "      <td>0</td>\n",
              "      <td>0</td>\n",
              "      <td>0</td>\n",
              "      <td>1</td>\n",
              "      <td>0</td>\n",
              "      <td>0</td>\n",
              "    </tr>\n",
              "    <tr>\n",
              "      <th>4</th>\n",
              "      <td>-14.93</td>\n",
              "      <td>9.98</td>\n",
              "      <td>557.61</td>\n",
              "      <td>-249.50</td>\n",
              "      <td>76.25</td>\n",
              "      <td>-20.54</td>\n",
              "      <td>8</td>\n",
              "      <td>2.58</td>\n",
              "      <td>2</td>\n",
              "      <td>-433.89</td>\n",
              "      <td>18.44</td>\n",
              "      <td>20111.46</td>\n",
              "      <td>-752.48</td>\n",
              "      <td>0</td>\n",
              "      <td>0</td>\n",
              "      <td>1</td>\n",
              "      <td>0</td>\n",
              "      <td>0</td>\n",
              "      <td>0</td>\n",
              "      <td>1</td>\n",
              "    </tr>\n",
              "  </tbody>\n",
              "</table>\n",
              "</div>"
            ],
            "text/plain": [
              "      F1     F2      F6      F7      F8     F9  F10    F11  F12      F13  \\\n",
              "0 -39.32   5.72    0.03 -200.46  122.09  -2.96    6   2.67    8   607.14   \n",
              "1 -29.38   8.20   56.97 -427.78   74.25 -22.94    4   3.84   10   867.03   \n",
              "2   2.46  20.32   45.00 -329.02   96.98 -10.90    4  13.14    8  -153.66   \n",
              "3  16.33   2.76    0.12 -196.88   42.45 -12.16   12   1.29    6  1461.87   \n",
              "4 -14.93   9.98  557.61 -249.50   76.25 -20.54    8   2.58    2  -433.89   \n",
              "\n",
              "     F14       F15      F16  High  Low  Medium  Very high  Rest  UK  USA  \n",
              "0  19.19  10523.40  -635.80     1    0       0          0     0   1    0  \n",
              "1  12.65  10037.04  -469.73     0    0       1          0     0   1    0  \n",
              "2  13.01  15100.28  -662.31     0    1       0          0     1   0    0  \n",
              "3   9.19  22518.15 -1100.35     1    0       0          0     1   0    0  \n",
              "4  18.44  20111.46  -752.48     0    0       1          0     0   0    1  "
            ]
          },
          "metadata": {
            "tags": []
          },
          "execution_count": 23
        }
      ]
    },
    {
      "cell_type": "code",
      "metadata": {
        "id": "HdtgaCmRhJi5",
        "outputId": "4964c9d5-2fac-436e-9974-9d3775f0b663"
      },
      "source": [
        "Y.head(5)"
      ],
      "execution_count": null,
      "outputs": [
        {
          "output_type": "execute_result",
          "data": {
            "text/plain": [
              "0    1051.99\n",
              "1     816.64\n",
              "2    3241.77\n",
              "3       0.00\n",
              "4       0.00\n",
              "Name: Target, dtype: float64"
            ]
          },
          "metadata": {
            "tags": []
          },
          "execution_count": 24
        }
      ]
    },
    {
      "cell_type": "markdown",
      "metadata": {
        "id": "WvHmFxBRhJi5"
      },
      "source": [
        "# data normilization for models which perform better with normalization"
      ]
    },
    {
      "cell_type": "code",
      "metadata": {
        "id": "1m8j-LpAhJi5",
        "outputId": "3ea3530b-b67f-464e-abe4-6cc7bef2f6ac"
      },
      "source": [
        "#dropping the categorical columns\n",
        "p3_data=p3_data.drop(['F4','F5'],axis=1)\n",
        "p3_data.head(5)"
      ],
      "execution_count": null,
      "outputs": [
        {
          "output_type": "execute_result",
          "data": {
            "text/html": [
              "<div>\n",
              "<style scoped>\n",
              "    .dataframe tbody tr th:only-of-type {\n",
              "        vertical-align: middle;\n",
              "    }\n",
              "\n",
              "    .dataframe tbody tr th {\n",
              "        vertical-align: top;\n",
              "    }\n",
              "\n",
              "    .dataframe thead th {\n",
              "        text-align: right;\n",
              "    }\n",
              "</style>\n",
              "<table border=\"1\" class=\"dataframe\">\n",
              "  <thead>\n",
              "    <tr style=\"text-align: right;\">\n",
              "      <th></th>\n",
              "      <th>F1</th>\n",
              "      <th>F2</th>\n",
              "      <th>F3</th>\n",
              "      <th>F6</th>\n",
              "      <th>F7</th>\n",
              "      <th>F8</th>\n",
              "      <th>F9</th>\n",
              "      <th>F10</th>\n",
              "      <th>F11</th>\n",
              "      <th>F12</th>\n",
              "      <th>F13</th>\n",
              "      <th>F14</th>\n",
              "      <th>F15</th>\n",
              "      <th>F16</th>\n",
              "      <th>Target</th>\n",
              "    </tr>\n",
              "  </thead>\n",
              "  <tbody>\n",
              "    <tr>\n",
              "      <th>0</th>\n",
              "      <td>-39.32</td>\n",
              "      <td>5.72</td>\n",
              "      <td>-13.83</td>\n",
              "      <td>0.03</td>\n",
              "      <td>-200.46</td>\n",
              "      <td>122.09</td>\n",
              "      <td>-2.96</td>\n",
              "      <td>6</td>\n",
              "      <td>2.67</td>\n",
              "      <td>8</td>\n",
              "      <td>607.14</td>\n",
              "      <td>19.19</td>\n",
              "      <td>10523.40</td>\n",
              "      <td>-635.80</td>\n",
              "      <td>1051.99</td>\n",
              "    </tr>\n",
              "    <tr>\n",
              "      <th>1</th>\n",
              "      <td>-29.38</td>\n",
              "      <td>8.20</td>\n",
              "      <td>-11.07</td>\n",
              "      <td>56.97</td>\n",
              "      <td>-427.78</td>\n",
              "      <td>74.25</td>\n",
              "      <td>-22.94</td>\n",
              "      <td>4</td>\n",
              "      <td>3.84</td>\n",
              "      <td>10</td>\n",
              "      <td>867.03</td>\n",
              "      <td>12.65</td>\n",
              "      <td>10037.04</td>\n",
              "      <td>-469.73</td>\n",
              "      <td>816.64</td>\n",
              "    </tr>\n",
              "    <tr>\n",
              "      <th>2</th>\n",
              "      <td>2.46</td>\n",
              "      <td>20.32</td>\n",
              "      <td>-7.59</td>\n",
              "      <td>45.00</td>\n",
              "      <td>-329.02</td>\n",
              "      <td>96.98</td>\n",
              "      <td>-10.90</td>\n",
              "      <td>4</td>\n",
              "      <td>13.14</td>\n",
              "      <td>8</td>\n",
              "      <td>-153.66</td>\n",
              "      <td>13.01</td>\n",
              "      <td>15100.28</td>\n",
              "      <td>-662.31</td>\n",
              "      <td>3241.77</td>\n",
              "    </tr>\n",
              "    <tr>\n",
              "      <th>3</th>\n",
              "      <td>16.33</td>\n",
              "      <td>2.76</td>\n",
              "      <td>-8.40</td>\n",
              "      <td>0.12</td>\n",
              "      <td>-196.88</td>\n",
              "      <td>42.45</td>\n",
              "      <td>-12.16</td>\n",
              "      <td>12</td>\n",
              "      <td>1.29</td>\n",
              "      <td>6</td>\n",
              "      <td>1461.87</td>\n",
              "      <td>9.19</td>\n",
              "      <td>22518.15</td>\n",
              "      <td>-1100.35</td>\n",
              "      <td>0.00</td>\n",
              "    </tr>\n",
              "    <tr>\n",
              "      <th>4</th>\n",
              "      <td>-14.93</td>\n",
              "      <td>9.98</td>\n",
              "      <td>-5.28</td>\n",
              "      <td>557.61</td>\n",
              "      <td>-249.50</td>\n",
              "      <td>76.25</td>\n",
              "      <td>-20.54</td>\n",
              "      <td>8</td>\n",
              "      <td>2.58</td>\n",
              "      <td>2</td>\n",
              "      <td>-433.89</td>\n",
              "      <td>18.44</td>\n",
              "      <td>20111.46</td>\n",
              "      <td>-752.48</td>\n",
              "      <td>0.00</td>\n",
              "    </tr>\n",
              "  </tbody>\n",
              "</table>\n",
              "</div>"
            ],
            "text/plain": [
              "      F1     F2     F3      F6      F7      F8     F9  F10    F11  F12  \\\n",
              "0 -39.32   5.72 -13.83    0.03 -200.46  122.09  -2.96    6   2.67    8   \n",
              "1 -29.38   8.20 -11.07   56.97 -427.78   74.25 -22.94    4   3.84   10   \n",
              "2   2.46  20.32  -7.59   45.00 -329.02   96.98 -10.90    4  13.14    8   \n",
              "3  16.33   2.76  -8.40    0.12 -196.88   42.45 -12.16   12   1.29    6   \n",
              "4 -14.93   9.98  -5.28  557.61 -249.50   76.25 -20.54    8   2.58    2   \n",
              "\n",
              "       F13    F14       F15      F16   Target  \n",
              "0   607.14  19.19  10523.40  -635.80  1051.99  \n",
              "1   867.03  12.65  10037.04  -469.73   816.64  \n",
              "2  -153.66  13.01  15100.28  -662.31  3241.77  \n",
              "3  1461.87   9.19  22518.15 -1100.35     0.00  \n",
              "4  -433.89  18.44  20111.46  -752.48     0.00  "
            ]
          },
          "metadata": {
            "tags": []
          },
          "execution_count": 25
        }
      ]
    },
    {
      "cell_type": "code",
      "metadata": {
        "id": "WiN6BgymhJi5",
        "outputId": "73486952-78fc-4198-e61c-409f64a35cd7"
      },
      "source": [
        "#storing the feature columns\n",
        "X_normalised= p3_data.drop([\"Target\"],axis=1)\n",
        "X_normalised.head(5)"
      ],
      "execution_count": null,
      "outputs": [
        {
          "output_type": "execute_result",
          "data": {
            "text/html": [
              "<div>\n",
              "<style scoped>\n",
              "    .dataframe tbody tr th:only-of-type {\n",
              "        vertical-align: middle;\n",
              "    }\n",
              "\n",
              "    .dataframe tbody tr th {\n",
              "        vertical-align: top;\n",
              "    }\n",
              "\n",
              "    .dataframe thead th {\n",
              "        text-align: right;\n",
              "    }\n",
              "</style>\n",
              "<table border=\"1\" class=\"dataframe\">\n",
              "  <thead>\n",
              "    <tr style=\"text-align: right;\">\n",
              "      <th></th>\n",
              "      <th>F1</th>\n",
              "      <th>F2</th>\n",
              "      <th>F3</th>\n",
              "      <th>F6</th>\n",
              "      <th>F7</th>\n",
              "      <th>F8</th>\n",
              "      <th>F9</th>\n",
              "      <th>F10</th>\n",
              "      <th>F11</th>\n",
              "      <th>F12</th>\n",
              "      <th>F13</th>\n",
              "      <th>F14</th>\n",
              "      <th>F15</th>\n",
              "      <th>F16</th>\n",
              "    </tr>\n",
              "  </thead>\n",
              "  <tbody>\n",
              "    <tr>\n",
              "      <th>0</th>\n",
              "      <td>-39.32</td>\n",
              "      <td>5.72</td>\n",
              "      <td>-13.83</td>\n",
              "      <td>0.03</td>\n",
              "      <td>-200.46</td>\n",
              "      <td>122.09</td>\n",
              "      <td>-2.96</td>\n",
              "      <td>6</td>\n",
              "      <td>2.67</td>\n",
              "      <td>8</td>\n",
              "      <td>607.14</td>\n",
              "      <td>19.19</td>\n",
              "      <td>10523.40</td>\n",
              "      <td>-635.80</td>\n",
              "    </tr>\n",
              "    <tr>\n",
              "      <th>1</th>\n",
              "      <td>-29.38</td>\n",
              "      <td>8.20</td>\n",
              "      <td>-11.07</td>\n",
              "      <td>56.97</td>\n",
              "      <td>-427.78</td>\n",
              "      <td>74.25</td>\n",
              "      <td>-22.94</td>\n",
              "      <td>4</td>\n",
              "      <td>3.84</td>\n",
              "      <td>10</td>\n",
              "      <td>867.03</td>\n",
              "      <td>12.65</td>\n",
              "      <td>10037.04</td>\n",
              "      <td>-469.73</td>\n",
              "    </tr>\n",
              "    <tr>\n",
              "      <th>2</th>\n",
              "      <td>2.46</td>\n",
              "      <td>20.32</td>\n",
              "      <td>-7.59</td>\n",
              "      <td>45.00</td>\n",
              "      <td>-329.02</td>\n",
              "      <td>96.98</td>\n",
              "      <td>-10.90</td>\n",
              "      <td>4</td>\n",
              "      <td>13.14</td>\n",
              "      <td>8</td>\n",
              "      <td>-153.66</td>\n",
              "      <td>13.01</td>\n",
              "      <td>15100.28</td>\n",
              "      <td>-662.31</td>\n",
              "    </tr>\n",
              "    <tr>\n",
              "      <th>3</th>\n",
              "      <td>16.33</td>\n",
              "      <td>2.76</td>\n",
              "      <td>-8.40</td>\n",
              "      <td>0.12</td>\n",
              "      <td>-196.88</td>\n",
              "      <td>42.45</td>\n",
              "      <td>-12.16</td>\n",
              "      <td>12</td>\n",
              "      <td>1.29</td>\n",
              "      <td>6</td>\n",
              "      <td>1461.87</td>\n",
              "      <td>9.19</td>\n",
              "      <td>22518.15</td>\n",
              "      <td>-1100.35</td>\n",
              "    </tr>\n",
              "    <tr>\n",
              "      <th>4</th>\n",
              "      <td>-14.93</td>\n",
              "      <td>9.98</td>\n",
              "      <td>-5.28</td>\n",
              "      <td>557.61</td>\n",
              "      <td>-249.50</td>\n",
              "      <td>76.25</td>\n",
              "      <td>-20.54</td>\n",
              "      <td>8</td>\n",
              "      <td>2.58</td>\n",
              "      <td>2</td>\n",
              "      <td>-433.89</td>\n",
              "      <td>18.44</td>\n",
              "      <td>20111.46</td>\n",
              "      <td>-752.48</td>\n",
              "    </tr>\n",
              "  </tbody>\n",
              "</table>\n",
              "</div>"
            ],
            "text/plain": [
              "      F1     F2     F3      F6      F7      F8     F9  F10    F11  F12  \\\n",
              "0 -39.32   5.72 -13.83    0.03 -200.46  122.09  -2.96    6   2.67    8   \n",
              "1 -29.38   8.20 -11.07   56.97 -427.78   74.25 -22.94    4   3.84   10   \n",
              "2   2.46  20.32  -7.59   45.00 -329.02   96.98 -10.90    4  13.14    8   \n",
              "3  16.33   2.76  -8.40    0.12 -196.88   42.45 -12.16   12   1.29    6   \n",
              "4 -14.93   9.98  -5.28  557.61 -249.50   76.25 -20.54    8   2.58    2   \n",
              "\n",
              "       F13    F14       F15      F16  \n",
              "0   607.14  19.19  10523.40  -635.80  \n",
              "1   867.03  12.65  10037.04  -469.73  \n",
              "2  -153.66  13.01  15100.28  -662.31  \n",
              "3  1461.87   9.19  22518.15 -1100.35  \n",
              "4  -433.89  18.44  20111.46  -752.48  "
            ]
          },
          "metadata": {
            "tags": []
          },
          "execution_count": 26
        }
      ]
    },
    {
      "cell_type": "code",
      "metadata": {
        "id": "VjBVFdYMhJi6",
        "outputId": "4e6ff94e-eaa9-4e72-d053-55b571096920"
      },
      "source": [
        "#storing the target column\n",
        "Y_normalised = p3_data.drop([\"F1\",\"F2\",\"F3\",\"F6\",\"F7\",\"F8\",\"F9\",\"F10\",\"F11\",\"F12\",\"F13\",\"F14\",\"F15\",\"F16\"],axis=1)\n",
        "Y_normalised.head(5)"
      ],
      "execution_count": null,
      "outputs": [
        {
          "output_type": "execute_result",
          "data": {
            "text/html": [
              "<div>\n",
              "<style scoped>\n",
              "    .dataframe tbody tr th:only-of-type {\n",
              "        vertical-align: middle;\n",
              "    }\n",
              "\n",
              "    .dataframe tbody tr th {\n",
              "        vertical-align: top;\n",
              "    }\n",
              "\n",
              "    .dataframe thead th {\n",
              "        text-align: right;\n",
              "    }\n",
              "</style>\n",
              "<table border=\"1\" class=\"dataframe\">\n",
              "  <thead>\n",
              "    <tr style=\"text-align: right;\">\n",
              "      <th></th>\n",
              "      <th>Target</th>\n",
              "    </tr>\n",
              "  </thead>\n",
              "  <tbody>\n",
              "    <tr>\n",
              "      <th>0</th>\n",
              "      <td>1051.99</td>\n",
              "    </tr>\n",
              "    <tr>\n",
              "      <th>1</th>\n",
              "      <td>816.64</td>\n",
              "    </tr>\n",
              "    <tr>\n",
              "      <th>2</th>\n",
              "      <td>3241.77</td>\n",
              "    </tr>\n",
              "    <tr>\n",
              "      <th>3</th>\n",
              "      <td>0.00</td>\n",
              "    </tr>\n",
              "    <tr>\n",
              "      <th>4</th>\n",
              "      <td>0.00</td>\n",
              "    </tr>\n",
              "  </tbody>\n",
              "</table>\n",
              "</div>"
            ],
            "text/plain": [
              "    Target\n",
              "0  1051.99\n",
              "1   816.64\n",
              "2  3241.77\n",
              "3     0.00\n",
              "4     0.00"
            ]
          },
          "metadata": {
            "tags": []
          },
          "execution_count": 27
        }
      ]
    },
    {
      "cell_type": "code",
      "metadata": {
        "id": "AoU4F8lchJi6",
        "outputId": "240fccfd-4839-445d-e7cf-6fc509aeeb7a"
      },
      "source": [
        "#creating a list of headers \n",
        "col_names_x = list(X_normalised.columns)\n",
        "col_names_x"
      ],
      "execution_count": null,
      "outputs": [
        {
          "output_type": "execute_result",
          "data": {
            "text/plain": [
              "['F1',\n",
              " 'F2',\n",
              " 'F3',\n",
              " 'F6',\n",
              " 'F7',\n",
              " 'F8',\n",
              " 'F9',\n",
              " 'F10',\n",
              " 'F11',\n",
              " 'F12',\n",
              " 'F13',\n",
              " 'F14',\n",
              " 'F15',\n",
              " 'F16']"
            ]
          },
          "metadata": {
            "tags": []
          },
          "execution_count": 28
        }
      ]
    },
    {
      "cell_type": "code",
      "metadata": {
        "id": "LNfDz2sDhJi6"
      },
      "source": [
        "from sklearn.preprocessing import MinMaxScaler\n",
        "# perform a robust scaler transform of the dataset\n",
        "trans_x = MinMaxScaler()\n",
        "trans_y = MinMaxScaler()\n",
        "data_x = trans_x.fit_transform(X_normalised)\n",
        "data_y = trans_y.fit_transform(Y_normalised)"
      ],
      "execution_count": null,
      "outputs": []
    },
    {
      "cell_type": "code",
      "metadata": {
        "id": "VYMc6vszhJi6",
        "outputId": "035d5016-373d-45d6-c5ac-246807425bcd"
      },
      "source": [
        "data_y"
      ],
      "execution_count": null,
      "outputs": [
        {
          "output_type": "execute_result",
          "data": {
            "text/plain": [
              "array([[0.26565337],\n",
              "       [0.2062217 ],\n",
              "       [0.81862672],\n",
              "       ...,\n",
              "       [0.27036043],\n",
              "       [0.        ],\n",
              "       [0.50219318]])"
            ]
          },
          "metadata": {
            "tags": []
          },
          "execution_count": 30
        }
      ]
    },
    {
      "cell_type": "code",
      "metadata": {
        "id": "BhsB3fALhJi7",
        "outputId": "4e20b3ce-3868-41f8-84ea-5c26506328d0"
      },
      "source": [
        "#converting the array into a dataframe\n",
        "dataset = pd.DataFrame(data_x,columns=col_names_x)\n",
        "dataset.head(5)"
      ],
      "execution_count": null,
      "outputs": [
        {
          "output_type": "execute_result",
          "data": {
            "text/html": [
              "<div>\n",
              "<style scoped>\n",
              "    .dataframe tbody tr th:only-of-type {\n",
              "        vertical-align: middle;\n",
              "    }\n",
              "\n",
              "    .dataframe tbody tr th {\n",
              "        vertical-align: top;\n",
              "    }\n",
              "\n",
              "    .dataframe thead th {\n",
              "        text-align: right;\n",
              "    }\n",
              "</style>\n",
              "<table border=\"1\" class=\"dataframe\">\n",
              "  <thead>\n",
              "    <tr style=\"text-align: right;\">\n",
              "      <th></th>\n",
              "      <th>F1</th>\n",
              "      <th>F2</th>\n",
              "      <th>F3</th>\n",
              "      <th>F6</th>\n",
              "      <th>F7</th>\n",
              "      <th>F8</th>\n",
              "      <th>F9</th>\n",
              "      <th>F10</th>\n",
              "      <th>F11</th>\n",
              "      <th>F12</th>\n",
              "      <th>F13</th>\n",
              "      <th>F14</th>\n",
              "      <th>F15</th>\n",
              "      <th>F16</th>\n",
              "    </tr>\n",
              "  </thead>\n",
              "  <tbody>\n",
              "    <tr>\n",
              "      <th>0</th>\n",
              "      <td>0.360186</td>\n",
              "      <td>0.125166</td>\n",
              "      <td>0.409712</td>\n",
              "      <td>3.639735e-07</td>\n",
              "      <td>0.581055</td>\n",
              "      <td>0.610961</td>\n",
              "      <td>0.825474</td>\n",
              "      <td>0.3</td>\n",
              "      <td>0.036403</td>\n",
              "      <td>0.363636</td>\n",
              "      <td>0.512636</td>\n",
              "      <td>0.478459</td>\n",
              "      <td>0.381224</td>\n",
              "      <td>0.546042</td>\n",
              "    </tr>\n",
              "    <tr>\n",
              "      <th>1</th>\n",
              "      <td>0.404573</td>\n",
              "      <td>0.180204</td>\n",
              "      <td>0.456247</td>\n",
              "      <td>6.911856e-04</td>\n",
              "      <td>0.339979</td>\n",
              "      <td>0.361976</td>\n",
              "      <td>0.284011</td>\n",
              "      <td>0.2</td>\n",
              "      <td>0.053105</td>\n",
              "      <td>0.454545</td>\n",
              "      <td>0.554724</td>\n",
              "      <td>0.329382</td>\n",
              "      <td>0.369100</td>\n",
              "      <td>0.626001</td>\n",
              "    </tr>\n",
              "    <tr>\n",
              "      <th>2</th>\n",
              "      <td>0.546754</td>\n",
              "      <td>0.449179</td>\n",
              "      <td>0.514922</td>\n",
              "      <td>5.459602e-04</td>\n",
              "      <td>0.444715</td>\n",
              "      <td>0.480275</td>\n",
              "      <td>0.610298</td>\n",
              "      <td>0.2</td>\n",
              "      <td>0.185867</td>\n",
              "      <td>0.363636</td>\n",
              "      <td>0.389430</td>\n",
              "      <td>0.337588</td>\n",
              "      <td>0.495317</td>\n",
              "      <td>0.533277</td>\n",
              "    </tr>\n",
              "    <tr>\n",
              "      <th>3</th>\n",
              "      <td>0.608690</td>\n",
              "      <td>0.059476</td>\n",
              "      <td>0.501265</td>\n",
              "      <td>1.455894e-06</td>\n",
              "      <td>0.584852</td>\n",
              "      <td>0.196471</td>\n",
              "      <td>0.576152</td>\n",
              "      <td>0.6</td>\n",
              "      <td>0.016702</td>\n",
              "      <td>0.272727</td>\n",
              "      <td>0.651054</td>\n",
              "      <td>0.250513</td>\n",
              "      <td>0.680231</td>\n",
              "      <td>0.322370</td>\n",
              "    </tr>\n",
              "    <tr>\n",
              "      <th>4</th>\n",
              "      <td>0.469099</td>\n",
              "      <td>0.219707</td>\n",
              "      <td>0.553869</td>\n",
              "      <td>6.765175e-03</td>\n",
              "      <td>0.529047</td>\n",
              "      <td>0.372385</td>\n",
              "      <td>0.349051</td>\n",
              "      <td>0.4</td>\n",
              "      <td>0.035118</td>\n",
              "      <td>0.090909</td>\n",
              "      <td>0.344049</td>\n",
              "      <td>0.461363</td>\n",
              "      <td>0.620237</td>\n",
              "      <td>0.489862</td>\n",
              "    </tr>\n",
              "  </tbody>\n",
              "</table>\n",
              "</div>"
            ],
            "text/plain": [
              "         F1        F2        F3            F6        F7        F8        F9  \\\n",
              "0  0.360186  0.125166  0.409712  3.639735e-07  0.581055  0.610961  0.825474   \n",
              "1  0.404573  0.180204  0.456247  6.911856e-04  0.339979  0.361976  0.284011   \n",
              "2  0.546754  0.449179  0.514922  5.459602e-04  0.444715  0.480275  0.610298   \n",
              "3  0.608690  0.059476  0.501265  1.455894e-06  0.584852  0.196471  0.576152   \n",
              "4  0.469099  0.219707  0.553869  6.765175e-03  0.529047  0.372385  0.349051   \n",
              "\n",
              "   F10       F11       F12       F13       F14       F15       F16  \n",
              "0  0.3  0.036403  0.363636  0.512636  0.478459  0.381224  0.546042  \n",
              "1  0.2  0.053105  0.454545  0.554724  0.329382  0.369100  0.626001  \n",
              "2  0.2  0.185867  0.363636  0.389430  0.337588  0.495317  0.533277  \n",
              "3  0.6  0.016702  0.272727  0.651054  0.250513  0.680231  0.322370  \n",
              "4  0.4  0.035118  0.090909  0.344049  0.461363  0.620237  0.489862  "
            ]
          },
          "metadata": {
            "tags": []
          },
          "execution_count": 31
        }
      ]
    },
    {
      "cell_type": "code",
      "metadata": {
        "id": "pKN8WB9AhJi7",
        "outputId": "8fc3b93c-0c93-4c0f-fc27-5a592dd80cb7"
      },
      "source": [
        "#combining the normilized data with the dummies\n",
        "norm_df=pd.concat([dataset,dummies1,dummies2],axis=1)\n",
        "norm_df.head(5)"
      ],
      "execution_count": null,
      "outputs": [
        {
          "output_type": "execute_result",
          "data": {
            "text/html": [
              "<div>\n",
              "<style scoped>\n",
              "    .dataframe tbody tr th:only-of-type {\n",
              "        vertical-align: middle;\n",
              "    }\n",
              "\n",
              "    .dataframe tbody tr th {\n",
              "        vertical-align: top;\n",
              "    }\n",
              "\n",
              "    .dataframe thead th {\n",
              "        text-align: right;\n",
              "    }\n",
              "</style>\n",
              "<table border=\"1\" class=\"dataframe\">\n",
              "  <thead>\n",
              "    <tr style=\"text-align: right;\">\n",
              "      <th></th>\n",
              "      <th>F1</th>\n",
              "      <th>F2</th>\n",
              "      <th>F3</th>\n",
              "      <th>F6</th>\n",
              "      <th>F7</th>\n",
              "      <th>F8</th>\n",
              "      <th>F9</th>\n",
              "      <th>F10</th>\n",
              "      <th>F11</th>\n",
              "      <th>F12</th>\n",
              "      <th>...</th>\n",
              "      <th>F14</th>\n",
              "      <th>F15</th>\n",
              "      <th>F16</th>\n",
              "      <th>High</th>\n",
              "      <th>Low</th>\n",
              "      <th>Medium</th>\n",
              "      <th>Very high</th>\n",
              "      <th>Rest</th>\n",
              "      <th>UK</th>\n",
              "      <th>USA</th>\n",
              "    </tr>\n",
              "  </thead>\n",
              "  <tbody>\n",
              "    <tr>\n",
              "      <th>0</th>\n",
              "      <td>0.360186</td>\n",
              "      <td>0.125166</td>\n",
              "      <td>0.409712</td>\n",
              "      <td>3.639735e-07</td>\n",
              "      <td>0.581055</td>\n",
              "      <td>0.610961</td>\n",
              "      <td>0.825474</td>\n",
              "      <td>0.3</td>\n",
              "      <td>0.036403</td>\n",
              "      <td>0.363636</td>\n",
              "      <td>...</td>\n",
              "      <td>0.478459</td>\n",
              "      <td>0.381224</td>\n",
              "      <td>0.546042</td>\n",
              "      <td>1</td>\n",
              "      <td>0</td>\n",
              "      <td>0</td>\n",
              "      <td>0</td>\n",
              "      <td>0</td>\n",
              "      <td>1</td>\n",
              "      <td>0</td>\n",
              "    </tr>\n",
              "    <tr>\n",
              "      <th>1</th>\n",
              "      <td>0.404573</td>\n",
              "      <td>0.180204</td>\n",
              "      <td>0.456247</td>\n",
              "      <td>6.911856e-04</td>\n",
              "      <td>0.339979</td>\n",
              "      <td>0.361976</td>\n",
              "      <td>0.284011</td>\n",
              "      <td>0.2</td>\n",
              "      <td>0.053105</td>\n",
              "      <td>0.454545</td>\n",
              "      <td>...</td>\n",
              "      <td>0.329382</td>\n",
              "      <td>0.369100</td>\n",
              "      <td>0.626001</td>\n",
              "      <td>0</td>\n",
              "      <td>0</td>\n",
              "      <td>1</td>\n",
              "      <td>0</td>\n",
              "      <td>0</td>\n",
              "      <td>1</td>\n",
              "      <td>0</td>\n",
              "    </tr>\n",
              "    <tr>\n",
              "      <th>2</th>\n",
              "      <td>0.546754</td>\n",
              "      <td>0.449179</td>\n",
              "      <td>0.514922</td>\n",
              "      <td>5.459602e-04</td>\n",
              "      <td>0.444715</td>\n",
              "      <td>0.480275</td>\n",
              "      <td>0.610298</td>\n",
              "      <td>0.2</td>\n",
              "      <td>0.185867</td>\n",
              "      <td>0.363636</td>\n",
              "      <td>...</td>\n",
              "      <td>0.337588</td>\n",
              "      <td>0.495317</td>\n",
              "      <td>0.533277</td>\n",
              "      <td>0</td>\n",
              "      <td>1</td>\n",
              "      <td>0</td>\n",
              "      <td>0</td>\n",
              "      <td>1</td>\n",
              "      <td>0</td>\n",
              "      <td>0</td>\n",
              "    </tr>\n",
              "    <tr>\n",
              "      <th>3</th>\n",
              "      <td>0.608690</td>\n",
              "      <td>0.059476</td>\n",
              "      <td>0.501265</td>\n",
              "      <td>1.455894e-06</td>\n",
              "      <td>0.584852</td>\n",
              "      <td>0.196471</td>\n",
              "      <td>0.576152</td>\n",
              "      <td>0.6</td>\n",
              "      <td>0.016702</td>\n",
              "      <td>0.272727</td>\n",
              "      <td>...</td>\n",
              "      <td>0.250513</td>\n",
              "      <td>0.680231</td>\n",
              "      <td>0.322370</td>\n",
              "      <td>1</td>\n",
              "      <td>0</td>\n",
              "      <td>0</td>\n",
              "      <td>0</td>\n",
              "      <td>1</td>\n",
              "      <td>0</td>\n",
              "      <td>0</td>\n",
              "    </tr>\n",
              "    <tr>\n",
              "      <th>4</th>\n",
              "      <td>0.469099</td>\n",
              "      <td>0.219707</td>\n",
              "      <td>0.553869</td>\n",
              "      <td>6.765175e-03</td>\n",
              "      <td>0.529047</td>\n",
              "      <td>0.372385</td>\n",
              "      <td>0.349051</td>\n",
              "      <td>0.4</td>\n",
              "      <td>0.035118</td>\n",
              "      <td>0.090909</td>\n",
              "      <td>...</td>\n",
              "      <td>0.461363</td>\n",
              "      <td>0.620237</td>\n",
              "      <td>0.489862</td>\n",
              "      <td>0</td>\n",
              "      <td>0</td>\n",
              "      <td>1</td>\n",
              "      <td>0</td>\n",
              "      <td>0</td>\n",
              "      <td>0</td>\n",
              "      <td>1</td>\n",
              "    </tr>\n",
              "  </tbody>\n",
              "</table>\n",
              "<p>5 rows × 21 columns</p>\n",
              "</div>"
            ],
            "text/plain": [
              "         F1        F2        F3            F6        F7        F8        F9  \\\n",
              "0  0.360186  0.125166  0.409712  3.639735e-07  0.581055  0.610961  0.825474   \n",
              "1  0.404573  0.180204  0.456247  6.911856e-04  0.339979  0.361976  0.284011   \n",
              "2  0.546754  0.449179  0.514922  5.459602e-04  0.444715  0.480275  0.610298   \n",
              "3  0.608690  0.059476  0.501265  1.455894e-06  0.584852  0.196471  0.576152   \n",
              "4  0.469099  0.219707  0.553869  6.765175e-03  0.529047  0.372385  0.349051   \n",
              "\n",
              "   F10       F11       F12  ...       F14       F15       F16  High  Low  \\\n",
              "0  0.3  0.036403  0.363636  ...  0.478459  0.381224  0.546042     1    0   \n",
              "1  0.2  0.053105  0.454545  ...  0.329382  0.369100  0.626001     0    0   \n",
              "2  0.2  0.185867  0.363636  ...  0.337588  0.495317  0.533277     0    1   \n",
              "3  0.6  0.016702  0.272727  ...  0.250513  0.680231  0.322370     1    0   \n",
              "4  0.4  0.035118  0.090909  ...  0.461363  0.620237  0.489862     0    0   \n",
              "\n",
              "   Medium  Very high  Rest  UK  USA  \n",
              "0       0          0     0   1    0  \n",
              "1       1          0     0   1    0  \n",
              "2       0          0     1   0    0  \n",
              "3       0          0     1   0    0  \n",
              "4       1          0     0   0    1  \n",
              "\n",
              "[5 rows x 21 columns]"
            ]
          },
          "metadata": {
            "tags": []
          },
          "execution_count": 32
        }
      ]
    },
    {
      "cell_type": "code",
      "metadata": {
        "id": "qU61rT7ehJi7"
      },
      "source": [
        "X_norm= norm_df.drop([\"F3\"],axis=1)# F3 is dropped as part of feature selection since it has the least correlation\n",
        "Y_norm=data_y #target variable is already in data_y"
      ],
      "execution_count": null,
      "outputs": []
    },
    {
      "cell_type": "code",
      "metadata": {
        "id": "fTSEr9VThJi7",
        "outputId": "6d982b07-b330-43a9-a97b-c2c3682e9a31"
      },
      "source": [
        "X_norm.head(5)"
      ],
      "execution_count": null,
      "outputs": [
        {
          "output_type": "execute_result",
          "data": {
            "text/html": [
              "<div>\n",
              "<style scoped>\n",
              "    .dataframe tbody tr th:only-of-type {\n",
              "        vertical-align: middle;\n",
              "    }\n",
              "\n",
              "    .dataframe tbody tr th {\n",
              "        vertical-align: top;\n",
              "    }\n",
              "\n",
              "    .dataframe thead th {\n",
              "        text-align: right;\n",
              "    }\n",
              "</style>\n",
              "<table border=\"1\" class=\"dataframe\">\n",
              "  <thead>\n",
              "    <tr style=\"text-align: right;\">\n",
              "      <th></th>\n",
              "      <th>F1</th>\n",
              "      <th>F2</th>\n",
              "      <th>F6</th>\n",
              "      <th>F7</th>\n",
              "      <th>F8</th>\n",
              "      <th>F9</th>\n",
              "      <th>F10</th>\n",
              "      <th>F11</th>\n",
              "      <th>F12</th>\n",
              "      <th>F13</th>\n",
              "      <th>F14</th>\n",
              "      <th>F15</th>\n",
              "      <th>F16</th>\n",
              "      <th>High</th>\n",
              "      <th>Low</th>\n",
              "      <th>Medium</th>\n",
              "      <th>Very high</th>\n",
              "      <th>Rest</th>\n",
              "      <th>UK</th>\n",
              "      <th>USA</th>\n",
              "    </tr>\n",
              "  </thead>\n",
              "  <tbody>\n",
              "    <tr>\n",
              "      <th>0</th>\n",
              "      <td>0.360186</td>\n",
              "      <td>0.125166</td>\n",
              "      <td>3.639735e-07</td>\n",
              "      <td>0.581055</td>\n",
              "      <td>0.610961</td>\n",
              "      <td>0.825474</td>\n",
              "      <td>0.3</td>\n",
              "      <td>0.036403</td>\n",
              "      <td>0.363636</td>\n",
              "      <td>0.512636</td>\n",
              "      <td>0.478459</td>\n",
              "      <td>0.381224</td>\n",
              "      <td>0.546042</td>\n",
              "      <td>1</td>\n",
              "      <td>0</td>\n",
              "      <td>0</td>\n",
              "      <td>0</td>\n",
              "      <td>0</td>\n",
              "      <td>1</td>\n",
              "      <td>0</td>\n",
              "    </tr>\n",
              "    <tr>\n",
              "      <th>1</th>\n",
              "      <td>0.404573</td>\n",
              "      <td>0.180204</td>\n",
              "      <td>6.911856e-04</td>\n",
              "      <td>0.339979</td>\n",
              "      <td>0.361976</td>\n",
              "      <td>0.284011</td>\n",
              "      <td>0.2</td>\n",
              "      <td>0.053105</td>\n",
              "      <td>0.454545</td>\n",
              "      <td>0.554724</td>\n",
              "      <td>0.329382</td>\n",
              "      <td>0.369100</td>\n",
              "      <td>0.626001</td>\n",
              "      <td>0</td>\n",
              "      <td>0</td>\n",
              "      <td>1</td>\n",
              "      <td>0</td>\n",
              "      <td>0</td>\n",
              "      <td>1</td>\n",
              "      <td>0</td>\n",
              "    </tr>\n",
              "    <tr>\n",
              "      <th>2</th>\n",
              "      <td>0.546754</td>\n",
              "      <td>0.449179</td>\n",
              "      <td>5.459602e-04</td>\n",
              "      <td>0.444715</td>\n",
              "      <td>0.480275</td>\n",
              "      <td>0.610298</td>\n",
              "      <td>0.2</td>\n",
              "      <td>0.185867</td>\n",
              "      <td>0.363636</td>\n",
              "      <td>0.389430</td>\n",
              "      <td>0.337588</td>\n",
              "      <td>0.495317</td>\n",
              "      <td>0.533277</td>\n",
              "      <td>0</td>\n",
              "      <td>1</td>\n",
              "      <td>0</td>\n",
              "      <td>0</td>\n",
              "      <td>1</td>\n",
              "      <td>0</td>\n",
              "      <td>0</td>\n",
              "    </tr>\n",
              "    <tr>\n",
              "      <th>3</th>\n",
              "      <td>0.608690</td>\n",
              "      <td>0.059476</td>\n",
              "      <td>1.455894e-06</td>\n",
              "      <td>0.584852</td>\n",
              "      <td>0.196471</td>\n",
              "      <td>0.576152</td>\n",
              "      <td>0.6</td>\n",
              "      <td>0.016702</td>\n",
              "      <td>0.272727</td>\n",
              "      <td>0.651054</td>\n",
              "      <td>0.250513</td>\n",
              "      <td>0.680231</td>\n",
              "      <td>0.322370</td>\n",
              "      <td>1</td>\n",
              "      <td>0</td>\n",
              "      <td>0</td>\n",
              "      <td>0</td>\n",
              "      <td>1</td>\n",
              "      <td>0</td>\n",
              "      <td>0</td>\n",
              "    </tr>\n",
              "    <tr>\n",
              "      <th>4</th>\n",
              "      <td>0.469099</td>\n",
              "      <td>0.219707</td>\n",
              "      <td>6.765175e-03</td>\n",
              "      <td>0.529047</td>\n",
              "      <td>0.372385</td>\n",
              "      <td>0.349051</td>\n",
              "      <td>0.4</td>\n",
              "      <td>0.035118</td>\n",
              "      <td>0.090909</td>\n",
              "      <td>0.344049</td>\n",
              "      <td>0.461363</td>\n",
              "      <td>0.620237</td>\n",
              "      <td>0.489862</td>\n",
              "      <td>0</td>\n",
              "      <td>0</td>\n",
              "      <td>1</td>\n",
              "      <td>0</td>\n",
              "      <td>0</td>\n",
              "      <td>0</td>\n",
              "      <td>1</td>\n",
              "    </tr>\n",
              "  </tbody>\n",
              "</table>\n",
              "</div>"
            ],
            "text/plain": [
              "         F1        F2            F6        F7        F8        F9  F10  \\\n",
              "0  0.360186  0.125166  3.639735e-07  0.581055  0.610961  0.825474  0.3   \n",
              "1  0.404573  0.180204  6.911856e-04  0.339979  0.361976  0.284011  0.2   \n",
              "2  0.546754  0.449179  5.459602e-04  0.444715  0.480275  0.610298  0.2   \n",
              "3  0.608690  0.059476  1.455894e-06  0.584852  0.196471  0.576152  0.6   \n",
              "4  0.469099  0.219707  6.765175e-03  0.529047  0.372385  0.349051  0.4   \n",
              "\n",
              "        F11       F12       F13       F14       F15       F16  High  Low  \\\n",
              "0  0.036403  0.363636  0.512636  0.478459  0.381224  0.546042     1    0   \n",
              "1  0.053105  0.454545  0.554724  0.329382  0.369100  0.626001     0    0   \n",
              "2  0.185867  0.363636  0.389430  0.337588  0.495317  0.533277     0    1   \n",
              "3  0.016702  0.272727  0.651054  0.250513  0.680231  0.322370     1    0   \n",
              "4  0.035118  0.090909  0.344049  0.461363  0.620237  0.489862     0    0   \n",
              "\n",
              "   Medium  Very high  Rest  UK  USA  \n",
              "0       0          0     0   1    0  \n",
              "1       1          0     0   1    0  \n",
              "2       0          0     1   0    0  \n",
              "3       0          0     1   0    0  \n",
              "4       1          0     0   0    1  "
            ]
          },
          "metadata": {
            "tags": []
          },
          "execution_count": 34
        }
      ]
    },
    {
      "cell_type": "code",
      "metadata": {
        "id": "40_ZJ8OShJi8"
      },
      "source": [
        "#Y_norm.head(5)"
      ],
      "execution_count": null,
      "outputs": []
    },
    {
      "cell_type": "code",
      "metadata": {
        "id": "4Mc5eH1qhJi8"
      },
      "source": [
        "#data splitting for models which perform better with normalised data for training the model\n",
        "from sklearn.model_selection import train_test_split\n",
        "x1_train,x1_test,y1_train,y1_test=train_test_split(X_norm,data_y,test_size=0.3)"
      ],
      "execution_count": null,
      "outputs": []
    },
    {
      "cell_type": "code",
      "metadata": {
        "id": "Hm-JXMRQhJi8"
      },
      "source": [
        "#creating a empty list to store the r2 score\n",
        "score=[]\n",
        "#creating the list of model names for plotting\n",
        "Model_name=['Linear','RandomForest','SVR','Lasso','Ridge']"
      ],
      "execution_count": null,
      "outputs": []
    },
    {
      "cell_type": "markdown",
      "metadata": {
        "id": "60o1aYIjhJi8"
      },
      "source": [
        "# Linear Regression"
      ]
    },
    {
      "cell_type": "code",
      "metadata": {
        "id": "0UJGvqHvhJi8"
      },
      "source": [
        "#data splitting for models which perform better without normalization data\n",
        "from sklearn.model_selection import train_test_split\n",
        "x_train,x_test,y_train,y_test=train_test_split(X,Y,test_size=0.3)"
      ],
      "execution_count": null,
      "outputs": []
    },
    {
      "cell_type": "code",
      "metadata": {
        "id": "sPbwfjYehJi9"
      },
      "source": [
        "from sklearn import linear_model\n",
        "from sklearn.model_selection import cross_val_score, cross_val_predict\n",
        "from sklearn import metrics\n",
        "from sklearn.metrics import mean_squared_error\n",
        "import math\n",
        "lm=linear_model.LinearRegression()"
      ],
      "execution_count": null,
      "outputs": []
    },
    {
      "cell_type": "code",
      "metadata": {
        "id": "qlAvd6xBhJi9",
        "outputId": "cd2f2253-0a2b-4869-e879-94ee8b8cd2d6"
      },
      "source": [
        "scores = cross_val_score(lm, X , Y, cv=10) # using cross validation to technique to validate the model\n",
        "print ('Cross-validated scores:', scores)"
      ],
      "execution_count": null,
      "outputs": [
        {
          "output_type": "stream",
          "text": [
            "Cross-validated scores: [0.78379945 0.82832052 0.74349088 0.76884408 0.721354   0.7547155\n",
            " 0.7781361  0.8197063  0.78230074 0.80640219]\n"
          ],
          "name": "stdout"
        }
      ]
    },
    {
      "cell_type": "code",
      "metadata": {
        "id": "IjVFjduNhJi9",
        "outputId": "97361ed6-9716-4251-8a23-686163543ab9"
      },
      "source": [
        "#making predictions using cross validation to validate model\n",
        "predictions = cross_val_predict(lm, X, Y, cv=10)\n",
        "accuracy = metrics.r2_score(Y, predictions,multioutput='raw_values')\n",
        "print('Cross-Predicted Accuracy:', accuracy)"
      ],
      "execution_count": null,
      "outputs": [
        {
          "output_type": "stream",
          "text": [
            "Cross-Predicted Accuracy: [0.78277185]\n"
          ],
          "name": "stdout"
        }
      ]
    },
    {
      "cell_type": "code",
      "metadata": {
        "id": "uk2HymLJhJi9",
        "outputId": "b647e3a0-ceb0-4b38-baea-ed7ec397baad"
      },
      "source": [
        "scores = pd.Series(scores)\n",
        "scores.mean()"
      ],
      "execution_count": null,
      "outputs": [
        {
          "output_type": "execute_result",
          "data": {
            "text/plain": [
              "0.778706975552811"
            ]
          },
          "metadata": {
            "tags": []
          },
          "execution_count": 42
        }
      ]
    },
    {
      "cell_type": "code",
      "metadata": {
        "id": "Jm1bsZFJhJi-",
        "outputId": "91dab940-b8e6-4469-cb67-9794c247f880"
      },
      "source": [
        "#fitting the model \n",
        "lm.fit(x_train,y_train)"
      ],
      "execution_count": null,
      "outputs": [
        {
          "output_type": "execute_result",
          "data": {
            "text/plain": [
              "LinearRegression()"
            ]
          },
          "metadata": {
            "tags": []
          },
          "execution_count": 43
        }
      ]
    },
    {
      "cell_type": "code",
      "metadata": {
        "id": "5EToGkKZhJi-"
      },
      "source": [
        "#making predictions\n",
        "y_pred=lm.predict(x_test)"
      ],
      "execution_count": null,
      "outputs": []
    },
    {
      "cell_type": "code",
      "metadata": {
        "id": "6ma1xrdghJi-",
        "outputId": "dd34c23e-b4c9-424e-a9ab-58c89253686e"
      },
      "source": [
        "#Generaing r2 score to check the performance of the model\n",
        "Linear=metrics.r2_score(y_test, y_pred)\n",
        "print(\"R2_score:\\n\",Linear)\n",
        "score.append(Linear)"
      ],
      "execution_count": null,
      "outputs": [
        {
          "output_type": "stream",
          "text": [
            "R2_score:\n",
            " 0.7887106914014613\n"
          ],
          "name": "stdout"
        }
      ]
    },
    {
      "cell_type": "code",
      "metadata": {
        "id": "sVguXWRLhJi-",
        "outputId": "3f8e39ab-8f4d-4ce6-d6a0-2741cd830a1c"
      },
      "source": [
        "#calculating the RMSE of the model \n",
        "MSE = mean_squared_error(y_test, y_pred)\n",
        "RMSE = math.sqrt(MSE)\n",
        "print(\"Root Mean Square Error:\\n\")\n",
        "print(RMSE)"
      ],
      "execution_count": null,
      "outputs": [
        {
          "output_type": "stream",
          "text": [
            "Root Mean Square Error:\n",
            "\n",
            "509.3039064246365\n"
          ],
          "name": "stdout"
        }
      ]
    },
    {
      "cell_type": "markdown",
      "metadata": {
        "id": "Xfis438thJi-"
      },
      "source": [
        "# Random Forest Regressor"
      ]
    },
    {
      "cell_type": "code",
      "metadata": {
        "id": "osoAAq2KhJi_",
        "outputId": "411317d3-ff2e-4093-b755-ccd513aa0cd9"
      },
      "source": [
        "from sklearn.ensemble import RandomForestRegressor\n",
        "rf_reg=RandomForestRegressor()\n",
        "scores=cross_val_score(rf_reg, X, Y, cv=10)# using cross validation to technique to validate the model\n",
        "print ('Cross-validated scores:', scores)"
      ],
      "execution_count": null,
      "outputs": [
        {
          "output_type": "stream",
          "text": [
            "Cross-validated scores: [0.62492097 0.7360326  0.59219441 0.7404294  0.6548808  0.66511298\n",
            " 0.67233781 0.7421723  0.63047821 0.64512885]\n"
          ],
          "name": "stdout"
        }
      ]
    },
    {
      "cell_type": "code",
      "metadata": {
        "id": "7H8dTShkhJi_",
        "outputId": "9bfbbaf7-e68a-4e61-c986-65de1d692bc8"
      },
      "source": [
        "#making predictions using cross validation to validate model\n",
        "predictions = cross_val_predict(rf_reg, X, Y, cv=10)\n",
        "accuracy = metrics.r2_score(Y, predictions,multioutput='raw_values')\n",
        "print('Cross-Predicted Accuracy:', accuracy)"
      ],
      "execution_count": null,
      "outputs": [
        {
          "output_type": "stream",
          "text": [
            "Cross-Predicted Accuracy: [0.6772549]\n"
          ],
          "name": "stdout"
        }
      ]
    },
    {
      "cell_type": "code",
      "metadata": {
        "id": "uGlxawd3hJi_",
        "outputId": "70e91465-6fa6-4152-8c04-518c8b11b191"
      },
      "source": [
        "scores = pd.Series(scores)\n",
        "scores.mean()"
      ],
      "execution_count": null,
      "outputs": [
        {
          "output_type": "execute_result",
          "data": {
            "text/plain": [
              "0.6703688320063683"
            ]
          },
          "metadata": {
            "tags": []
          },
          "execution_count": 49
        }
      ]
    },
    {
      "cell_type": "code",
      "metadata": {
        "id": "Q5jHtulkhJjA",
        "outputId": "1c24c602-8183-4020-db3a-6a4fa682a3fe"
      },
      "source": [
        "#fitting the model\n",
        "rf_reg.fit(x_train,y_train.ravel())\n",
        "#making predictions\n",
        "y_pred=rf_reg.predict(x_test)\n",
        "#Generaing r2 score to check the performance of the model\n",
        "randomforest=metrics.r2_score(y_test, y_pred)\n",
        "print(\"R2_score:\\n\",randomforest)\n",
        "score.append(randomforest)"
      ],
      "execution_count": null,
      "outputs": [
        {
          "output_type": "stream",
          "text": [
            "R2_score:\n",
            " 0.7035281849595505\n"
          ],
          "name": "stdout"
        }
      ]
    },
    {
      "cell_type": "code",
      "metadata": {
        "id": "vpNOb4k3hJjA",
        "outputId": "441247c1-ca3c-4226-a869-2c2556084354"
      },
      "source": [
        "#calculating the RMSE of the model \n",
        "MSE = mean_squared_error(y_test, y_pred)\n",
        "RMSE = math.sqrt(MSE)\n",
        "print(\"Root Mean Square Error:\\n\")\n",
        "print(RMSE)"
      ],
      "execution_count": null,
      "outputs": [
        {
          "output_type": "stream",
          "text": [
            "Root Mean Square Error:\n",
            "\n",
            "603.2953145180369\n"
          ],
          "name": "stdout"
        }
      ]
    },
    {
      "cell_type": "markdown",
      "metadata": {
        "id": "hQ7M8r3nhJjA"
      },
      "source": [
        "# SVR "
      ]
    },
    {
      "cell_type": "code",
      "metadata": {
        "id": "fQSo9FYWhJjA",
        "outputId": "01a30a68-d5ae-440d-bc51-3ce4b1b22ba4"
      },
      "source": [
        "#works with data normilizaton\n",
        "from sklearn.svm import SVR\n",
        "model=SVR()\n",
        "scores=cross_val_score(model, X_norm, Y_norm.ravel(), cv=10)# using cross validation to technique to validate the model\n",
        "print ('Cross-validated scores:', scores)"
      ],
      "execution_count": null,
      "outputs": [
        {
          "output_type": "stream",
          "text": [
            "Cross-validated scores: [0.86074738 0.89257223 0.86188965 0.86794864 0.83184081 0.84914476\n",
            " 0.86567384 0.87113624 0.86030407 0.88356557]\n"
          ],
          "name": "stdout"
        }
      ]
    },
    {
      "cell_type": "code",
      "metadata": {
        "id": "bsL8I0IYhJjB",
        "outputId": "5222a72a-2547-44f8-c02e-0a4fe8093925"
      },
      "source": [
        "#making predictions using cross validation to validate model\n",
        "predictions = cross_val_predict(model, X_norm, Y_norm.ravel(), cv=10)\n",
        "accuracy = metrics.r2_score(Y_norm, predictions,multioutput='raw_values')\n",
        "print('Cross-Predicted Accuracy:', accuracy)"
      ],
      "execution_count": null,
      "outputs": [
        {
          "output_type": "stream",
          "text": [
            "Cross-Predicted Accuracy: [0.86630946]\n"
          ],
          "name": "stdout"
        }
      ]
    },
    {
      "cell_type": "code",
      "metadata": {
        "id": "S2BMYHCOhJjB",
        "outputId": "02a33d1b-5947-4f37-8b14-d09cd3498f8e"
      },
      "source": [
        "scores = pd.Series(scores)\n",
        "scores.mean()"
      ],
      "execution_count": null,
      "outputs": [
        {
          "output_type": "execute_result",
          "data": {
            "text/plain": [
              "0.864482318941006"
            ]
          },
          "metadata": {
            "tags": []
          },
          "execution_count": 54
        }
      ]
    },
    {
      "cell_type": "code",
      "metadata": {
        "id": "uq9FJBtahJjB",
        "outputId": "226b5ada-d795-422d-9f51-de1e56f8af0f"
      },
      "source": [
        "#fitting the model\n",
        "model.fit(x1_train,y1_train.ravel())#using ravel to obtain a contiguous flattened array\n",
        "#making predictions\n",
        "y_pred=model.predict(x1_test)\n",
        "#Generaing r2 score to check the performance of the model\n",
        "metrics.r2_score(y1_test, y_pred)"
      ],
      "execution_count": null,
      "outputs": [
        {
          "output_type": "execute_result",
          "data": {
            "text/plain": [
              "0.8477354108558386"
            ]
          },
          "metadata": {
            "tags": []
          },
          "execution_count": 55
        }
      ]
    },
    {
      "cell_type": "code",
      "metadata": {
        "id": "VLm2ltbLhJjB",
        "outputId": "951ade35-e364-4c8b-bad7-303c4bd6da4b"
      },
      "source": [
        "#calculating the RMSE of the model \n",
        "MSE = mean_squared_error(y1_test, y_pred) \n",
        "RMSE = math.sqrt(MSE)\n",
        "print(\"Root Mean Square Error:\\n\")\n",
        "print(RMSE)"
      ],
      "execution_count": null,
      "outputs": [
        {
          "output_type": "stream",
          "text": [
            "Root Mean Square Error:\n",
            "\n",
            "0.1063718854864203\n"
          ],
          "name": "stdout"
        }
      ]
    },
    {
      "cell_type": "code",
      "metadata": {
        "id": "PX4qFZhZhJjC",
        "outputId": "b76d4eeb-abd5-484c-e77d-33a9abacd874"
      },
      "source": [
        "#grid search for tuning the parameters\n",
        "parameters = {'kernel': ['linear', 'rbf','poly'], 'C':[0.1, 1, 1.5,10, 100, 1000,10000],'gamma': [1, 0.1, 0.01, 0.001,1e-7, 1e-4],'epsilon':[0.1,0.2,0.5,0.3]}\n",
        "from sklearn.model_selection import GridSearchCV\n",
        "reg = GridSearchCV(model, parameters)\n",
        "reg.fit(x1_train, y1_train.ravel())\n",
        "reg.best_params_"
      ],
      "execution_count": null,
      "outputs": [
        {
          "output_type": "execute_result",
          "data": {
            "text/plain": [
              "{'C': 1000, 'epsilon': 0.1, 'gamma': 0.01, 'kernel': 'rbf'}"
            ]
          },
          "metadata": {
            "tags": []
          },
          "execution_count": 57
        }
      ]
    },
    {
      "cell_type": "code",
      "metadata": {
        "id": "IlGvQZDzhJjC",
        "outputId": "6d3cb978-b42b-4863-8dfc-f5df849be66e"
      },
      "source": [
        "#model with tuned parameters\n",
        "model_t=SVR(C=1000,epsilon=0.1,gamma=0.01,kernel='rbf')\n",
        "model_t.fit(x1_train,y1_train.ravel())\n",
        "y_pred=model_t.predict(x1_test)\n",
        "svr=metrics.r2_score(y1_test, y_pred)\n",
        "print(\"R2_score:\\n\",svr)\n",
        "score.append(svr)"
      ],
      "execution_count": null,
      "outputs": [
        {
          "output_type": "stream",
          "text": [
            "R2_score:\n",
            " 0.8652371139092487\n"
          ],
          "name": "stdout"
        }
      ]
    },
    {
      "cell_type": "code",
      "metadata": {
        "id": "vwvYJAGzhJjC"
      },
      "source": [
        "y_pred=y_pred.reshape(-1,1)"
      ],
      "execution_count": null,
      "outputs": []
    },
    {
      "cell_type": "code",
      "metadata": {
        "id": "3pTdumeGhJjC"
      },
      "source": [
        "#inversing the normilization\n",
        "y_inv = trans_y.inverse_transform(y_pred) "
      ],
      "execution_count": null,
      "outputs": []
    },
    {
      "cell_type": "code",
      "metadata": {
        "id": "E4GoBpF9hJjD"
      },
      "source": [
        "#inversing the normilization\n",
        "y_test_inv=trans_y.inverse_transform(y1_test)"
      ],
      "execution_count": null,
      "outputs": []
    },
    {
      "cell_type": "code",
      "metadata": {
        "id": "VoNodqCMhJjD",
        "outputId": "b32cf8a1-1969-4ba1-e594-e813c78b0154"
      },
      "source": [
        "#calculating the RMSE of the model\n",
        "MSE = mean_squared_error(y_test_inv, y_inv)\n",
        "RMSE = math.sqrt(MSE)\n",
        "print(\"Root Mean Square Error:\\n\")\n",
        "print(RMSE)"
      ],
      "execution_count": null,
      "outputs": [
        {
          "output_type": "stream",
          "text": [
            "Root Mean Square Error:\n",
            "\n",
            "396.28609517629127\n"
          ],
          "name": "stdout"
        }
      ]
    },
    {
      "cell_type": "markdown",
      "metadata": {
        "id": "uYPjTSvShJjD"
      },
      "source": [
        "# Lasso regression"
      ]
    },
    {
      "cell_type": "code",
      "metadata": {
        "id": "A-1Szv-phJjD",
        "outputId": "b1bda313-4e35-476a-b346-82b38c5014aa"
      },
      "source": [
        "# import the regressor \n",
        "from sklearn import linear_model\n",
        "\n",
        " # create regressor object \n",
        "lasso_regressor = linear_model.Lasso()\n",
        "\n",
        "scores=cross_val_score(lasso_regressor, X, Y, cv=10)# using cross validation to technique to validate the model\n",
        "print ('Cross-validated scores:', scores)"
      ],
      "execution_count": null,
      "outputs": [
        {
          "output_type": "stream",
          "text": [
            "Cross-validated scores: [0.78244462 0.82950771 0.74298139 0.7700753  0.72042708 0.75318274\n",
            " 0.77705452 0.82100912 0.78267331 0.80526863]\n"
          ],
          "name": "stdout"
        }
      ]
    },
    {
      "cell_type": "code",
      "metadata": {
        "id": "S54d3VoJhJjD",
        "outputId": "e026a229-087f-4eae-f3ab-2a64f2239f42"
      },
      "source": [
        "#making predictions using cross validation to validate model\n",
        "predictions = cross_val_predict(lasso_regressor, X, Y, cv=10)\n",
        "accuracy = metrics.r2_score(Y, predictions,multioutput='raw_values')\n",
        "print('Cross-Predicted Accuracy:', accuracy)"
      ],
      "execution_count": null,
      "outputs": [
        {
          "output_type": "stream",
          "text": [
            "Cross-Predicted Accuracy: [0.78259767]\n"
          ],
          "name": "stdout"
        }
      ]
    },
    {
      "cell_type": "code",
      "metadata": {
        "id": "SArBveWohJjE",
        "outputId": "6920627b-e8ca-47c1-f397-a8afaa0e9097"
      },
      "source": [
        "scores = pd.Series(scores)\n",
        "scores.mean()"
      ],
      "execution_count": null,
      "outputs": [
        {
          "output_type": "execute_result",
          "data": {
            "text/plain": [
              "0.7784624414985689"
            ]
          },
          "metadata": {
            "tags": []
          },
          "execution_count": 77
        }
      ]
    },
    {
      "cell_type": "code",
      "metadata": {
        "id": "wWkABg1EhJjE",
        "outputId": "67951aa1-9c22-460d-cf0b-3b325eb4f68c"
      },
      "source": [
        "# fit the regressor with x and y data \n",
        "lasso_regressor.fit(x_train, y_train)\n",
        "\n",
        "#Prediction of new values\n",
        "y_pred = lasso_regressor.predict(x_test)\n",
        "\n",
        "lasso=metrics.r2_score(y_test, y_pred)\n",
        "print(\"R2_score:\\n\",lasso)\n",
        "score.append(lasso)"
      ],
      "execution_count": null,
      "outputs": [
        {
          "output_type": "stream",
          "text": [
            "R2_score:\n",
            " 0.7878982110062415\n"
          ],
          "name": "stdout"
        }
      ]
    },
    {
      "cell_type": "code",
      "metadata": {
        "id": "r9wgkczehJjE",
        "outputId": "258435b7-21b9-4516-d2b1-6418abde62c3"
      },
      "source": [
        "#calculating the RMSE of the model\n",
        "MSE = mean_squared_error(y_test, y_pred)\n",
        "RMSE = math.sqrt(MSE)\n",
        "print(\"Root Mean Square Error:\\n\")\n",
        "print(RMSE)"
      ],
      "execution_count": null,
      "outputs": [
        {
          "output_type": "stream",
          "text": [
            "Root Mean Square Error:\n",
            "\n",
            "510.2821916120732\n"
          ],
          "name": "stdout"
        }
      ]
    },
    {
      "cell_type": "markdown",
      "metadata": {
        "id": "gAoSPWj9hJjE"
      },
      "source": [
        "# Ridge regression"
      ]
    },
    {
      "cell_type": "code",
      "metadata": {
        "id": "kn05aS5ehJjE",
        "outputId": "5fcc6742-11e7-4a9a-9364-5b020ccc7ccd"
      },
      "source": [
        "# import the regressor \n",
        "from sklearn import linear_model\n",
        "\n",
        " # create regressor object \n",
        "ridge_regressor = linear_model.Ridge(alpha=.5)\n",
        "\n",
        "scores=cross_val_score(ridge_regressor , X_norm, Y_norm.ravel(), cv=10)# using cross validation to technique to validate the model\n",
        "print ('Cross-validated scores:', scores)"
      ],
      "execution_count": null,
      "outputs": [
        {
          "output_type": "stream",
          "text": [
            "Cross-validated scores: [0.78240049 0.8269051  0.74586593 0.77863242 0.7256841  0.7549104\n",
            " 0.77729347 0.82061936 0.7816659  0.80419608]\n"
          ],
          "name": "stdout"
        }
      ]
    },
    {
      "cell_type": "code",
      "metadata": {
        "id": "WGcPR9drhJjF",
        "outputId": "6ed59228-3daa-47db-e12a-46187b5ac5c0"
      },
      "source": [
        "#making predictions using cross validation to validate model\n",
        "predictions = cross_val_predict(ridge_regressor , X_norm, Y_norm.ravel(), cv=10)\n",
        "accuracy = metrics.r2_score(Y_norm, predictions,multioutput='raw_values')\n",
        "print('Cross-Predicted Accuracy:', accuracy)"
      ],
      "execution_count": null,
      "outputs": [
        {
          "output_type": "stream",
          "text": [
            "Cross-Predicted Accuracy: [0.78384054]\n"
          ],
          "name": "stdout"
        }
      ]
    },
    {
      "cell_type": "code",
      "metadata": {
        "id": "nQX-fhuNhJjF",
        "outputId": "ee99feb3-3d72-4923-d144-90691d74ecb7"
      },
      "source": [
        "scores = pd.Series(scores)\n",
        "scores.mean()"
      ],
      "execution_count": null,
      "outputs": [
        {
          "output_type": "execute_result",
          "data": {
            "text/plain": [
              "0.7798173257898061"
            ]
          },
          "metadata": {
            "tags": []
          },
          "execution_count": 80
        }
      ]
    },
    {
      "cell_type": "code",
      "metadata": {
        "id": "gXnvz5jQhJjF",
        "outputId": "bf4c7ce9-9699-425a-8d9c-0b633c6d973e"
      },
      "source": [
        "# fit the regressor with x and y data \n",
        "ridge_regressor.fit(x1_train, y1_train)\n",
        "\n",
        "#Prediction of new values\n",
        "y_pred = ridge_regressor.predict(x1_test)\n",
        "\n",
        "ridge=metrics.r2_score(y1_test, y_pred)\n",
        "print(\"R2_score:\\n\",ridge)\n",
        "score.append(ridge)"
      ],
      "execution_count": null,
      "outputs": [
        {
          "output_type": "stream",
          "text": [
            "R2_score:\n",
            " 0.7758733981914985\n"
          ],
          "name": "stdout"
        }
      ]
    },
    {
      "cell_type": "code",
      "metadata": {
        "id": "QCFMCPHkhJjF"
      },
      "source": [
        "y_pred=y_pred.reshape(-1,1)\n",
        "#inversing the normilization\n",
        "y_inv = trans_y.inverse_transform(y_pred) \n",
        "y_test_inv=trans_y.inverse_transform(y1_test)"
      ],
      "execution_count": null,
      "outputs": []
    },
    {
      "cell_type": "code",
      "metadata": {
        "id": "2xL9tvmOhJjG",
        "outputId": "c650e79d-235e-4acf-a62a-a643b6f350b3"
      },
      "source": [
        "#calculating the RMSE of the model\n",
        "MSE = mean_squared_error(y_test_inv, y_inv)\n",
        "RMSE = math.sqrt(MSE)\n",
        "print(\"Root Mean Square Error:\\n\")\n",
        "print(RMSE)"
      ],
      "execution_count": null,
      "outputs": [
        {
          "output_type": "stream",
          "text": [
            "Root Mean Square Error:\n",
            "\n",
            "511.0582290955991\n"
          ],
          "name": "stdout"
        }
      ]
    },
    {
      "cell_type": "code",
      "metadata": {
        "id": "R76lnrMuhJjG",
        "outputId": "b73e75ec-c3b1-4623-ec63-286fa07937a9"
      },
      "source": [
        "#bar chart for all the model accuracy\n",
        "fig = plt.figure()\n",
        "ax = fig.add_axes([0,0,1,1])\n",
        "ax.set_ylabel('R2 Scores')\n",
        "ax.bar(Model_name,score)\n",
        "plt.show()"
      ],
      "execution_count": null,
      "outputs": [
        {
          "output_type": "display_data",
          "data": {
            "image/png": "[encoded data removed]",
            "text/plain": [
              "<Figure size 432x288 with 1 Axes>"
            ]
          },
          "metadata": {
            "tags": [],
            "needs_background": "light"
          }
        }
      ]
    },
    {
      "cell_type": "markdown",
      "metadata": {
        "id": "2eDSwDlchJjG"
      },
      "source": [
        "# making predictions with the test data file"
      ]
    },
    {
      "cell_type": "code",
      "metadata": {
        "id": "U3RaroqwhJjH"
      },
      "source": [
        "p3_test_data=pd.read_csv('E:/ML Project/CE802_P3_Data/CE802_P3_Test.csv')"
      ],
      "execution_count": null,
      "outputs": []
    },
    {
      "cell_type": "code",
      "metadata": {
        "id": "zju_efbShJjH",
        "outputId": "3d16fbfe-f2ac-4ec7-8374-0e26dccfdabf"
      },
      "source": [
        "p3_test_data.head()"
      ],
      "execution_count": null,
      "outputs": [
        {
          "output_type": "execute_result",
          "data": {
            "text/html": [
              "<div>\n",
              "<style scoped>\n",
              "    .dataframe tbody tr th:only-of-type {\n",
              "        vertical-align: middle;\n",
              "    }\n",
              "\n",
              "    .dataframe tbody tr th {\n",
              "        vertical-align: top;\n",
              "    }\n",
              "\n",
              "    .dataframe thead th {\n",
              "        text-align: right;\n",
              "    }\n",
              "</style>\n",
              "<table border=\"1\" class=\"dataframe\">\n",
              "  <thead>\n",
              "    <tr style=\"text-align: right;\">\n",
              "      <th></th>\n",
              "      <th>F1</th>\n",
              "      <th>F2</th>\n",
              "      <th>F3</th>\n",
              "      <th>F4</th>\n",
              "      <th>F5</th>\n",
              "      <th>F6</th>\n",
              "      <th>F7</th>\n",
              "      <th>F8</th>\n",
              "      <th>F9</th>\n",
              "      <th>F10</th>\n",
              "      <th>F11</th>\n",
              "      <th>F12</th>\n",
              "      <th>F13</th>\n",
              "      <th>F14</th>\n",
              "      <th>F15</th>\n",
              "      <th>F16</th>\n",
              "      <th>Target</th>\n",
              "    </tr>\n",
              "  </thead>\n",
              "  <tbody>\n",
              "    <tr>\n",
              "      <th>0</th>\n",
              "      <td>-39.37</td>\n",
              "      <td>4.22</td>\n",
              "      <td>-4.05</td>\n",
              "      <td>Very high</td>\n",
              "      <td>UK</td>\n",
              "      <td>83.43</td>\n",
              "      <td>-209.02</td>\n",
              "      <td>101.94</td>\n",
              "      <td>-17.16</td>\n",
              "      <td>2</td>\n",
              "      <td>7.89</td>\n",
              "      <td>10</td>\n",
              "      <td>2373.57</td>\n",
              "      <td>13.11</td>\n",
              "      <td>30843.16</td>\n",
              "      <td>-962.72</td>\n",
              "      <td>NaN</td>\n",
              "    </tr>\n",
              "    <tr>\n",
              "      <th>1</th>\n",
              "      <td>-39.37</td>\n",
              "      <td>7.72</td>\n",
              "      <td>-3.48</td>\n",
              "      <td>Very low</td>\n",
              "      <td>Rest</td>\n",
              "      <td>48.30</td>\n",
              "      <td>86.62</td>\n",
              "      <td>107.56</td>\n",
              "      <td>-11.00</td>\n",
              "      <td>18</td>\n",
              "      <td>1.86</td>\n",
              "      <td>10</td>\n",
              "      <td>1475.76</td>\n",
              "      <td>11.71</td>\n",
              "      <td>15657.13</td>\n",
              "      <td>-305.24</td>\n",
              "      <td>NaN</td>\n",
              "    </tr>\n",
              "    <tr>\n",
              "      <th>2</th>\n",
              "      <td>16.25</td>\n",
              "      <td>7.08</td>\n",
              "      <td>-5.31</td>\n",
              "      <td>Very low</td>\n",
              "      <td>Europe</td>\n",
              "      <td>1.98</td>\n",
              "      <td>-267.34</td>\n",
              "      <td>23.33</td>\n",
              "      <td>-14.66</td>\n",
              "      <td>8</td>\n",
              "      <td>25.92</td>\n",
              "      <td>6</td>\n",
              "      <td>192.93</td>\n",
              "      <td>17.60</td>\n",
              "      <td>10765.05</td>\n",
              "      <td>-857.16</td>\n",
              "      <td>NaN</td>\n",
              "    </tr>\n",
              "    <tr>\n",
              "      <th>3</th>\n",
              "      <td>23.08</td>\n",
              "      <td>5.82</td>\n",
              "      <td>-5.91</td>\n",
              "      <td>Very low</td>\n",
              "      <td>UK</td>\n",
              "      <td>11.49</td>\n",
              "      <td>-196.52</td>\n",
              "      <td>115.19</td>\n",
              "      <td>-12.14</td>\n",
              "      <td>2</td>\n",
              "      <td>12.87</td>\n",
              "      <td>0</td>\n",
              "      <td>2779.23</td>\n",
              "      <td>13.59</td>\n",
              "      <td>14778.80</td>\n",
              "      <td>-798.06</td>\n",
              "      <td>NaN</td>\n",
              "    </tr>\n",
              "    <tr>\n",
              "      <th>4</th>\n",
              "      <td>-21.30</td>\n",
              "      <td>15.14</td>\n",
              "      <td>-4.02</td>\n",
              "      <td>Medium</td>\n",
              "      <td>USA</td>\n",
              "      <td>0.60</td>\n",
              "      <td>-80.36</td>\n",
              "      <td>75.42</td>\n",
              "      <td>-8.86</td>\n",
              "      <td>10</td>\n",
              "      <td>4.26</td>\n",
              "      <td>8</td>\n",
              "      <td>-441.42</td>\n",
              "      <td>13.62</td>\n",
              "      <td>16328.25</td>\n",
              "      <td>-832.93</td>\n",
              "      <td>NaN</td>\n",
              "    </tr>\n",
              "  </tbody>\n",
              "</table>\n",
              "</div>"
            ],
            "text/plain": [
              "      F1     F2    F3         F4      F5     F6      F7      F8     F9  F10  \\\n",
              "0 -39.37   4.22 -4.05  Very high      UK  83.43 -209.02  101.94 -17.16    2   \n",
              "1 -39.37   7.72 -3.48   Very low    Rest  48.30   86.62  107.56 -11.00   18   \n",
              "2  16.25   7.08 -5.31   Very low  Europe   1.98 -267.34   23.33 -14.66    8   \n",
              "3  23.08   5.82 -5.91   Very low      UK  11.49 -196.52  115.19 -12.14    2   \n",
              "4 -21.30  15.14 -4.02     Medium     USA   0.60  -80.36   75.42  -8.86   10   \n",
              "\n",
              "     F11  F12      F13    F14       F15     F16  Target  \n",
              "0   7.89   10  2373.57  13.11  30843.16 -962.72     NaN  \n",
              "1   1.86   10  1475.76  11.71  15657.13 -305.24     NaN  \n",
              "2  25.92    6   192.93  17.60  10765.05 -857.16     NaN  \n",
              "3  12.87    0  2779.23  13.59  14778.80 -798.06     NaN  \n",
              "4   4.26    8  -441.42  13.62  16328.25 -832.93     NaN  "
            ]
          },
          "metadata": {
            "tags": []
          },
          "execution_count": 159
        }
      ]
    },
    {
      "cell_type": "code",
      "metadata": {
        "id": "6SAJgGshhJjH"
      },
      "source": [
        "p3_test_data_orig=p3_test_data.copy()"
      ],
      "execution_count": null,
      "outputs": []
    },
    {
      "cell_type": "code",
      "metadata": {
        "id": "vccDlpPWhJjH",
        "outputId": "10b61bec-28d6-4ba2-e489-40b7d0511f2c"
      },
      "source": [
        "p3_test_data_orig.head()"
      ],
      "execution_count": null,
      "outputs": [
        {
          "output_type": "execute_result",
          "data": {
            "text/html": [
              "<div>\n",
              "<style scoped>\n",
              "    .dataframe tbody tr th:only-of-type {\n",
              "        vertical-align: middle;\n",
              "    }\n",
              "\n",
              "    .dataframe tbody tr th {\n",
              "        vertical-align: top;\n",
              "    }\n",
              "\n",
              "    .dataframe thead th {\n",
              "        text-align: right;\n",
              "    }\n",
              "</style>\n",
              "<table border=\"1\" class=\"dataframe\">\n",
              "  <thead>\n",
              "    <tr style=\"text-align: right;\">\n",
              "      <th></th>\n",
              "      <th>F1</th>\n",
              "      <th>F2</th>\n",
              "      <th>F3</th>\n",
              "      <th>F4</th>\n",
              "      <th>F5</th>\n",
              "      <th>F6</th>\n",
              "      <th>F7</th>\n",
              "      <th>F8</th>\n",
              "      <th>F9</th>\n",
              "      <th>F10</th>\n",
              "      <th>F11</th>\n",
              "      <th>F12</th>\n",
              "      <th>F13</th>\n",
              "      <th>F14</th>\n",
              "      <th>F15</th>\n",
              "      <th>F16</th>\n",
              "      <th>Target</th>\n",
              "    </tr>\n",
              "  </thead>\n",
              "  <tbody>\n",
              "    <tr>\n",
              "      <th>0</th>\n",
              "      <td>-39.37</td>\n",
              "      <td>4.22</td>\n",
              "      <td>-4.05</td>\n",
              "      <td>Very high</td>\n",
              "      <td>UK</td>\n",
              "      <td>83.43</td>\n",
              "      <td>-209.02</td>\n",
              "      <td>101.94</td>\n",
              "      <td>-17.16</td>\n",
              "      <td>2</td>\n",
              "      <td>7.89</td>\n",
              "      <td>10</td>\n",
              "      <td>2373.57</td>\n",
              "      <td>13.11</td>\n",
              "      <td>30843.16</td>\n",
              "      <td>-962.72</td>\n",
              "      <td>NaN</td>\n",
              "    </tr>\n",
              "    <tr>\n",
              "      <th>1</th>\n",
              "      <td>-39.37</td>\n",
              "      <td>7.72</td>\n",
              "      <td>-3.48</td>\n",
              "      <td>Very low</td>\n",
              "      <td>Rest</td>\n",
              "      <td>48.30</td>\n",
              "      <td>86.62</td>\n",
              "      <td>107.56</td>\n",
              "      <td>-11.00</td>\n",
              "      <td>18</td>\n",
              "      <td>1.86</td>\n",
              "      <td>10</td>\n",
              "      <td>1475.76</td>\n",
              "      <td>11.71</td>\n",
              "      <td>15657.13</td>\n",
              "      <td>-305.24</td>\n",
              "      <td>NaN</td>\n",
              "    </tr>\n",
              "    <tr>\n",
              "      <th>2</th>\n",
              "      <td>16.25</td>\n",
              "      <td>7.08</td>\n",
              "      <td>-5.31</td>\n",
              "      <td>Very low</td>\n",
              "      <td>Europe</td>\n",
              "      <td>1.98</td>\n",
              "      <td>-267.34</td>\n",
              "      <td>23.33</td>\n",
              "      <td>-14.66</td>\n",
              "      <td>8</td>\n",
              "      <td>25.92</td>\n",
              "      <td>6</td>\n",
              "      <td>192.93</td>\n",
              "      <td>17.60</td>\n",
              "      <td>10765.05</td>\n",
              "      <td>-857.16</td>\n",
              "      <td>NaN</td>\n",
              "    </tr>\n",
              "    <tr>\n",
              "      <th>3</th>\n",
              "      <td>23.08</td>\n",
              "      <td>5.82</td>\n",
              "      <td>-5.91</td>\n",
              "      <td>Very low</td>\n",
              "      <td>UK</td>\n",
              "      <td>11.49</td>\n",
              "      <td>-196.52</td>\n",
              "      <td>115.19</td>\n",
              "      <td>-12.14</td>\n",
              "      <td>2</td>\n",
              "      <td>12.87</td>\n",
              "      <td>0</td>\n",
              "      <td>2779.23</td>\n",
              "      <td>13.59</td>\n",
              "      <td>14778.80</td>\n",
              "      <td>-798.06</td>\n",
              "      <td>NaN</td>\n",
              "    </tr>\n",
              "    <tr>\n",
              "      <th>4</th>\n",
              "      <td>-21.30</td>\n",
              "      <td>15.14</td>\n",
              "      <td>-4.02</td>\n",
              "      <td>Medium</td>\n",
              "      <td>USA</td>\n",
              "      <td>0.60</td>\n",
              "      <td>-80.36</td>\n",
              "      <td>75.42</td>\n",
              "      <td>-8.86</td>\n",
              "      <td>10</td>\n",
              "      <td>4.26</td>\n",
              "      <td>8</td>\n",
              "      <td>-441.42</td>\n",
              "      <td>13.62</td>\n",
              "      <td>16328.25</td>\n",
              "      <td>-832.93</td>\n",
              "      <td>NaN</td>\n",
              "    </tr>\n",
              "  </tbody>\n",
              "</table>\n",
              "</div>"
            ],
            "text/plain": [
              "      F1     F2    F3         F4      F5     F6      F7      F8     F9  F10  \\\n",
              "0 -39.37   4.22 -4.05  Very high      UK  83.43 -209.02  101.94 -17.16    2   \n",
              "1 -39.37   7.72 -3.48   Very low    Rest  48.30   86.62  107.56 -11.00   18   \n",
              "2  16.25   7.08 -5.31   Very low  Europe   1.98 -267.34   23.33 -14.66    8   \n",
              "3  23.08   5.82 -5.91   Very low      UK  11.49 -196.52  115.19 -12.14    2   \n",
              "4 -21.30  15.14 -4.02     Medium     USA   0.60  -80.36   75.42  -8.86   10   \n",
              "\n",
              "     F11  F12      F13    F14       F15     F16  Target  \n",
              "0   7.89   10  2373.57  13.11  30843.16 -962.72     NaN  \n",
              "1   1.86   10  1475.76  11.71  15657.13 -305.24     NaN  \n",
              "2  25.92    6   192.93  17.60  10765.05 -857.16     NaN  \n",
              "3  12.87    0  2779.23  13.59  14778.80 -798.06     NaN  \n",
              "4   4.26    8  -441.42  13.62  16328.25 -832.93     NaN  "
            ]
          },
          "metadata": {
            "tags": []
          },
          "execution_count": 161
        }
      ]
    },
    {
      "cell_type": "code",
      "metadata": {
        "id": "D7ghowLwhJjH",
        "outputId": "db39e5f6-799b-4f65-9e72-15b65073438f"
      },
      "source": [
        "p3_test_data_orig.shape"
      ],
      "execution_count": null,
      "outputs": [
        {
          "output_type": "execute_result",
          "data": {
            "text/plain": [
              "(1500, 17)"
            ]
          },
          "metadata": {
            "tags": []
          },
          "execution_count": 162
        }
      ]
    },
    {
      "cell_type": "code",
      "metadata": {
        "id": "29G8z6adhJjI",
        "outputId": "ed9bc873-d637-4c55-fb11-71269e23d9a7"
      },
      "source": [
        "p3_test_data.isnull().sum()"
      ],
      "execution_count": null,
      "outputs": [
        {
          "output_type": "execute_result",
          "data": {
            "text/plain": [
              "F1           0\n",
              "F2           0\n",
              "F3           0\n",
              "F4           0\n",
              "F5           0\n",
              "F6           0\n",
              "F7           0\n",
              "F8           0\n",
              "F9           0\n",
              "F10          0\n",
              "F11          0\n",
              "F12          0\n",
              "F13          0\n",
              "F14          0\n",
              "F15          0\n",
              "F16          0\n",
              "Target    1500\n",
              "dtype: int64"
            ]
          },
          "metadata": {
            "tags": []
          },
          "execution_count": 163
        }
      ]
    },
    {
      "cell_type": "code",
      "metadata": {
        "id": "jkH3C7vyhJjI"
      },
      "source": [
        "#creating dummies to convert categorical columns to integer\n",
        "dummies1  = pd.get_dummies(p3_test_data['F4'])"
      ],
      "execution_count": null,
      "outputs": []
    },
    {
      "cell_type": "code",
      "metadata": {
        "id": "4CU7SFKehJjI"
      },
      "source": [
        "dummies1.drop(['Very low'], axis=1, inplace=True)"
      ],
      "execution_count": null,
      "outputs": []
    },
    {
      "cell_type": "code",
      "metadata": {
        "id": "L8DU_cevhJjI",
        "outputId": "37bac54d-d2c4-436b-8eb1-aa3be826c2e9"
      },
      "source": [
        "dummies1.head()"
      ],
      "execution_count": null,
      "outputs": [
        {
          "output_type": "execute_result",
          "data": {
            "text/html": [
              "<div>\n",
              "<style scoped>\n",
              "    .dataframe tbody tr th:only-of-type {\n",
              "        vertical-align: middle;\n",
              "    }\n",
              "\n",
              "    .dataframe tbody tr th {\n",
              "        vertical-align: top;\n",
              "    }\n",
              "\n",
              "    .dataframe thead th {\n",
              "        text-align: right;\n",
              "    }\n",
              "</style>\n",
              "<table border=\"1\" class=\"dataframe\">\n",
              "  <thead>\n",
              "    <tr style=\"text-align: right;\">\n",
              "      <th></th>\n",
              "      <th>High</th>\n",
              "      <th>Low</th>\n",
              "      <th>Medium</th>\n",
              "      <th>Very high</th>\n",
              "    </tr>\n",
              "  </thead>\n",
              "  <tbody>\n",
              "    <tr>\n",
              "      <th>0</th>\n",
              "      <td>0</td>\n",
              "      <td>0</td>\n",
              "      <td>0</td>\n",
              "      <td>1</td>\n",
              "    </tr>\n",
              "    <tr>\n",
              "      <th>1</th>\n",
              "      <td>0</td>\n",
              "      <td>0</td>\n",
              "      <td>0</td>\n",
              "      <td>0</td>\n",
              "    </tr>\n",
              "    <tr>\n",
              "      <th>2</th>\n",
              "      <td>0</td>\n",
              "      <td>0</td>\n",
              "      <td>0</td>\n",
              "      <td>0</td>\n",
              "    </tr>\n",
              "    <tr>\n",
              "      <th>3</th>\n",
              "      <td>0</td>\n",
              "      <td>0</td>\n",
              "      <td>0</td>\n",
              "      <td>0</td>\n",
              "    </tr>\n",
              "    <tr>\n",
              "      <th>4</th>\n",
              "      <td>0</td>\n",
              "      <td>0</td>\n",
              "      <td>1</td>\n",
              "      <td>0</td>\n",
              "    </tr>\n",
              "  </tbody>\n",
              "</table>\n",
              "</div>"
            ],
            "text/plain": [
              "   High  Low  Medium  Very high\n",
              "0     0    0       0          1\n",
              "1     0    0       0          0\n",
              "2     0    0       0          0\n",
              "3     0    0       0          0\n",
              "4     0    0       1          0"
            ]
          },
          "metadata": {
            "tags": []
          },
          "execution_count": 166
        }
      ]
    },
    {
      "cell_type": "code",
      "metadata": {
        "id": "JkYQPZdDhJjI"
      },
      "source": [
        "dummies2  = pd.get_dummies(p3_test_data['F5'])"
      ],
      "execution_count": null,
      "outputs": []
    },
    {
      "cell_type": "code",
      "metadata": {
        "id": "vToOFGvDhJjJ"
      },
      "source": [
        "dummies2.drop(['Europe'], axis=1, inplace=True)"
      ],
      "execution_count": null,
      "outputs": []
    },
    {
      "cell_type": "code",
      "metadata": {
        "id": "GwPnbCW3hJjJ",
        "outputId": "ea12439f-ad5a-4ab1-8daf-fb3dcababddf"
      },
      "source": [
        "dummies2.head()"
      ],
      "execution_count": null,
      "outputs": [
        {
          "output_type": "execute_result",
          "data": {
            "text/html": [
              "<div>\n",
              "<style scoped>\n",
              "    .dataframe tbody tr th:only-of-type {\n",
              "        vertical-align: middle;\n",
              "    }\n",
              "\n",
              "    .dataframe tbody tr th {\n",
              "        vertical-align: top;\n",
              "    }\n",
              "\n",
              "    .dataframe thead th {\n",
              "        text-align: right;\n",
              "    }\n",
              "</style>\n",
              "<table border=\"1\" class=\"dataframe\">\n",
              "  <thead>\n",
              "    <tr style=\"text-align: right;\">\n",
              "      <th></th>\n",
              "      <th>Rest</th>\n",
              "      <th>UK</th>\n",
              "      <th>USA</th>\n",
              "    </tr>\n",
              "  </thead>\n",
              "  <tbody>\n",
              "    <tr>\n",
              "      <th>0</th>\n",
              "      <td>0</td>\n",
              "      <td>1</td>\n",
              "      <td>0</td>\n",
              "    </tr>\n",
              "    <tr>\n",
              "      <th>1</th>\n",
              "      <td>1</td>\n",
              "      <td>0</td>\n",
              "      <td>0</td>\n",
              "    </tr>\n",
              "    <tr>\n",
              "      <th>2</th>\n",
              "      <td>0</td>\n",
              "      <td>0</td>\n",
              "      <td>0</td>\n",
              "    </tr>\n",
              "    <tr>\n",
              "      <th>3</th>\n",
              "      <td>0</td>\n",
              "      <td>1</td>\n",
              "      <td>0</td>\n",
              "    </tr>\n",
              "    <tr>\n",
              "      <th>4</th>\n",
              "      <td>0</td>\n",
              "      <td>0</td>\n",
              "      <td>1</td>\n",
              "    </tr>\n",
              "  </tbody>\n",
              "</table>\n",
              "</div>"
            ],
            "text/plain": [
              "   Rest  UK  USA\n",
              "0     0   1    0\n",
              "1     1   0    0\n",
              "2     0   0    0\n",
              "3     0   1    0\n",
              "4     0   0    1"
            ]
          },
          "metadata": {
            "tags": []
          },
          "execution_count": 169
        }
      ]
    },
    {
      "cell_type": "markdown",
      "metadata": {
        "id": "pU-vpu2ghJjJ"
      },
      "source": [
        "data normalization"
      ]
    },
    {
      "cell_type": "code",
      "metadata": {
        "id": "VWukqQNYhJjJ",
        "outputId": "b5bcf94a-37e1-467e-b947-6294b2162d20"
      },
      "source": [
        "#dropping the categorical columns\n",
        "p3_test_data=p3_test_data.drop(['F4','F5'],axis=1)\n",
        "p3_test_data.head(5)"
      ],
      "execution_count": null,
      "outputs": [
        {
          "output_type": "execute_result",
          "data": {
            "text/html": [
              "<div>\n",
              "<style scoped>\n",
              "    .dataframe tbody tr th:only-of-type {\n",
              "        vertical-align: middle;\n",
              "    }\n",
              "\n",
              "    .dataframe tbody tr th {\n",
              "        vertical-align: top;\n",
              "    }\n",
              "\n",
              "    .dataframe thead th {\n",
              "        text-align: right;\n",
              "    }\n",
              "</style>\n",
              "<table border=\"1\" class=\"dataframe\">\n",
              "  <thead>\n",
              "    <tr style=\"text-align: right;\">\n",
              "      <th></th>\n",
              "      <th>F1</th>\n",
              "      <th>F2</th>\n",
              "      <th>F3</th>\n",
              "      <th>F6</th>\n",
              "      <th>F7</th>\n",
              "      <th>F8</th>\n",
              "      <th>F9</th>\n",
              "      <th>F10</th>\n",
              "      <th>F11</th>\n",
              "      <th>F12</th>\n",
              "      <th>F13</th>\n",
              "      <th>F14</th>\n",
              "      <th>F15</th>\n",
              "      <th>F16</th>\n",
              "      <th>Target</th>\n",
              "    </tr>\n",
              "  </thead>\n",
              "  <tbody>\n",
              "    <tr>\n",
              "      <th>0</th>\n",
              "      <td>-39.37</td>\n",
              "      <td>4.22</td>\n",
              "      <td>-4.05</td>\n",
              "      <td>83.43</td>\n",
              "      <td>-209.02</td>\n",
              "      <td>101.94</td>\n",
              "      <td>-17.16</td>\n",
              "      <td>2</td>\n",
              "      <td>7.89</td>\n",
              "      <td>10</td>\n",
              "      <td>2373.57</td>\n",
              "      <td>13.11</td>\n",
              "      <td>30843.16</td>\n",
              "      <td>-962.72</td>\n",
              "      <td>NaN</td>\n",
              "    </tr>\n",
              "    <tr>\n",
              "      <th>1</th>\n",
              "      <td>-39.37</td>\n",
              "      <td>7.72</td>\n",
              "      <td>-3.48</td>\n",
              "      <td>48.30</td>\n",
              "      <td>86.62</td>\n",
              "      <td>107.56</td>\n",
              "      <td>-11.00</td>\n",
              "      <td>18</td>\n",
              "      <td>1.86</td>\n",
              "      <td>10</td>\n",
              "      <td>1475.76</td>\n",
              "      <td>11.71</td>\n",
              "      <td>15657.13</td>\n",
              "      <td>-305.24</td>\n",
              "      <td>NaN</td>\n",
              "    </tr>\n",
              "    <tr>\n",
              "      <th>2</th>\n",
              "      <td>16.25</td>\n",
              "      <td>7.08</td>\n",
              "      <td>-5.31</td>\n",
              "      <td>1.98</td>\n",
              "      <td>-267.34</td>\n",
              "      <td>23.33</td>\n",
              "      <td>-14.66</td>\n",
              "      <td>8</td>\n",
              "      <td>25.92</td>\n",
              "      <td>6</td>\n",
              "      <td>192.93</td>\n",
              "      <td>17.60</td>\n",
              "      <td>10765.05</td>\n",
              "      <td>-857.16</td>\n",
              "      <td>NaN</td>\n",
              "    </tr>\n",
              "    <tr>\n",
              "      <th>3</th>\n",
              "      <td>23.08</td>\n",
              "      <td>5.82</td>\n",
              "      <td>-5.91</td>\n",
              "      <td>11.49</td>\n",
              "      <td>-196.52</td>\n",
              "      <td>115.19</td>\n",
              "      <td>-12.14</td>\n",
              "      <td>2</td>\n",
              "      <td>12.87</td>\n",
              "      <td>0</td>\n",
              "      <td>2779.23</td>\n",
              "      <td>13.59</td>\n",
              "      <td>14778.80</td>\n",
              "      <td>-798.06</td>\n",
              "      <td>NaN</td>\n",
              "    </tr>\n",
              "    <tr>\n",
              "      <th>4</th>\n",
              "      <td>-21.30</td>\n",
              "      <td>15.14</td>\n",
              "      <td>-4.02</td>\n",
              "      <td>0.60</td>\n",
              "      <td>-80.36</td>\n",
              "      <td>75.42</td>\n",
              "      <td>-8.86</td>\n",
              "      <td>10</td>\n",
              "      <td>4.26</td>\n",
              "      <td>8</td>\n",
              "      <td>-441.42</td>\n",
              "      <td>13.62</td>\n",
              "      <td>16328.25</td>\n",
              "      <td>-832.93</td>\n",
              "      <td>NaN</td>\n",
              "    </tr>\n",
              "  </tbody>\n",
              "</table>\n",
              "</div>"
            ],
            "text/plain": [
              "      F1     F2    F3     F6      F7      F8     F9  F10    F11  F12      F13  \\\n",
              "0 -39.37   4.22 -4.05  83.43 -209.02  101.94 -17.16    2   7.89   10  2373.57   \n",
              "1 -39.37   7.72 -3.48  48.30   86.62  107.56 -11.00   18   1.86   10  1475.76   \n",
              "2  16.25   7.08 -5.31   1.98 -267.34   23.33 -14.66    8  25.92    6   192.93   \n",
              "3  23.08   5.82 -5.91  11.49 -196.52  115.19 -12.14    2  12.87    0  2779.23   \n",
              "4 -21.30  15.14 -4.02   0.60  -80.36   75.42  -8.86   10   4.26    8  -441.42   \n",
              "\n",
              "     F14       F15     F16  Target  \n",
              "0  13.11  30843.16 -962.72     NaN  \n",
              "1  11.71  15657.13 -305.24     NaN  \n",
              "2  17.60  10765.05 -857.16     NaN  \n",
              "3  13.59  14778.80 -798.06     NaN  \n",
              "4  13.62  16328.25 -832.93     NaN  "
            ]
          },
          "metadata": {
            "tags": []
          },
          "execution_count": 170
        }
      ]
    },
    {
      "cell_type": "code",
      "metadata": {
        "id": "7gL5bGbBhJjJ",
        "outputId": "a49bb9e5-67dc-44e2-8d71-4fffb239ec85"
      },
      "source": [
        "#storing the feature columns\n",
        "X_normalised_test= p3_test_data.drop([\"Target\"],axis=1)\n",
        "X_normalised_test.head(5)"
      ],
      "execution_count": null,
      "outputs": [
        {
          "output_type": "execute_result",
          "data": {
            "text/html": [
              "<div>\n",
              "<style scoped>\n",
              "    .dataframe tbody tr th:only-of-type {\n",
              "        vertical-align: middle;\n",
              "    }\n",
              "\n",
              "    .dataframe tbody tr th {\n",
              "        vertical-align: top;\n",
              "    }\n",
              "\n",
              "    .dataframe thead th {\n",
              "        text-align: right;\n",
              "    }\n",
              "</style>\n",
              "<table border=\"1\" class=\"dataframe\">\n",
              "  <thead>\n",
              "    <tr style=\"text-align: right;\">\n",
              "      <th></th>\n",
              "      <th>F1</th>\n",
              "      <th>F2</th>\n",
              "      <th>F3</th>\n",
              "      <th>F6</th>\n",
              "      <th>F7</th>\n",
              "      <th>F8</th>\n",
              "      <th>F9</th>\n",
              "      <th>F10</th>\n",
              "      <th>F11</th>\n",
              "      <th>F12</th>\n",
              "      <th>F13</th>\n",
              "      <th>F14</th>\n",
              "      <th>F15</th>\n",
              "      <th>F16</th>\n",
              "    </tr>\n",
              "  </thead>\n",
              "  <tbody>\n",
              "    <tr>\n",
              "      <th>0</th>\n",
              "      <td>-39.37</td>\n",
              "      <td>4.22</td>\n",
              "      <td>-4.05</td>\n",
              "      <td>83.43</td>\n",
              "      <td>-209.02</td>\n",
              "      <td>101.94</td>\n",
              "      <td>-17.16</td>\n",
              "      <td>2</td>\n",
              "      <td>7.89</td>\n",
              "      <td>10</td>\n",
              "      <td>2373.57</td>\n",
              "      <td>13.11</td>\n",
              "      <td>30843.16</td>\n",
              "      <td>-962.72</td>\n",
              "    </tr>\n",
              "    <tr>\n",
              "      <th>1</th>\n",
              "      <td>-39.37</td>\n",
              "      <td>7.72</td>\n",
              "      <td>-3.48</td>\n",
              "      <td>48.30</td>\n",
              "      <td>86.62</td>\n",
              "      <td>107.56</td>\n",
              "      <td>-11.00</td>\n",
              "      <td>18</td>\n",
              "      <td>1.86</td>\n",
              "      <td>10</td>\n",
              "      <td>1475.76</td>\n",
              "      <td>11.71</td>\n",
              "      <td>15657.13</td>\n",
              "      <td>-305.24</td>\n",
              "    </tr>\n",
              "    <tr>\n",
              "      <th>2</th>\n",
              "      <td>16.25</td>\n",
              "      <td>7.08</td>\n",
              "      <td>-5.31</td>\n",
              "      <td>1.98</td>\n",
              "      <td>-267.34</td>\n",
              "      <td>23.33</td>\n",
              "      <td>-14.66</td>\n",
              "      <td>8</td>\n",
              "      <td>25.92</td>\n",
              "      <td>6</td>\n",
              "      <td>192.93</td>\n",
              "      <td>17.60</td>\n",
              "      <td>10765.05</td>\n",
              "      <td>-857.16</td>\n",
              "    </tr>\n",
              "    <tr>\n",
              "      <th>3</th>\n",
              "      <td>23.08</td>\n",
              "      <td>5.82</td>\n",
              "      <td>-5.91</td>\n",
              "      <td>11.49</td>\n",
              "      <td>-196.52</td>\n",
              "      <td>115.19</td>\n",
              "      <td>-12.14</td>\n",
              "      <td>2</td>\n",
              "      <td>12.87</td>\n",
              "      <td>0</td>\n",
              "      <td>2779.23</td>\n",
              "      <td>13.59</td>\n",
              "      <td>14778.80</td>\n",
              "      <td>-798.06</td>\n",
              "    </tr>\n",
              "    <tr>\n",
              "      <th>4</th>\n",
              "      <td>-21.30</td>\n",
              "      <td>15.14</td>\n",
              "      <td>-4.02</td>\n",
              "      <td>0.60</td>\n",
              "      <td>-80.36</td>\n",
              "      <td>75.42</td>\n",
              "      <td>-8.86</td>\n",
              "      <td>10</td>\n",
              "      <td>4.26</td>\n",
              "      <td>8</td>\n",
              "      <td>-441.42</td>\n",
              "      <td>13.62</td>\n",
              "      <td>16328.25</td>\n",
              "      <td>-832.93</td>\n",
              "    </tr>\n",
              "  </tbody>\n",
              "</table>\n",
              "</div>"
            ],
            "text/plain": [
              "      F1     F2    F3     F6      F7      F8     F9  F10    F11  F12      F13  \\\n",
              "0 -39.37   4.22 -4.05  83.43 -209.02  101.94 -17.16    2   7.89   10  2373.57   \n",
              "1 -39.37   7.72 -3.48  48.30   86.62  107.56 -11.00   18   1.86   10  1475.76   \n",
              "2  16.25   7.08 -5.31   1.98 -267.34   23.33 -14.66    8  25.92    6   192.93   \n",
              "3  23.08   5.82 -5.91  11.49 -196.52  115.19 -12.14    2  12.87    0  2779.23   \n",
              "4 -21.30  15.14 -4.02   0.60  -80.36   75.42  -8.86   10   4.26    8  -441.42   \n",
              "\n",
              "     F14       F15     F16  \n",
              "0  13.11  30843.16 -962.72  \n",
              "1  11.71  15657.13 -305.24  \n",
              "2  17.60  10765.05 -857.16  \n",
              "3  13.59  14778.80 -798.06  \n",
              "4  13.62  16328.25 -832.93  "
            ]
          },
          "metadata": {
            "tags": []
          },
          "execution_count": 171
        }
      ]
    },
    {
      "cell_type": "code",
      "metadata": {
        "id": "jNGAqHrOhJjK",
        "outputId": "e674f6c2-59e3-4afb-dff0-e1cbb2fb9b45"
      },
      "source": [
        "#creating a list of headers \n",
        "col_names_xt = list(X_normalised_test.columns)\n",
        "col_names_xt"
      ],
      "execution_count": null,
      "outputs": [
        {
          "output_type": "execute_result",
          "data": {
            "text/plain": [
              "['F1',\n",
              " 'F2',\n",
              " 'F3',\n",
              " 'F6',\n",
              " 'F7',\n",
              " 'F8',\n",
              " 'F9',\n",
              " 'F10',\n",
              " 'F11',\n",
              " 'F12',\n",
              " 'F13',\n",
              " 'F14',\n",
              " 'F15',\n",
              " 'F16']"
            ]
          },
          "metadata": {
            "tags": []
          },
          "execution_count": 172
        }
      ]
    },
    {
      "cell_type": "code",
      "metadata": {
        "id": "738hYot3hJjK"
      },
      "source": [
        "from sklearn.preprocessing import MinMaxScaler\n",
        "# perform a robust scaler transform of the dataset\n",
        "trans_xt = MinMaxScaler()\n",
        "#trans_y = MinMaxScaler()\n",
        "data_xt = trans_xt.fit_transform(X_normalised_test)\n",
        "#data_y = trans_y.fit_transform(Y_normalised)\n",
        "#we are normalizing only the X as we are doing the prediction"
      ],
      "execution_count": null,
      "outputs": []
    },
    {
      "cell_type": "code",
      "metadata": {
        "id": "9ujsEeSuhJjK",
        "outputId": "2565d5b8-f3ab-4ccc-c15a-5c98373c1673"
      },
      "source": [
        "data_xt"
      ],
      "execution_count": null,
      "outputs": [
        {
          "output_type": "execute_result",
          "data": {
            "text/plain": [
              "array([[0.34342504, 0.1152968 , 0.60527578, ..., 0.44453642, 0.78971403,\n",
              "        0.43431714],\n",
              "       [0.34342504, 0.21518265, 0.61438849, ..., 0.41556291, 0.45080377,\n",
              "        0.73667074],\n",
              "       [0.64465988, 0.19691781, 0.58513189, ..., 0.53745861, 0.34162605,\n",
              "        0.48286074],\n",
              "       ...,\n",
              "       [0.3864818 , 0.1152968 , 0.65611511, ..., 0.44101821, 0.46280486,\n",
              "        0.43609683],\n",
              "       [0.24176776, 0.58333333, 0.3736211 , ..., 0.50972682, 0.55372105,\n",
              "        0.49844105],\n",
              "       [0.39731369, 0.16666667, 0.68393285, ..., 0.38555464, 0.43048124,\n",
              "        0.61804795]])"
            ]
          },
          "metadata": {
            "tags": []
          },
          "execution_count": 174
        }
      ]
    },
    {
      "cell_type": "code",
      "metadata": {
        "id": "FH2qGmN0hJjL",
        "outputId": "974616bc-648b-41f4-9e96-d6c4da96d50d"
      },
      "source": [
        "#converting the array into a dataframe\n",
        "dataset_t = pd.DataFrame(data_xt,columns=col_names_xt)\n",
        "dataset_t.head(5)"
      ],
      "execution_count": null,
      "outputs": [
        {
          "output_type": "execute_result",
          "data": {
            "text/html": [
              "<div>\n",
              "<style scoped>\n",
              "    .dataframe tbody tr th:only-of-type {\n",
              "        vertical-align: middle;\n",
              "    }\n",
              "\n",
              "    .dataframe tbody tr th {\n",
              "        vertical-align: top;\n",
              "    }\n",
              "\n",
              "    .dataframe thead th {\n",
              "        text-align: right;\n",
              "    }\n",
              "</style>\n",
              "<table border=\"1\" class=\"dataframe\">\n",
              "  <thead>\n",
              "    <tr style=\"text-align: right;\">\n",
              "      <th></th>\n",
              "      <th>F1</th>\n",
              "      <th>F2</th>\n",
              "      <th>F3</th>\n",
              "      <th>F6</th>\n",
              "      <th>F7</th>\n",
              "      <th>F8</th>\n",
              "      <th>F9</th>\n",
              "      <th>F10</th>\n",
              "      <th>F11</th>\n",
              "      <th>F12</th>\n",
              "      <th>F13</th>\n",
              "      <th>F14</th>\n",
              "      <th>F15</th>\n",
              "      <th>F16</th>\n",
              "    </tr>\n",
              "  </thead>\n",
              "  <tbody>\n",
              "    <tr>\n",
              "      <th>0</th>\n",
              "      <td>0.343425</td>\n",
              "      <td>0.115297</td>\n",
              "      <td>0.605276</td>\n",
              "      <td>0.000768</td>\n",
              "      <td>0.453514</td>\n",
              "      <td>0.512124</td>\n",
              "      <td>0.405405</td>\n",
              "      <td>0.1</td>\n",
              "      <td>0.144209</td>\n",
              "      <td>0.454545</td>\n",
              "      <td>0.794248</td>\n",
              "      <td>0.444536</td>\n",
              "      <td>0.789714</td>\n",
              "      <td>0.434317</td>\n",
              "    </tr>\n",
              "    <tr>\n",
              "      <th>1</th>\n",
              "      <td>0.343425</td>\n",
              "      <td>0.215183</td>\n",
              "      <td>0.614388</td>\n",
              "      <td>0.000444</td>\n",
              "      <td>0.823851</td>\n",
              "      <td>0.538898</td>\n",
              "      <td>0.571892</td>\n",
              "      <td>0.9</td>\n",
              "      <td>0.032294</td>\n",
              "      <td>0.454545</td>\n",
              "      <td>0.646896</td>\n",
              "      <td>0.415563</td>\n",
              "      <td>0.450804</td>\n",
              "      <td>0.736671</td>\n",
              "    </tr>\n",
              "    <tr>\n",
              "      <th>2</th>\n",
              "      <td>0.644660</td>\n",
              "      <td>0.196918</td>\n",
              "      <td>0.585132</td>\n",
              "      <td>0.000018</td>\n",
              "      <td>0.380458</td>\n",
              "      <td>0.137630</td>\n",
              "      <td>0.472973</td>\n",
              "      <td>0.4</td>\n",
              "      <td>0.478842</td>\n",
              "      <td>0.272727</td>\n",
              "      <td>0.436354</td>\n",
              "      <td>0.537459</td>\n",
              "      <td>0.341626</td>\n",
              "      <td>0.482861</td>\n",
              "    </tr>\n",
              "    <tr>\n",
              "      <th>3</th>\n",
              "      <td>0.681651</td>\n",
              "      <td>0.160959</td>\n",
              "      <td>0.575540</td>\n",
              "      <td>0.000106</td>\n",
              "      <td>0.469172</td>\n",
              "      <td>0.575247</td>\n",
              "      <td>0.541081</td>\n",
              "      <td>0.1</td>\n",
              "      <td>0.236637</td>\n",
              "      <td>0.000000</td>\n",
              "      <td>0.860826</td>\n",
              "      <td>0.454470</td>\n",
              "      <td>0.431202</td>\n",
              "      <td>0.510039</td>\n",
              "    </tr>\n",
              "    <tr>\n",
              "      <th>4</th>\n",
              "      <td>0.441291</td>\n",
              "      <td>0.426941</td>\n",
              "      <td>0.605755</td>\n",
              "      <td>0.000006</td>\n",
              "      <td>0.614681</td>\n",
              "      <td>0.385784</td>\n",
              "      <td>0.629730</td>\n",
              "      <td>0.5</td>\n",
              "      <td>0.076837</td>\n",
              "      <td>0.363636</td>\n",
              "      <td>0.332242</td>\n",
              "      <td>0.455091</td>\n",
              "      <td>0.465781</td>\n",
              "      <td>0.494003</td>\n",
              "    </tr>\n",
              "  </tbody>\n",
              "</table>\n",
              "</div>"
            ],
            "text/plain": [
              "         F1        F2        F3        F6        F7        F8        F9  F10  \\\n",
              "0  0.343425  0.115297  0.605276  0.000768  0.453514  0.512124  0.405405  0.1   \n",
              "1  0.343425  0.215183  0.614388  0.000444  0.823851  0.538898  0.571892  0.9   \n",
              "2  0.644660  0.196918  0.585132  0.000018  0.380458  0.137630  0.472973  0.4   \n",
              "3  0.681651  0.160959  0.575540  0.000106  0.469172  0.575247  0.541081  0.1   \n",
              "4  0.441291  0.426941  0.605755  0.000006  0.614681  0.385784  0.629730  0.5   \n",
              "\n",
              "        F11       F12       F13       F14       F15       F16  \n",
              "0  0.144209  0.454545  0.794248  0.444536  0.789714  0.434317  \n",
              "1  0.032294  0.454545  0.646896  0.415563  0.450804  0.736671  \n",
              "2  0.478842  0.272727  0.436354  0.537459  0.341626  0.482861  \n",
              "3  0.236637  0.000000  0.860826  0.454470  0.431202  0.510039  \n",
              "4  0.076837  0.363636  0.332242  0.455091  0.465781  0.494003  "
            ]
          },
          "metadata": {
            "tags": []
          },
          "execution_count": 175
        }
      ]
    },
    {
      "cell_type": "code",
      "metadata": {
        "id": "GGpXPi1LhJjL",
        "outputId": "00a6e171-7a84-4f2d-89a2-5a506277f0a8"
      },
      "source": [
        "#combining the normilized data with the dummies\n",
        "norm_df_test=pd.concat([dataset_t,dummies1,dummies2],axis=1)\n",
        "norm_df_test.head(5)"
      ],
      "execution_count": null,
      "outputs": [
        {
          "output_type": "execute_result",
          "data": {
            "text/html": [
              "<div>\n",
              "<style scoped>\n",
              "    .dataframe tbody tr th:only-of-type {\n",
              "        vertical-align: middle;\n",
              "    }\n",
              "\n",
              "    .dataframe tbody tr th {\n",
              "        vertical-align: top;\n",
              "    }\n",
              "\n",
              "    .dataframe thead th {\n",
              "        text-align: right;\n",
              "    }\n",
              "</style>\n",
              "<table border=\"1\" class=\"dataframe\">\n",
              "  <thead>\n",
              "    <tr style=\"text-align: right;\">\n",
              "      <th></th>\n",
              "      <th>F1</th>\n",
              "      <th>F2</th>\n",
              "      <th>F3</th>\n",
              "      <th>F6</th>\n",
              "      <th>F7</th>\n",
              "      <th>F8</th>\n",
              "      <th>F9</th>\n",
              "      <th>F10</th>\n",
              "      <th>F11</th>\n",
              "      <th>F12</th>\n",
              "      <th>...</th>\n",
              "      <th>F14</th>\n",
              "      <th>F15</th>\n",
              "      <th>F16</th>\n",
              "      <th>High</th>\n",
              "      <th>Low</th>\n",
              "      <th>Medium</th>\n",
              "      <th>Very high</th>\n",
              "      <th>Rest</th>\n",
              "      <th>UK</th>\n",
              "      <th>USA</th>\n",
              "    </tr>\n",
              "  </thead>\n",
              "  <tbody>\n",
              "    <tr>\n",
              "      <th>0</th>\n",
              "      <td>0.343425</td>\n",
              "      <td>0.115297</td>\n",
              "      <td>0.605276</td>\n",
              "      <td>0.000768</td>\n",
              "      <td>0.453514</td>\n",
              "      <td>0.512124</td>\n",
              "      <td>0.405405</td>\n",
              "      <td>0.1</td>\n",
              "      <td>0.144209</td>\n",
              "      <td>0.454545</td>\n",
              "      <td>...</td>\n",
              "      <td>0.444536</td>\n",
              "      <td>0.789714</td>\n",
              "      <td>0.434317</td>\n",
              "      <td>0</td>\n",
              "      <td>0</td>\n",
              "      <td>0</td>\n",
              "      <td>1</td>\n",
              "      <td>0</td>\n",
              "      <td>1</td>\n",
              "      <td>0</td>\n",
              "    </tr>\n",
              "    <tr>\n",
              "      <th>1</th>\n",
              "      <td>0.343425</td>\n",
              "      <td>0.215183</td>\n",
              "      <td>0.614388</td>\n",
              "      <td>0.000444</td>\n",
              "      <td>0.823851</td>\n",
              "      <td>0.538898</td>\n",
              "      <td>0.571892</td>\n",
              "      <td>0.9</td>\n",
              "      <td>0.032294</td>\n",
              "      <td>0.454545</td>\n",
              "      <td>...</td>\n",
              "      <td>0.415563</td>\n",
              "      <td>0.450804</td>\n",
              "      <td>0.736671</td>\n",
              "      <td>0</td>\n",
              "      <td>0</td>\n",
              "      <td>0</td>\n",
              "      <td>0</td>\n",
              "      <td>1</td>\n",
              "      <td>0</td>\n",
              "      <td>0</td>\n",
              "    </tr>\n",
              "    <tr>\n",
              "      <th>2</th>\n",
              "      <td>0.644660</td>\n",
              "      <td>0.196918</td>\n",
              "      <td>0.585132</td>\n",
              "      <td>0.000018</td>\n",
              "      <td>0.380458</td>\n",
              "      <td>0.137630</td>\n",
              "      <td>0.472973</td>\n",
              "      <td>0.4</td>\n",
              "      <td>0.478842</td>\n",
              "      <td>0.272727</td>\n",
              "      <td>...</td>\n",
              "      <td>0.537459</td>\n",
              "      <td>0.341626</td>\n",
              "      <td>0.482861</td>\n",
              "      <td>0</td>\n",
              "      <td>0</td>\n",
              "      <td>0</td>\n",
              "      <td>0</td>\n",
              "      <td>0</td>\n",
              "      <td>0</td>\n",
              "      <td>0</td>\n",
              "    </tr>\n",
              "    <tr>\n",
              "      <th>3</th>\n",
              "      <td>0.681651</td>\n",
              "      <td>0.160959</td>\n",
              "      <td>0.575540</td>\n",
              "      <td>0.000106</td>\n",
              "      <td>0.469172</td>\n",
              "      <td>0.575247</td>\n",
              "      <td>0.541081</td>\n",
              "      <td>0.1</td>\n",
              "      <td>0.236637</td>\n",
              "      <td>0.000000</td>\n",
              "      <td>...</td>\n",
              "      <td>0.454470</td>\n",
              "      <td>0.431202</td>\n",
              "      <td>0.510039</td>\n",
              "      <td>0</td>\n",
              "      <td>0</td>\n",
              "      <td>0</td>\n",
              "      <td>0</td>\n",
              "      <td>0</td>\n",
              "      <td>1</td>\n",
              "      <td>0</td>\n",
              "    </tr>\n",
              "    <tr>\n",
              "      <th>4</th>\n",
              "      <td>0.441291</td>\n",
              "      <td>0.426941</td>\n",
              "      <td>0.605755</td>\n",
              "      <td>0.000006</td>\n",
              "      <td>0.614681</td>\n",
              "      <td>0.385784</td>\n",
              "      <td>0.629730</td>\n",
              "      <td>0.5</td>\n",
              "      <td>0.076837</td>\n",
              "      <td>0.363636</td>\n",
              "      <td>...</td>\n",
              "      <td>0.455091</td>\n",
              "      <td>0.465781</td>\n",
              "      <td>0.494003</td>\n",
              "      <td>0</td>\n",
              "      <td>0</td>\n",
              "      <td>1</td>\n",
              "      <td>0</td>\n",
              "      <td>0</td>\n",
              "      <td>0</td>\n",
              "      <td>1</td>\n",
              "    </tr>\n",
              "  </tbody>\n",
              "</table>\n",
              "<p>5 rows × 21 columns</p>\n",
              "</div>"
            ],
            "text/plain": [
              "         F1        F2        F3        F6        F7        F8        F9  F10  \\\n",
              "0  0.343425  0.115297  0.605276  0.000768  0.453514  0.512124  0.405405  0.1   \n",
              "1  0.343425  0.215183  0.614388  0.000444  0.823851  0.538898  0.571892  0.9   \n",
              "2  0.644660  0.196918  0.585132  0.000018  0.380458  0.137630  0.472973  0.4   \n",
              "3  0.681651  0.160959  0.575540  0.000106  0.469172  0.575247  0.541081  0.1   \n",
              "4  0.441291  0.426941  0.605755  0.000006  0.614681  0.385784  0.629730  0.5   \n",
              "\n",
              "        F11       F12  ...       F14       F15       F16  High  Low  Medium  \\\n",
              "0  0.144209  0.454545  ...  0.444536  0.789714  0.434317     0    0       0   \n",
              "1  0.032294  0.454545  ...  0.415563  0.450804  0.736671     0    0       0   \n",
              "2  0.478842  0.272727  ...  0.537459  0.341626  0.482861     0    0       0   \n",
              "3  0.236637  0.000000  ...  0.454470  0.431202  0.510039     0    0       0   \n",
              "4  0.076837  0.363636  ...  0.455091  0.465781  0.494003     0    0       1   \n",
              "\n",
              "   Very high  Rest  UK  USA  \n",
              "0          1     0   1    0  \n",
              "1          0     1   0    0  \n",
              "2          0     0   0    0  \n",
              "3          0     0   1    0  \n",
              "4          0     0   0    1  \n",
              "\n",
              "[5 rows x 21 columns]"
            ]
          },
          "metadata": {
            "tags": []
          },
          "execution_count": 176
        }
      ]
    },
    {
      "cell_type": "code",
      "metadata": {
        "id": "k1v4f-N-hJjL"
      },
      "source": [
        "X_norm_test= norm_df_test.drop([\"F3\"],axis=1)# F3 is dropped as part of feature selection since it has the least correlation"
      ],
      "execution_count": null,
      "outputs": []
    },
    {
      "cell_type": "code",
      "metadata": {
        "id": "xUEDGM9ShJjL",
        "outputId": "3707841d-38a1-41f7-ee59-f1c73dc6bad6"
      },
      "source": [
        "X_norm_test.head(5)"
      ],
      "execution_count": null,
      "outputs": [
        {
          "output_type": "execute_result",
          "data": {
            "text/html": [
              "<div>\n",
              "<style scoped>\n",
              "    .dataframe tbody tr th:only-of-type {\n",
              "        vertical-align: middle;\n",
              "    }\n",
              "\n",
              "    .dataframe tbody tr th {\n",
              "        vertical-align: top;\n",
              "    }\n",
              "\n",
              "    .dataframe thead th {\n",
              "        text-align: right;\n",
              "    }\n",
              "</style>\n",
              "<table border=\"1\" class=\"dataframe\">\n",
              "  <thead>\n",
              "    <tr style=\"text-align: right;\">\n",
              "      <th></th>\n",
              "      <th>F1</th>\n",
              "      <th>F2</th>\n",
              "      <th>F6</th>\n",
              "      <th>F7</th>\n",
              "      <th>F8</th>\n",
              "      <th>F9</th>\n",
              "      <th>F10</th>\n",
              "      <th>F11</th>\n",
              "      <th>F12</th>\n",
              "      <th>F13</th>\n",
              "      <th>F14</th>\n",
              "      <th>F15</th>\n",
              "      <th>F16</th>\n",
              "      <th>High</th>\n",
              "      <th>Low</th>\n",
              "      <th>Medium</th>\n",
              "      <th>Very high</th>\n",
              "      <th>Rest</th>\n",
              "      <th>UK</th>\n",
              "      <th>USA</th>\n",
              "    </tr>\n",
              "  </thead>\n",
              "  <tbody>\n",
              "    <tr>\n",
              "      <th>0</th>\n",
              "      <td>0.343425</td>\n",
              "      <td>0.115297</td>\n",
              "      <td>0.000768</td>\n",
              "      <td>0.453514</td>\n",
              "      <td>0.512124</td>\n",
              "      <td>0.405405</td>\n",
              "      <td>0.1</td>\n",
              "      <td>0.144209</td>\n",
              "      <td>0.454545</td>\n",
              "      <td>0.794248</td>\n",
              "      <td>0.444536</td>\n",
              "      <td>0.789714</td>\n",
              "      <td>0.434317</td>\n",
              "      <td>0</td>\n",
              "      <td>0</td>\n",
              "      <td>0</td>\n",
              "      <td>1</td>\n",
              "      <td>0</td>\n",
              "      <td>1</td>\n",
              "      <td>0</td>\n",
              "    </tr>\n",
              "    <tr>\n",
              "      <th>1</th>\n",
              "      <td>0.343425</td>\n",
              "      <td>0.215183</td>\n",
              "      <td>0.000444</td>\n",
              "      <td>0.823851</td>\n",
              "      <td>0.538898</td>\n",
              "      <td>0.571892</td>\n",
              "      <td>0.9</td>\n",
              "      <td>0.032294</td>\n",
              "      <td>0.454545</td>\n",
              "      <td>0.646896</td>\n",
              "      <td>0.415563</td>\n",
              "      <td>0.450804</td>\n",
              "      <td>0.736671</td>\n",
              "      <td>0</td>\n",
              "      <td>0</td>\n",
              "      <td>0</td>\n",
              "      <td>0</td>\n",
              "      <td>1</td>\n",
              "      <td>0</td>\n",
              "      <td>0</td>\n",
              "    </tr>\n",
              "    <tr>\n",
              "      <th>2</th>\n",
              "      <td>0.644660</td>\n",
              "      <td>0.196918</td>\n",
              "      <td>0.000018</td>\n",
              "      <td>0.380458</td>\n",
              "      <td>0.137630</td>\n",
              "      <td>0.472973</td>\n",
              "      <td>0.4</td>\n",
              "      <td>0.478842</td>\n",
              "      <td>0.272727</td>\n",
              "      <td>0.436354</td>\n",
              "      <td>0.537459</td>\n",
              "      <td>0.341626</td>\n",
              "      <td>0.482861</td>\n",
              "      <td>0</td>\n",
              "      <td>0</td>\n",
              "      <td>0</td>\n",
              "      <td>0</td>\n",
              "      <td>0</td>\n",
              "      <td>0</td>\n",
              "      <td>0</td>\n",
              "    </tr>\n",
              "    <tr>\n",
              "      <th>3</th>\n",
              "      <td>0.681651</td>\n",
              "      <td>0.160959</td>\n",
              "      <td>0.000106</td>\n",
              "      <td>0.469172</td>\n",
              "      <td>0.575247</td>\n",
              "      <td>0.541081</td>\n",
              "      <td>0.1</td>\n",
              "      <td>0.236637</td>\n",
              "      <td>0.000000</td>\n",
              "      <td>0.860826</td>\n",
              "      <td>0.454470</td>\n",
              "      <td>0.431202</td>\n",
              "      <td>0.510039</td>\n",
              "      <td>0</td>\n",
              "      <td>0</td>\n",
              "      <td>0</td>\n",
              "      <td>0</td>\n",
              "      <td>0</td>\n",
              "      <td>1</td>\n",
              "      <td>0</td>\n",
              "    </tr>\n",
              "    <tr>\n",
              "      <th>4</th>\n",
              "      <td>0.441291</td>\n",
              "      <td>0.426941</td>\n",
              "      <td>0.000006</td>\n",
              "      <td>0.614681</td>\n",
              "      <td>0.385784</td>\n",
              "      <td>0.629730</td>\n",
              "      <td>0.5</td>\n",
              "      <td>0.076837</td>\n",
              "      <td>0.363636</td>\n",
              "      <td>0.332242</td>\n",
              "      <td>0.455091</td>\n",
              "      <td>0.465781</td>\n",
              "      <td>0.494003</td>\n",
              "      <td>0</td>\n",
              "      <td>0</td>\n",
              "      <td>1</td>\n",
              "      <td>0</td>\n",
              "      <td>0</td>\n",
              "      <td>0</td>\n",
              "      <td>1</td>\n",
              "    </tr>\n",
              "  </tbody>\n",
              "</table>\n",
              "</div>"
            ],
            "text/plain": [
              "         F1        F2        F6        F7        F8        F9  F10       F11  \\\n",
              "0  0.343425  0.115297  0.000768  0.453514  0.512124  0.405405  0.1  0.144209   \n",
              "1  0.343425  0.215183  0.000444  0.823851  0.538898  0.571892  0.9  0.032294   \n",
              "2  0.644660  0.196918  0.000018  0.380458  0.137630  0.472973  0.4  0.478842   \n",
              "3  0.681651  0.160959  0.000106  0.469172  0.575247  0.541081  0.1  0.236637   \n",
              "4  0.441291  0.426941  0.000006  0.614681  0.385784  0.629730  0.5  0.076837   \n",
              "\n",
              "        F12       F13       F14       F15       F16  High  Low  Medium  \\\n",
              "0  0.454545  0.794248  0.444536  0.789714  0.434317     0    0       0   \n",
              "1  0.454545  0.646896  0.415563  0.450804  0.736671     0    0       0   \n",
              "2  0.272727  0.436354  0.537459  0.341626  0.482861     0    0       0   \n",
              "3  0.000000  0.860826  0.454470  0.431202  0.510039     0    0       0   \n",
              "4  0.363636  0.332242  0.455091  0.465781  0.494003     0    0       1   \n",
              "\n",
              "   Very high  Rest  UK  USA  \n",
              "0          1     0   1    0  \n",
              "1          0     1   0    0  \n",
              "2          0     0   0    0  \n",
              "3          0     0   1    0  \n",
              "4          0     0   0    1  "
            ]
          },
          "metadata": {
            "tags": []
          },
          "execution_count": 178
        }
      ]
    },
    {
      "cell_type": "code",
      "metadata": {
        "id": "sUfj-k9MhJjM",
        "outputId": "780485f1-0442-4d5f-e6a2-9ee3c09638c9"
      },
      "source": [
        "X_norm_test.shape"
      ],
      "execution_count": null,
      "outputs": [
        {
          "output_type": "execute_result",
          "data": {
            "text/plain": [
              "(1500, 20)"
            ]
          },
          "metadata": {
            "tags": []
          },
          "execution_count": 179
        }
      ]
    },
    {
      "cell_type": "code",
      "metadata": {
        "id": "cLCI0fcxhJjM",
        "outputId": "58fb608c-2efe-4137-955c-737177f4655f"
      },
      "source": [
        "model_t"
      ],
      "execution_count": null,
      "outputs": [
        {
          "output_type": "execute_result",
          "data": {
            "text/plain": [
              "SVR(C=1000, gamma=0.01)"
            ]
          },
          "metadata": {
            "tags": []
          },
          "execution_count": 180
        }
      ]
    },
    {
      "cell_type": "code",
      "metadata": {
        "id": "bKDBu8vyhJjM"
      },
      "source": [
        "Y_pred=model_t.predict(X_norm_test)"
      ],
      "execution_count": null,
      "outputs": []
    },
    {
      "cell_type": "code",
      "metadata": {
        "id": "gzvrxKEKhJjM",
        "outputId": "1f3a7ec1-2de3-45e1-9c8e-8cdbfe12af73"
      },
      "source": [
        "Y_pred.shape"
      ],
      "execution_count": null,
      "outputs": [
        {
          "output_type": "execute_result",
          "data": {
            "text/plain": [
              "(1500,)"
            ]
          },
          "metadata": {
            "tags": []
          },
          "execution_count": 182
        }
      ]
    },
    {
      "cell_type": "code",
      "metadata": {
        "id": "KeF4m25thJjM"
      },
      "source": [
        "Y_pred=Y_pred.reshape(-1,1)"
      ],
      "execution_count": null,
      "outputs": []
    },
    {
      "cell_type": "code",
      "metadata": {
        "id": "BAxUwcI1hJjM",
        "outputId": "51170337-bc46-44e5-c15e-a85e8fe959bc"
      },
      "source": [
        "Y_pred"
      ],
      "execution_count": null,
      "outputs": [
        {
          "output_type": "execute_result",
          "data": {
            "text/plain": [
              "array([[0.47526202],\n",
              "       [0.23314396],\n",
              "       [0.14405761],\n",
              "       ...,\n",
              "       [0.0830776 ],\n",
              "       [1.15518878],\n",
              "       [0.28037241]])"
            ]
          },
          "metadata": {
            "tags": []
          },
          "execution_count": 184
        }
      ]
    },
    {
      "cell_type": "code",
      "metadata": {
        "id": "EmiWFrg1hJjN"
      },
      "source": [
        "#inversing the normilization\n",
        "y_inv = trans_y.inverse_transform(Y_pred)"
      ],
      "execution_count": null,
      "outputs": []
    },
    {
      "cell_type": "code",
      "metadata": {
        "id": "KzE_8rsohJjN",
        "outputId": "169310f6-21fb-47c3-de86-ab8ad554dc91"
      },
      "source": [
        "y_inv.shape"
      ],
      "execution_count": null,
      "outputs": [
        {
          "output_type": "execute_result",
          "data": {
            "text/plain": [
              "(1500, 1)"
            ]
          },
          "metadata": {
            "tags": []
          },
          "execution_count": 186
        }
      ]
    },
    {
      "cell_type": "code",
      "metadata": {
        "id": "l1h-yhYDhJjN",
        "outputId": "4af317d9-0a10-414e-9333-f8c39aaede95"
      },
      "source": [
        "y_inv"
      ],
      "execution_count": null,
      "outputs": [
        {
          "output_type": "execute_result",
          "data": {
            "text/plain": [
              "array([[1882.04233857],\n",
              "       [ 923.2524085 ],\n",
              "       [ 570.46955919],\n",
              "       ...,\n",
              "       [ 328.98812437],\n",
              "       [4574.55910421],\n",
              "       [1110.27754036]])"
            ]
          },
          "metadata": {
            "tags": []
          },
          "execution_count": 187
        }
      ]
    },
    {
      "cell_type": "code",
      "metadata": {
        "id": "81ENTJZzhJjN"
      },
      "source": [
        "#storing the predictions made in the original test file\n",
        "p3_test_data_orig.loc[:,'Target']=y_inv"
      ],
      "execution_count": null,
      "outputs": []
    },
    {
      "cell_type": "code",
      "metadata": {
        "id": "a_lNGNLLhJjO",
        "outputId": "197ead98-8ded-41e3-992d-74e5efc9c1bd"
      },
      "source": [
        "p3_test_data_orig.head()"
      ],
      "execution_count": null,
      "outputs": [
        {
          "output_type": "execute_result",
          "data": {
            "text/html": [
              "<div>\n",
              "<style scoped>\n",
              "    .dataframe tbody tr th:only-of-type {\n",
              "        vertical-align: middle;\n",
              "    }\n",
              "\n",
              "    .dataframe tbody tr th {\n",
              "        vertical-align: top;\n",
              "    }\n",
              "\n",
              "    .dataframe thead th {\n",
              "        text-align: right;\n",
              "    }\n",
              "</style>\n",
              "<table border=\"1\" class=\"dataframe\">\n",
              "  <thead>\n",
              "    <tr style=\"text-align: right;\">\n",
              "      <th></th>\n",
              "      <th>F1</th>\n",
              "      <th>F2</th>\n",
              "      <th>F3</th>\n",
              "      <th>F4</th>\n",
              "      <th>F5</th>\n",
              "      <th>F6</th>\n",
              "      <th>F7</th>\n",
              "      <th>F8</th>\n",
              "      <th>F9</th>\n",
              "      <th>F10</th>\n",
              "      <th>F11</th>\n",
              "      <th>F12</th>\n",
              "      <th>F13</th>\n",
              "      <th>F14</th>\n",
              "      <th>F15</th>\n",
              "      <th>F16</th>\n",
              "      <th>Target</th>\n",
              "    </tr>\n",
              "  </thead>\n",
              "  <tbody>\n",
              "    <tr>\n",
              "      <th>0</th>\n",
              "      <td>-39.37</td>\n",
              "      <td>4.22</td>\n",
              "      <td>-4.05</td>\n",
              "      <td>Very high</td>\n",
              "      <td>UK</td>\n",
              "      <td>83.43</td>\n",
              "      <td>-209.02</td>\n",
              "      <td>101.94</td>\n",
              "      <td>-17.16</td>\n",
              "      <td>2</td>\n",
              "      <td>7.89</td>\n",
              "      <td>10</td>\n",
              "      <td>2373.57</td>\n",
              "      <td>13.11</td>\n",
              "      <td>30843.16</td>\n",
              "      <td>-962.72</td>\n",
              "      <td>1882.042339</td>\n",
              "    </tr>\n",
              "    <tr>\n",
              "      <th>1</th>\n",
              "      <td>-39.37</td>\n",
              "      <td>7.72</td>\n",
              "      <td>-3.48</td>\n",
              "      <td>Very low</td>\n",
              "      <td>Rest</td>\n",
              "      <td>48.30</td>\n",
              "      <td>86.62</td>\n",
              "      <td>107.56</td>\n",
              "      <td>-11.00</td>\n",
              "      <td>18</td>\n",
              "      <td>1.86</td>\n",
              "      <td>10</td>\n",
              "      <td>1475.76</td>\n",
              "      <td>11.71</td>\n",
              "      <td>15657.13</td>\n",
              "      <td>-305.24</td>\n",
              "      <td>923.252408</td>\n",
              "    </tr>\n",
              "    <tr>\n",
              "      <th>2</th>\n",
              "      <td>16.25</td>\n",
              "      <td>7.08</td>\n",
              "      <td>-5.31</td>\n",
              "      <td>Very low</td>\n",
              "      <td>Europe</td>\n",
              "      <td>1.98</td>\n",
              "      <td>-267.34</td>\n",
              "      <td>23.33</td>\n",
              "      <td>-14.66</td>\n",
              "      <td>8</td>\n",
              "      <td>25.92</td>\n",
              "      <td>6</td>\n",
              "      <td>192.93</td>\n",
              "      <td>17.60</td>\n",
              "      <td>10765.05</td>\n",
              "      <td>-857.16</td>\n",
              "      <td>570.469559</td>\n",
              "    </tr>\n",
              "    <tr>\n",
              "      <th>3</th>\n",
              "      <td>23.08</td>\n",
              "      <td>5.82</td>\n",
              "      <td>-5.91</td>\n",
              "      <td>Very low</td>\n",
              "      <td>UK</td>\n",
              "      <td>11.49</td>\n",
              "      <td>-196.52</td>\n",
              "      <td>115.19</td>\n",
              "      <td>-12.14</td>\n",
              "      <td>2</td>\n",
              "      <td>12.87</td>\n",
              "      <td>0</td>\n",
              "      <td>2779.23</td>\n",
              "      <td>13.59</td>\n",
              "      <td>14778.80</td>\n",
              "      <td>-798.06</td>\n",
              "      <td>1438.506710</td>\n",
              "    </tr>\n",
              "    <tr>\n",
              "      <th>4</th>\n",
              "      <td>-21.30</td>\n",
              "      <td>15.14</td>\n",
              "      <td>-4.02</td>\n",
              "      <td>Medium</td>\n",
              "      <td>USA</td>\n",
              "      <td>0.60</td>\n",
              "      <td>-80.36</td>\n",
              "      <td>75.42</td>\n",
              "      <td>-8.86</td>\n",
              "      <td>10</td>\n",
              "      <td>4.26</td>\n",
              "      <td>8</td>\n",
              "      <td>-441.42</td>\n",
              "      <td>13.62</td>\n",
              "      <td>16328.25</td>\n",
              "      <td>-832.93</td>\n",
              "      <td>764.868141</td>\n",
              "    </tr>\n",
              "  </tbody>\n",
              "</table>\n",
              "</div>"
            ],
            "text/plain": [
              "      F1     F2    F3         F4      F5     F6      F7      F8     F9  F10  \\\n",
              "0 -39.37   4.22 -4.05  Very high      UK  83.43 -209.02  101.94 -17.16    2   \n",
              "1 -39.37   7.72 -3.48   Very low    Rest  48.30   86.62  107.56 -11.00   18   \n",
              "2  16.25   7.08 -5.31   Very low  Europe   1.98 -267.34   23.33 -14.66    8   \n",
              "3  23.08   5.82 -5.91   Very low      UK  11.49 -196.52  115.19 -12.14    2   \n",
              "4 -21.30  15.14 -4.02     Medium     USA   0.60  -80.36   75.42  -8.86   10   \n",
              "\n",
              "     F11  F12      F13    F14       F15     F16       Target  \n",
              "0   7.89   10  2373.57  13.11  30843.16 -962.72  1882.042339  \n",
              "1   1.86   10  1475.76  11.71  15657.13 -305.24   923.252408  \n",
              "2  25.92    6   192.93  17.60  10765.05 -857.16   570.469559  \n",
              "3  12.87    0  2779.23  13.59  14778.80 -798.06  1438.506710  \n",
              "4   4.26    8  -441.42  13.62  16328.25 -832.93   764.868141  "
            ]
          },
          "metadata": {
            "tags": []
          },
          "execution_count": 156
        }
      ]
    },
    {
      "cell_type": "code",
      "metadata": {
        "id": "2CmMuvhphJjO"
      },
      "source": [
        "#exporting the test file with predictions \n",
        "p3_test_data_orig.to_csv('E:/ML Project/CE802_P3_Test.csv',index=False)"
      ],
      "execution_count": null,
      "outputs": []
    },
    {
      "cell_type": "code",
      "metadata": {
        "id": "04knhAB1hJjO"
      },
      "source": [
        ""
      ],
      "execution_count": null,
      "outputs": []
    }
  ]
}